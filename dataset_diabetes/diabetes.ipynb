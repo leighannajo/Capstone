{
 "cells": [
  {
   "cell_type": "code",
   "execution_count": 1,
   "metadata": {},
   "outputs": [],
   "source": [
    "import pandas as pd\n",
    "pd.set_option('max_columns', 0)\n",
    "import numpy as np\n",
    "\n",
    "import matplotlib.pyplot as plt\n",
    "import seaborn as sns\n",
    "sns.set()\n",
    "\n",
    "import warnings\n",
    "warnings.filterwarnings('ignore')\n",
    "\n",
    "import functions as fun\n",
    "import csv\n",
    "import pickle\n",
    "\n",
    "import scipy.stats as stats\n",
    "from sklearn.model_selection import train_test_split"
   ]
  },
  {
   "cell_type": "markdown",
   "metadata": {},
   "source": [
    "Target ideas -->  A1c and diabetic meds changed? or new prescribed?  A1c results for diabetes or no?  Readmissions?"
   ]
  },
  {
   "cell_type": "code",
   "execution_count": 2,
   "metadata": {},
   "outputs": [],
   "source": [
    "%load_ext autoreload\n",
    "%autoreload"
   ]
  },
  {
   "cell_type": "code",
   "execution_count": 3,
   "metadata": {},
   "outputs": [],
   "source": [
    "%reload_ext autoreload"
   ]
  },
  {
   "cell_type": "markdown",
   "metadata": {},
   "source": [
    "# Load in and explore data:"
   ]
  },
  {
   "cell_type": "markdown",
   "metadata": {},
   "source": [
    "- race: Caucasian, Asian, African American, Hispanic, and other\n",
    "- age: 10 year intervals\n",
    "- gender: male, female, and unknown/invalid\n",
    "- weight: in pounds\n",
    "- admission type: in admission_dict (emergency, urgent, elective, etc) (9 unique)\n",
    "- discharge disposition: discharge_dict (discharged to home, expired, transferred, etc) (29 unique)\n",
    "- admission source: ad_source dict (physician referral, ER, transfer, etc)(21 unique)\n",
    "- time in hospital: admission - discharge (days)\n",
    "- payer code: patient insurance (BCBS, Medicare, self-pay, etc) (23 unique)\n",
    "- medical specialty = specialty of admitting physician (84 unique)\n",
    "- num of lab procedures: labs during the encounter\n",
    "- num of procedures: procedures excluding labs during encounter\n",
    "- num of meds: number of unique generic meds given during encounter\n",
    "- num of outpatient visits: in year preceding the encounter\n",
    "- num of inpatient visits: in year preceding the encounter\n",
    "- diag 1: primary ICD9\n",
    "- diag 2: secondary \n",
    "- diag 3: additional secondary\n",
    "- num of diag: num of patient diagnosis in system\n",
    "- glucose serum test result: range of result of test or none if not measured\n",
    "- A1c test: none = taken elsewhere within month/days?, normal, >8%, >7% over 7 but not over 8\n",
    "- change of meds: change or no change if diabetic meds were changed during encounter\n",
    "- diabetes meds: yes or no if new diabetic meds prescribed\n",
    "- 24 generic medication features: \n",
    "                                up if dosage was increased\n",
    "                                down if dosage was decreased\n",
    "                                   steady if no change in dosage\n",
    "                                   no if drug was not prescribed\n",
    "- readmitted: days to readmission if any (no if not) <30 and >30"
   ]
  },
  {
   "cell_type": "code",
   "execution_count": 4,
   "metadata": {},
   "outputs": [
    {
     "data": {
      "text/html": [
       "<div>\n",
       "<style scoped>\n",
       "    .dataframe tbody tr th:only-of-type {\n",
       "        vertical-align: middle;\n",
       "    }\n",
       "\n",
       "    .dataframe tbody tr th {\n",
       "        vertical-align: top;\n",
       "    }\n",
       "\n",
       "    .dataframe thead th {\n",
       "        text-align: right;\n",
       "    }\n",
       "</style>\n",
       "<table border=\"1\" class=\"dataframe\">\n",
       "  <thead>\n",
       "    <tr style=\"text-align: right;\">\n",
       "      <th></th>\n",
       "      <th>encounter_id</th>\n",
       "      <th>patient_nbr</th>\n",
       "      <th>race</th>\n",
       "      <th>gender</th>\n",
       "      <th>age</th>\n",
       "      <th>weight</th>\n",
       "      <th>admission_type_id</th>\n",
       "      <th>discharge_disposition_id</th>\n",
       "      <th>admission_source_id</th>\n",
       "      <th>time_in_hospital</th>\n",
       "      <th>payer_code</th>\n",
       "      <th>medical_specialty</th>\n",
       "      <th>num_lab_procedures</th>\n",
       "      <th>num_procedures</th>\n",
       "      <th>num_medications</th>\n",
       "      <th>number_outpatient</th>\n",
       "      <th>number_emergency</th>\n",
       "      <th>number_inpatient</th>\n",
       "      <th>diag_1</th>\n",
       "      <th>diag_2</th>\n",
       "      <th>diag_3</th>\n",
       "      <th>number_diagnoses</th>\n",
       "      <th>max_glu_serum</th>\n",
       "      <th>A1Cresult</th>\n",
       "      <th>metformin</th>\n",
       "      <th>repaglinide</th>\n",
       "      <th>nateglinide</th>\n",
       "      <th>chlorpropamide</th>\n",
       "      <th>glimepiride</th>\n",
       "      <th>acetohexamide</th>\n",
       "      <th>glipizide</th>\n",
       "      <th>glyburide</th>\n",
       "      <th>tolbutamide</th>\n",
       "      <th>pioglitazone</th>\n",
       "      <th>rosiglitazone</th>\n",
       "      <th>acarbose</th>\n",
       "      <th>miglitol</th>\n",
       "      <th>troglitazone</th>\n",
       "      <th>tolazamide</th>\n",
       "      <th>examide</th>\n",
       "      <th>citoglipton</th>\n",
       "      <th>insulin</th>\n",
       "      <th>glyburide-metformin</th>\n",
       "      <th>glipizide-metformin</th>\n",
       "      <th>glimepiride-pioglitazone</th>\n",
       "      <th>metformin-rosiglitazone</th>\n",
       "      <th>metformin-pioglitazone</th>\n",
       "      <th>change</th>\n",
       "      <th>diabetesMed</th>\n",
       "      <th>readmitted</th>\n",
       "    </tr>\n",
       "  </thead>\n",
       "  <tbody>\n",
       "    <tr>\n",
       "      <th>0</th>\n",
       "      <td>2278392</td>\n",
       "      <td>8222157</td>\n",
       "      <td>Caucasian</td>\n",
       "      <td>Female</td>\n",
       "      <td>[0-10)</td>\n",
       "      <td>unknown</td>\n",
       "      <td>6</td>\n",
       "      <td>25</td>\n",
       "      <td>1</td>\n",
       "      <td>1</td>\n",
       "      <td>unknown</td>\n",
       "      <td>Pediatrics-Endocrinology</td>\n",
       "      <td>41</td>\n",
       "      <td>0</td>\n",
       "      <td>1</td>\n",
       "      <td>0</td>\n",
       "      <td>0</td>\n",
       "      <td>0</td>\n",
       "      <td>250.83</td>\n",
       "      <td>unknown</td>\n",
       "      <td>unknown</td>\n",
       "      <td>1</td>\n",
       "      <td>None</td>\n",
       "      <td>None</td>\n",
       "      <td>No</td>\n",
       "      <td>No</td>\n",
       "      <td>No</td>\n",
       "      <td>No</td>\n",
       "      <td>No</td>\n",
       "      <td>No</td>\n",
       "      <td>No</td>\n",
       "      <td>No</td>\n",
       "      <td>No</td>\n",
       "      <td>No</td>\n",
       "      <td>No</td>\n",
       "      <td>No</td>\n",
       "      <td>No</td>\n",
       "      <td>No</td>\n",
       "      <td>No</td>\n",
       "      <td>No</td>\n",
       "      <td>No</td>\n",
       "      <td>No</td>\n",
       "      <td>No</td>\n",
       "      <td>No</td>\n",
       "      <td>No</td>\n",
       "      <td>No</td>\n",
       "      <td>No</td>\n",
       "      <td>No</td>\n",
       "      <td>No</td>\n",
       "      <td>NO</td>\n",
       "    </tr>\n",
       "    <tr>\n",
       "      <th>1</th>\n",
       "      <td>149190</td>\n",
       "      <td>55629189</td>\n",
       "      <td>Caucasian</td>\n",
       "      <td>Female</td>\n",
       "      <td>[10-20)</td>\n",
       "      <td>unknown</td>\n",
       "      <td>1</td>\n",
       "      <td>1</td>\n",
       "      <td>7</td>\n",
       "      <td>3</td>\n",
       "      <td>unknown</td>\n",
       "      <td>unknown</td>\n",
       "      <td>59</td>\n",
       "      <td>0</td>\n",
       "      <td>18</td>\n",
       "      <td>0</td>\n",
       "      <td>0</td>\n",
       "      <td>0</td>\n",
       "      <td>276</td>\n",
       "      <td>250.01</td>\n",
       "      <td>255</td>\n",
       "      <td>9</td>\n",
       "      <td>None</td>\n",
       "      <td>None</td>\n",
       "      <td>No</td>\n",
       "      <td>No</td>\n",
       "      <td>No</td>\n",
       "      <td>No</td>\n",
       "      <td>No</td>\n",
       "      <td>No</td>\n",
       "      <td>No</td>\n",
       "      <td>No</td>\n",
       "      <td>No</td>\n",
       "      <td>No</td>\n",
       "      <td>No</td>\n",
       "      <td>No</td>\n",
       "      <td>No</td>\n",
       "      <td>No</td>\n",
       "      <td>No</td>\n",
       "      <td>No</td>\n",
       "      <td>No</td>\n",
       "      <td>Up</td>\n",
       "      <td>No</td>\n",
       "      <td>No</td>\n",
       "      <td>No</td>\n",
       "      <td>No</td>\n",
       "      <td>No</td>\n",
       "      <td>Ch</td>\n",
       "      <td>Yes</td>\n",
       "      <td>&gt;30</td>\n",
       "    </tr>\n",
       "    <tr>\n",
       "      <th>2</th>\n",
       "      <td>64410</td>\n",
       "      <td>86047875</td>\n",
       "      <td>AfricanAmerican</td>\n",
       "      <td>Female</td>\n",
       "      <td>[20-30)</td>\n",
       "      <td>unknown</td>\n",
       "      <td>1</td>\n",
       "      <td>1</td>\n",
       "      <td>7</td>\n",
       "      <td>2</td>\n",
       "      <td>unknown</td>\n",
       "      <td>unknown</td>\n",
       "      <td>11</td>\n",
       "      <td>5</td>\n",
       "      <td>13</td>\n",
       "      <td>2</td>\n",
       "      <td>0</td>\n",
       "      <td>1</td>\n",
       "      <td>648</td>\n",
       "      <td>250</td>\n",
       "      <td>V27</td>\n",
       "      <td>6</td>\n",
       "      <td>None</td>\n",
       "      <td>None</td>\n",
       "      <td>No</td>\n",
       "      <td>No</td>\n",
       "      <td>No</td>\n",
       "      <td>No</td>\n",
       "      <td>No</td>\n",
       "      <td>No</td>\n",
       "      <td>Steady</td>\n",
       "      <td>No</td>\n",
       "      <td>No</td>\n",
       "      <td>No</td>\n",
       "      <td>No</td>\n",
       "      <td>No</td>\n",
       "      <td>No</td>\n",
       "      <td>No</td>\n",
       "      <td>No</td>\n",
       "      <td>No</td>\n",
       "      <td>No</td>\n",
       "      <td>No</td>\n",
       "      <td>No</td>\n",
       "      <td>No</td>\n",
       "      <td>No</td>\n",
       "      <td>No</td>\n",
       "      <td>No</td>\n",
       "      <td>No</td>\n",
       "      <td>Yes</td>\n",
       "      <td>NO</td>\n",
       "    </tr>\n",
       "    <tr>\n",
       "      <th>3</th>\n",
       "      <td>500364</td>\n",
       "      <td>82442376</td>\n",
       "      <td>Caucasian</td>\n",
       "      <td>Male</td>\n",
       "      <td>[30-40)</td>\n",
       "      <td>unknown</td>\n",
       "      <td>1</td>\n",
       "      <td>1</td>\n",
       "      <td>7</td>\n",
       "      <td>2</td>\n",
       "      <td>unknown</td>\n",
       "      <td>unknown</td>\n",
       "      <td>44</td>\n",
       "      <td>1</td>\n",
       "      <td>16</td>\n",
       "      <td>0</td>\n",
       "      <td>0</td>\n",
       "      <td>0</td>\n",
       "      <td>8</td>\n",
       "      <td>250.43</td>\n",
       "      <td>403</td>\n",
       "      <td>7</td>\n",
       "      <td>None</td>\n",
       "      <td>None</td>\n",
       "      <td>No</td>\n",
       "      <td>No</td>\n",
       "      <td>No</td>\n",
       "      <td>No</td>\n",
       "      <td>No</td>\n",
       "      <td>No</td>\n",
       "      <td>No</td>\n",
       "      <td>No</td>\n",
       "      <td>No</td>\n",
       "      <td>No</td>\n",
       "      <td>No</td>\n",
       "      <td>No</td>\n",
       "      <td>No</td>\n",
       "      <td>No</td>\n",
       "      <td>No</td>\n",
       "      <td>No</td>\n",
       "      <td>No</td>\n",
       "      <td>Up</td>\n",
       "      <td>No</td>\n",
       "      <td>No</td>\n",
       "      <td>No</td>\n",
       "      <td>No</td>\n",
       "      <td>No</td>\n",
       "      <td>Ch</td>\n",
       "      <td>Yes</td>\n",
       "      <td>NO</td>\n",
       "    </tr>\n",
       "    <tr>\n",
       "      <th>4</th>\n",
       "      <td>16680</td>\n",
       "      <td>42519267</td>\n",
       "      <td>Caucasian</td>\n",
       "      <td>Male</td>\n",
       "      <td>[40-50)</td>\n",
       "      <td>unknown</td>\n",
       "      <td>1</td>\n",
       "      <td>1</td>\n",
       "      <td>7</td>\n",
       "      <td>1</td>\n",
       "      <td>unknown</td>\n",
       "      <td>unknown</td>\n",
       "      <td>51</td>\n",
       "      <td>0</td>\n",
       "      <td>8</td>\n",
       "      <td>0</td>\n",
       "      <td>0</td>\n",
       "      <td>0</td>\n",
       "      <td>197</td>\n",
       "      <td>157</td>\n",
       "      <td>250</td>\n",
       "      <td>5</td>\n",
       "      <td>None</td>\n",
       "      <td>None</td>\n",
       "      <td>No</td>\n",
       "      <td>No</td>\n",
       "      <td>No</td>\n",
       "      <td>No</td>\n",
       "      <td>No</td>\n",
       "      <td>No</td>\n",
       "      <td>Steady</td>\n",
       "      <td>No</td>\n",
       "      <td>No</td>\n",
       "      <td>No</td>\n",
       "      <td>No</td>\n",
       "      <td>No</td>\n",
       "      <td>No</td>\n",
       "      <td>No</td>\n",
       "      <td>No</td>\n",
       "      <td>No</td>\n",
       "      <td>No</td>\n",
       "      <td>Steady</td>\n",
       "      <td>No</td>\n",
       "      <td>No</td>\n",
       "      <td>No</td>\n",
       "      <td>No</td>\n",
       "      <td>No</td>\n",
       "      <td>Ch</td>\n",
       "      <td>Yes</td>\n",
       "      <td>NO</td>\n",
       "    </tr>\n",
       "  </tbody>\n",
       "</table>\n",
       "</div>"
      ],
      "text/plain": [
       "   encounter_id  patient_nbr             race  ... change diabetesMed readmitted\n",
       "0       2278392      8222157        Caucasian  ...     No          No         NO\n",
       "1        149190     55629189        Caucasian  ...     Ch         Yes        >30\n",
       "2         64410     86047875  AfricanAmerican  ...     No         Yes         NO\n",
       "3        500364     82442376        Caucasian  ...     Ch         Yes         NO\n",
       "4         16680     42519267        Caucasian  ...     Ch         Yes         NO\n",
       "\n",
       "[5 rows x 50 columns]"
      ]
     },
     "execution_count": 4,
     "metadata": {},
     "output_type": "execute_result"
    }
   ],
   "source": [
    "df = pd.read_csv('next_diabetes.csv')\n",
    "df.head()"
   ]
  },
  {
   "cell_type": "code",
   "execution_count": 5,
   "metadata": {},
   "outputs": [
    {
     "data": {
      "text/html": [
       "<div>\n",
       "<style scoped>\n",
       "    .dataframe tbody tr th:only-of-type {\n",
       "        vertical-align: middle;\n",
       "    }\n",
       "\n",
       "    .dataframe tbody tr th {\n",
       "        vertical-align: top;\n",
       "    }\n",
       "\n",
       "    .dataframe thead th {\n",
       "        text-align: right;\n",
       "    }\n",
       "</style>\n",
       "<table border=\"1\" class=\"dataframe\">\n",
       "  <thead>\n",
       "    <tr style=\"text-align: right;\">\n",
       "      <th></th>\n",
       "      <th>Total</th>\n",
       "      <th>Percent</th>\n",
       "    </tr>\n",
       "  </thead>\n",
       "  <tbody>\n",
       "  </tbody>\n",
       "</table>\n",
       "</div>"
      ],
      "text/plain": [
       "Empty DataFrame\n",
       "Columns: [Total, Percent]\n",
       "Index: []"
      ]
     },
     "execution_count": 5,
     "metadata": {},
     "output_type": "execute_result"
    }
   ],
   "source": [
    "fun.missing_data(df)"
   ]
  },
  {
   "cell_type": "code",
   "execution_count": 6,
   "metadata": {},
   "outputs": [
    {
     "data": {
      "text/plain": [
       "(101766, 50)"
      ]
     },
     "execution_count": 6,
     "metadata": {},
     "output_type": "execute_result"
    }
   ],
   "source": [
    "df.shape"
   ]
  },
  {
   "cell_type": "code",
   "execution_count": 7,
   "metadata": {},
   "outputs": [],
   "source": [
    "df.drop(['encounter_id','patient_nbr'], axis=1, inplace=True)"
   ]
  },
  {
   "cell_type": "code",
   "execution_count": 8,
   "metadata": {},
   "outputs": [],
   "source": [
    "num_cols = df.select_dtypes('int').columns"
   ]
  },
  {
   "cell_type": "markdown",
   "metadata": {},
   "source": [
    "# One-Hot Categorical Encoder:"
   ]
  },
  {
   "cell_type": "code",
   "execution_count": 9,
   "metadata": {},
   "outputs": [],
   "source": [
    "df['readmitted_target'] = df['readmitted']\n",
    "df.readmitted_target.replace({'>30':1, '<30':1, 'NO':0}, inplace=True)"
   ]
  },
  {
   "cell_type": "code",
   "execution_count": 10,
   "metadata": {},
   "outputs": [],
   "source": [
    "# cat_cols = df.select_dtypes('O').columns"
   ]
  },
  {
   "cell_type": "code",
   "execution_count": 11,
   "metadata": {},
   "outputs": [],
   "source": [
    "# cat_cols"
   ]
  },
  {
   "cell_type": "code",
   "execution_count": 12,
   "metadata": {},
   "outputs": [],
   "source": [
    "# df.info()\n",
    "# variables = ['race', 'gender', 'age', 'weight', 'admission_type_id',\n",
    "#        'discharge_disposition_id', 'admission_source_id', 'payer_code',\n",
    "#        'medical_specialty', 'diag_1', 'diag_2', 'diag_3', 'max_glu_serum',\n",
    "#        'A1Cresult', 'metformin', 'repaglinide', 'nateglinide',\n",
    "#        'chlorpropamide', 'glimepiride', 'acetohexamide', 'glipizide',\n",
    "#        'glyburide', 'tolbutamide', 'pioglitazone', 'rosiglitazone', 'acarbose',\n",
    "#        'miglitol', 'troglitazone', 'tolazamide', 'examide', 'citoglipton',\n",
    "#        'insulin', 'glyburide-metformin', 'glipizide-metformin',\n",
    "#        'glimepiride-pioglitazone', 'metformin-rosiglitazone',\n",
    "#        'metformin-pioglitazone', 'change', 'diabetesMed']"
   ]
  },
  {
   "cell_type": "code",
   "execution_count": 13,
   "metadata": {},
   "outputs": [],
   "source": [
    "# y = df[['readmitted_target']]\n",
    "# X = df.drop(['readmitted_target', 'readmitted'],axis=1)"
   ]
  },
  {
   "cell_type": "code",
   "execution_count": 14,
   "metadata": {},
   "outputs": [],
   "source": [
    "# let's separate into training and testing set\n",
    "\n",
    "# X_train, X_test, y_train, y_test = train_test_split(\n",
    "#     X, y,   # target\n",
    "#     test_size=0.2,  # percentage of obs in test set\n",
    "#     random_state=42)  # seed to ensure reproducibility\n",
    "\n",
    "# X_train.shape, X_test.shape"
   ]
  },
  {
   "cell_type": "code",
   "execution_count": 15,
   "metadata": {},
   "outputs": [],
   "source": [
    "# from feature_engine.categorical_encoders import OneHotCategoricalEncoder"
   ]
  },
  {
   "cell_type": "code",
   "execution_count": 16,
   "metadata": {},
   "outputs": [],
   "source": [
    "# ohe_enc = OneHotCategoricalEncoder(\n",
    "#     top_categories=5,  # you can change this value to select more or less variables\n",
    "#     # we can select which variables to encode\n",
    "#     variables=None,\n",
    "#     drop_last=False)\n",
    "\n",
    "# ohe_enc.fit(X_train)"
   ]
  },
  {
   "cell_type": "code",
   "execution_count": 17,
   "metadata": {},
   "outputs": [],
   "source": [
    "# ohe_enc.encoder_dict_"
   ]
  },
  {
   "cell_type": "code",
   "execution_count": 18,
   "metadata": {},
   "outputs": [],
   "source": [
    "# X_train = ohe_enc.transform(X_train)\n",
    "# X_test = ohe_enc.transform(X_test)\n",
    "\n",
    "# # let's explore the result\n",
    "# X_train.head()"
   ]
  },
  {
   "cell_type": "markdown",
   "metadata": {},
   "source": [
    "### distplots/boxplots:"
   ]
  },
  {
   "cell_type": "code",
   "execution_count": 19,
   "metadata": {},
   "outputs": [
    {
     "data": {
      "image/png": "[encoded data removed]",
      "text/plain": [
       "<Figure size 432x288 with 1 Axes>"
      ]
     },
     "metadata": {
      "needs_background": "light"
     },
     "output_type": "display_data"
    }
   ],
   "source": [
    "sns.distplot(df.num_lab_procedures)\n",
    "plt.show()"
   ]
  },
  {
   "cell_type": "code",
   "execution_count": 20,
   "metadata": {},
   "outputs": [
    {
     "data": {
      "image/png": "[encoded data removed]",
      "text/plain": [
       "<Figure size 432x288 with 1 Axes>"
      ]
     },
     "metadata": {
      "needs_background": "light"
     },
     "output_type": "display_data"
    }
   ],
   "source": [
    "sns.distplot(np.log(df.num_lab_procedures))\n",
    "plt.show()"
   ]
  },
  {
   "cell_type": "code",
   "execution_count": 21,
   "metadata": {},
   "outputs": [
    {
     "data": {
      "image/png": "[encoded data removed]",
      "text/plain": [
       "<Figure size 432x288 with 1 Axes>"
      ]
     },
     "metadata": {
      "needs_background": "light"
     },
     "output_type": "display_data"
    }
   ],
   "source": [
    "stats.probplot(df.num_lab_procedures, dist=\"norm\", plot=plt)\n",
    "plt.show()"
   ]
  },
  {
   "cell_type": "code",
   "execution_count": 22,
   "metadata": {},
   "outputs": [
    {
     "data": {
      "image/png": "[encoded data removed]",
      "text/plain": [
       "<Figure size 432x288 with 1 Axes>"
      ]
     },
     "metadata": {
      "needs_background": "light"
     },
     "output_type": "display_data"
    }
   ],
   "source": [
    "sns.distplot(df.num_medications)\n",
    "plt.show()"
   ]
  },
  {
   "cell_type": "code",
   "execution_count": null,
   "metadata": {},
   "outputs": [],
   "source": []
  },
  {
   "cell_type": "code",
   "execution_count": 23,
   "metadata": {},
   "outputs": [
    {
     "data": {
      "image/png": "[encoded data removed]",
      "text/plain": [
       "<Figure size 432x288 with 1 Axes>"
      ]
     },
     "metadata": {
      "needs_background": "light"
     },
     "output_type": "display_data"
    }
   ],
   "source": [
    "stats.probplot(df.num_medications, dist=\"norm\", plot=plt)\n",
    "plt.show()"
   ]
  },
  {
   "cell_type": "code",
   "execution_count": 24,
   "metadata": {},
   "outputs": [
    {
     "data": {
      "text/plain": [
       "Index(['race', 'gender', 'age', 'weight', 'admission_type_id',\n",
       "       'discharge_disposition_id', 'admission_source_id', 'time_in_hospital',\n",
       "       'payer_code', 'medical_specialty', 'num_lab_procedures',\n",
       "       'num_procedures', 'num_medications', 'number_outpatient',\n",
       "       'number_emergency', 'number_inpatient', 'diag_1', 'diag_2', 'diag_3',\n",
       "       'number_diagnoses', 'max_glu_serum', 'A1Cresult', 'metformin',\n",
       "       'repaglinide', 'nateglinide', 'chlorpropamide', 'glimepiride',\n",
       "       'acetohexamide', 'glipizide', 'glyburide', 'tolbutamide',\n",
       "       'pioglitazone', 'rosiglitazone', 'acarbose', 'miglitol', 'troglitazone',\n",
       "       'tolazamide', 'examide', 'citoglipton', 'insulin',\n",
       "       'glyburide-metformin', 'glipizide-metformin',\n",
       "       'glimepiride-pioglitazone', 'metformin-rosiglitazone',\n",
       "       'metformin-pioglitazone', 'change', 'diabetesMed', 'readmitted',\n",
       "       'readmitted_target'],\n",
       "      dtype='object')"
      ]
     },
     "execution_count": 24,
     "metadata": {},
     "output_type": "execute_result"
    }
   ],
   "source": [
    "feats = df.columns\n",
    "feats"
   ]
  },
  {
   "cell_type": "code",
   "execution_count": 25,
   "metadata": {},
   "outputs": [
    {
     "data": {
      "text/plain": [
       "<AxesSubplot:>"
      ]
     },
     "execution_count": 25,
     "metadata": {},
     "output_type": "execute_result"
    },
    {
     "data": {
      "image/png": "[encoded data removed]",
      "text/plain": [
       "<Figure size 936x576 with 2 Axes>"
      ]
     },
     "metadata": {
      "needs_background": "light"
     },
     "output_type": "display_data"
    }
   ],
   "source": [
    "# we calculate the correlations using pandas corr\n",
    "# and we round the values to 2 decimals\n",
    "correlation_matrix = df[feats].corr().round(2)\n",
    "\n",
    "# plot the correlation matrix usng seaborn\n",
    "# annot = True to print the correlation values\n",
    "# inside the squares\n",
    "\n",
    "figure = plt.figure(figsize=(13, 8))\n",
    "sns.heatmap(data=correlation_matrix, annot=True)"
   ]
  },
  {
   "cell_type": "code",
   "execution_count": 26,
   "metadata": {},
   "outputs": [
    {
     "data": {
      "image/png": "[encoded data removed]",
      "text/plain": [
       "<Figure size 432x288 with 1 Axes>"
      ]
     },
     "metadata": {
      "needs_background": "light"
     },
     "output_type": "display_data"
    }
   ],
   "source": [
    "# boxplot\n",
    "plt.subplot(1, 3, 3)\n",
    "sns.boxplot(y=df['num_medications'])\n",
    "plt.title('Boxplot')\n",
    "\n",
    "plt.show()"
   ]
  },
  {
   "cell_type": "code",
   "execution_count": 27,
   "metadata": {},
   "outputs": [
    {
     "data": {
      "image/png": "[encoded data removed]",
      "text/plain": [
       "<Figure size 432x288 with 1 Axes>"
      ]
     },
     "metadata": {
      "needs_background": "light"
     },
     "output_type": "display_data"
    }
   ],
   "source": [
    "# boxplot\n",
    "plt.subplot(1, 3, 3)\n",
    "sns.boxplot(y=df['time_in_hospital'])\n",
    "plt.title('Boxplot')\n",
    "\n",
    "plt.show()"
   ]
  },
  {
   "cell_type": "code",
   "execution_count": 28,
   "metadata": {},
   "outputs": [
    {
     "data": {
      "image/png": "[encoded data removed]",
      "text/plain": [
       "<Figure size 432x288 with 1 Axes>"
      ]
     },
     "metadata": {
      "needs_background": "light"
     },
     "output_type": "display_data"
    }
   ],
   "source": [
    "plt.subplot(1, 3, 3)\n",
    "sns.boxplot(y=df['num_lab_procedures'])\n",
    "plt.title('Boxplot')\n",
    "\n",
    "plt.show()"
   ]
  },
  {
   "cell_type": "code",
   "execution_count": 29,
   "metadata": {},
   "outputs": [
    {
     "data": {
      "image/png": "[encoded data removed]",
      "text/plain": [
       "<Figure size 432x288 with 1 Axes>"
      ]
     },
     "metadata": {
      "needs_background": "light"
     },
     "output_type": "display_data"
    }
   ],
   "source": [
    "plt.subplot(1, 3, 3)\n",
    "sns.boxplot(y=df['num_procedures'])\n",
    "plt.title('Boxplot')\n",
    "\n",
    "plt.show()"
   ]
  },
  {
   "cell_type": "code",
   "execution_count": 30,
   "metadata": {},
   "outputs": [
    {
     "data": {
      "image/png": "[encoded data removed]",
      "text/plain": [
       "<Figure size 432x288 with 1 Axes>"
      ]
     },
     "metadata": {
      "needs_background": "light"
     },
     "output_type": "display_data"
    }
   ],
   "source": [
    "plt.subplot(1, 3, 3)\n",
    "sns.boxplot(y=df['number_inpatient'])\n",
    "plt.title('Boxplot')\n",
    "\n",
    "plt.show()\n"
   ]
  },
  {
   "cell_type": "code",
   "execution_count": 31,
   "metadata": {},
   "outputs": [
    {
     "data": {
      "image/png": "[encoded data removed]",
      "text/plain": [
       "<Figure size 432x288 with 1 Axes>"
      ]
     },
     "metadata": {
      "needs_background": "light"
     },
     "output_type": "display_data"
    }
   ],
   "source": [
    "plt.subplot(1, 3, 3)\n",
    "sns.boxplot(y=df['number_diagnoses'])\n",
    "plt.title('Boxplot')\n",
    "\n",
    "plt.show()\n"
   ]
  },
  {
   "cell_type": "code",
   "execution_count": 32,
   "metadata": {},
   "outputs": [
    {
     "data": {
      "text/html": [
       "<div>\n",
       "<style scoped>\n",
       "    .dataframe tbody tr th:only-of-type {\n",
       "        vertical-align: middle;\n",
       "    }\n",
       "\n",
       "    .dataframe tbody tr th {\n",
       "        vertical-align: top;\n",
       "    }\n",
       "\n",
       "    .dataframe thead th {\n",
       "        text-align: right;\n",
       "    }\n",
       "</style>\n",
       "<table border=\"1\" class=\"dataframe\">\n",
       "  <thead>\n",
       "    <tr style=\"text-align: right;\">\n",
       "      <th></th>\n",
       "      <th>admission_type_id</th>\n",
       "      <th>discharge_disposition_id</th>\n",
       "      <th>admission_source_id</th>\n",
       "      <th>time_in_hospital</th>\n",
       "      <th>num_lab_procedures</th>\n",
       "      <th>num_procedures</th>\n",
       "      <th>num_medications</th>\n",
       "      <th>number_outpatient</th>\n",
       "      <th>number_emergency</th>\n",
       "      <th>number_inpatient</th>\n",
       "      <th>number_diagnoses</th>\n",
       "      <th>readmitted_target</th>\n",
       "    </tr>\n",
       "  </thead>\n",
       "  <tbody>\n",
       "    <tr>\n",
       "      <th>count</th>\n",
       "      <td>101766.000000</td>\n",
       "      <td>101766.000000</td>\n",
       "      <td>101766.000000</td>\n",
       "      <td>101766.000000</td>\n",
       "      <td>101766.000000</td>\n",
       "      <td>101766.000000</td>\n",
       "      <td>101766.000000</td>\n",
       "      <td>101766.000000</td>\n",
       "      <td>101766.000000</td>\n",
       "      <td>101766.000000</td>\n",
       "      <td>101766.000000</td>\n",
       "      <td>101766.000000</td>\n",
       "    </tr>\n",
       "    <tr>\n",
       "      <th>mean</th>\n",
       "      <td>2.024006</td>\n",
       "      <td>3.715642</td>\n",
       "      <td>5.754437</td>\n",
       "      <td>4.395987</td>\n",
       "      <td>43.095641</td>\n",
       "      <td>1.339730</td>\n",
       "      <td>16.021844</td>\n",
       "      <td>0.369357</td>\n",
       "      <td>0.197836</td>\n",
       "      <td>0.635566</td>\n",
       "      <td>7.422607</td>\n",
       "      <td>0.460881</td>\n",
       "    </tr>\n",
       "    <tr>\n",
       "      <th>std</th>\n",
       "      <td>1.445403</td>\n",
       "      <td>5.280166</td>\n",
       "      <td>4.064081</td>\n",
       "      <td>2.985108</td>\n",
       "      <td>19.674362</td>\n",
       "      <td>1.705807</td>\n",
       "      <td>8.127566</td>\n",
       "      <td>1.267265</td>\n",
       "      <td>0.930472</td>\n",
       "      <td>1.262863</td>\n",
       "      <td>1.933600</td>\n",
       "      <td>0.498470</td>\n",
       "    </tr>\n",
       "    <tr>\n",
       "      <th>min</th>\n",
       "      <td>1.000000</td>\n",
       "      <td>1.000000</td>\n",
       "      <td>1.000000</td>\n",
       "      <td>1.000000</td>\n",
       "      <td>1.000000</td>\n",
       "      <td>0.000000</td>\n",
       "      <td>1.000000</td>\n",
       "      <td>0.000000</td>\n",
       "      <td>0.000000</td>\n",
       "      <td>0.000000</td>\n",
       "      <td>1.000000</td>\n",
       "      <td>0.000000</td>\n",
       "    </tr>\n",
       "    <tr>\n",
       "      <th>25%</th>\n",
       "      <td>1.000000</td>\n",
       "      <td>1.000000</td>\n",
       "      <td>1.000000</td>\n",
       "      <td>2.000000</td>\n",
       "      <td>31.000000</td>\n",
       "      <td>0.000000</td>\n",
       "      <td>10.000000</td>\n",
       "      <td>0.000000</td>\n",
       "      <td>0.000000</td>\n",
       "      <td>0.000000</td>\n",
       "      <td>6.000000</td>\n",
       "      <td>0.000000</td>\n",
       "    </tr>\n",
       "    <tr>\n",
       "      <th>50%</th>\n",
       "      <td>1.000000</td>\n",
       "      <td>1.000000</td>\n",
       "      <td>7.000000</td>\n",
       "      <td>4.000000</td>\n",
       "      <td>44.000000</td>\n",
       "      <td>1.000000</td>\n",
       "      <td>15.000000</td>\n",
       "      <td>0.000000</td>\n",
       "      <td>0.000000</td>\n",
       "      <td>0.000000</td>\n",
       "      <td>8.000000</td>\n",
       "      <td>0.000000</td>\n",
       "    </tr>\n",
       "    <tr>\n",
       "      <th>75%</th>\n",
       "      <td>3.000000</td>\n",
       "      <td>4.000000</td>\n",
       "      <td>7.000000</td>\n",
       "      <td>6.000000</td>\n",
       "      <td>57.000000</td>\n",
       "      <td>2.000000</td>\n",
       "      <td>20.000000</td>\n",
       "      <td>0.000000</td>\n",
       "      <td>0.000000</td>\n",
       "      <td>1.000000</td>\n",
       "      <td>9.000000</td>\n",
       "      <td>1.000000</td>\n",
       "    </tr>\n",
       "    <tr>\n",
       "      <th>max</th>\n",
       "      <td>8.000000</td>\n",
       "      <td>28.000000</td>\n",
       "      <td>25.000000</td>\n",
       "      <td>14.000000</td>\n",
       "      <td>132.000000</td>\n",
       "      <td>6.000000</td>\n",
       "      <td>81.000000</td>\n",
       "      <td>42.000000</td>\n",
       "      <td>76.000000</td>\n",
       "      <td>21.000000</td>\n",
       "      <td>16.000000</td>\n",
       "      <td>1.000000</td>\n",
       "    </tr>\n",
       "  </tbody>\n",
       "</table>\n",
       "</div>"
      ],
      "text/plain": [
       "       admission_type_id  ...  readmitted_target\n",
       "count      101766.000000  ...      101766.000000\n",
       "mean            2.024006  ...           0.460881\n",
       "std             1.445403  ...           0.498470\n",
       "min             1.000000  ...           0.000000\n",
       "25%             1.000000  ...           0.000000\n",
       "50%             1.000000  ...           0.000000\n",
       "75%             3.000000  ...           1.000000\n",
       "max             8.000000  ...           1.000000\n",
       "\n",
       "[8 rows x 12 columns]"
      ]
     },
     "execution_count": 32,
     "metadata": {},
     "output_type": "execute_result"
    }
   ],
   "source": [
    "df.describe()"
   ]
  },
  {
   "cell_type": "markdown",
   "metadata": {},
   "source": [
    "time_in_hospital: 1 - 14\n",
    "\n",
    "num_lab_procedures: 1 - 132\n",
    "\n",
    "num_procedures: 0 - 6\n",
    "\n",
    "num_medications: 1 - 81\n",
    "\n",
    "number_outpatient: 0 - 42\n",
    "\n",
    "number_emergency: 0 - 76\n",
    "\n",
    "number_inpatient: 0 - 21\n",
    "\n",
    "number_diagnoses: 1 - 16"
   ]
  },
  {
   "cell_type": "code",
   "execution_count": 33,
   "metadata": {},
   "outputs": [],
   "source": [
    "# for col in num_cols:\n",
    "#     print(col, 'range: ', df[col].max() - df[col].min())"
   ]
  },
  {
   "cell_type": "markdown",
   "metadata": {},
   "source": [
    "# Labeling, grouping and bucketing the long way!"
   ]
  },
  {
   "cell_type": "code",
   "execution_count": 34,
   "metadata": {},
   "outputs": [
    {
     "data": {
      "text/plain": [
       "array(['No', 'Ch'], dtype=object)"
      ]
     },
     "execution_count": 34,
     "metadata": {},
     "output_type": "execute_result"
    }
   ],
   "source": [
    "df.change.unique()"
   ]
  },
  {
   "cell_type": "code",
   "execution_count": 35,
   "metadata": {},
   "outputs": [
    {
     "data": {
      "text/plain": [
       "array(['No', 'Yes'], dtype=object)"
      ]
     },
     "execution_count": 35,
     "metadata": {},
     "output_type": "execute_result"
    }
   ],
   "source": [
    "df.diabetesMed.unique()"
   ]
  },
  {
   "cell_type": "markdown",
   "metadata": {},
   "source": [
    "Change the values to 0 and 1 for no and yes?"
   ]
  },
  {
   "cell_type": "code",
   "execution_count": 36,
   "metadata": {},
   "outputs": [],
   "source": [
    "df.change.replace({'Ch':'Yes'}, inplace=True)"
   ]
  },
  {
   "cell_type": "markdown",
   "metadata": {
    "heading_collapsed": true
   },
   "source": [
    "## Label and rare grouping nominal categorical columns:"
   ]
  },
  {
   "cell_type": "markdown",
   "metadata": {
    "hidden": true
   },
   "source": [
    "Now that I have an understanding of the data in each column, I want to review all of the categorical columns and organize into nominal or ordinal categories so that they can be encoded easily."
   ]
  },
  {
   "cell_type": "code",
   "execution_count": 37,
   "metadata": {
    "hidden": true
   },
   "outputs": [
    {
     "data": {
      "text/plain": [
       "array(['NO', '>30', '<30'], dtype=object)"
      ]
     },
     "execution_count": 37,
     "metadata": {},
     "output_type": "execute_result"
    }
   ],
   "source": [
    "df.readmitted.unique()"
   ]
  },
  {
   "cell_type": "code",
   "execution_count": 38,
   "metadata": {
    "hidden": true
   },
   "outputs": [
    {
     "data": {
      "text/plain": [
       "NO     54864\n",
       ">30    35545\n",
       "<30    11357\n",
       "Name: readmitted, dtype: int64"
      ]
     },
     "execution_count": 38,
     "metadata": {},
     "output_type": "execute_result"
    }
   ],
   "source": [
    "df.readmitted.value_counts()"
   ]
  },
  {
   "cell_type": "code",
   "execution_count": 39,
   "metadata": {
    "hidden": true
   },
   "outputs": [
    {
     "name": "stdout",
     "output_type": "stream",
     "text": [
      "<class 'pandas.core.frame.DataFrame'>\n",
      "RangeIndex: 101766 entries, 0 to 101765\n",
      "Data columns (total 49 columns):\n",
      " #   Column                    Non-Null Count   Dtype \n",
      "---  ------                    --------------   ----- \n",
      " 0   race                      101766 non-null  object\n",
      " 1   gender                    101766 non-null  object\n",
      " 2   age                       101766 non-null  object\n",
      " 3   weight                    101766 non-null  object\n",
      " 4   admission_type_id         101766 non-null  int64 \n",
      " 5   discharge_disposition_id  101766 non-null  int64 \n",
      " 6   admission_source_id       101766 non-null  int64 \n",
      " 7   time_in_hospital          101766 non-null  int64 \n",
      " 8   payer_code                101766 non-null  object\n",
      " 9   medical_specialty         101766 non-null  object\n",
      " 10  num_lab_procedures        101766 non-null  int64 \n",
      " 11  num_procedures            101766 non-null  int64 \n",
      " 12  num_medications           101766 non-null  int64 \n",
      " 13  number_outpatient         101766 non-null  int64 \n",
      " 14  number_emergency          101766 non-null  int64 \n",
      " 15  number_inpatient          101766 non-null  int64 \n",
      " 16  diag_1                    101766 non-null  object\n",
      " 17  diag_2                    101766 non-null  object\n",
      " 18  diag_3                    101766 non-null  object\n",
      " 19  number_diagnoses          101766 non-null  int64 \n",
      " 20  max_glu_serum             101766 non-null  object\n",
      " 21  A1Cresult                 101766 non-null  object\n",
      " 22  metformin                 101766 non-null  object\n",
      " 23  repaglinide               101766 non-null  object\n",
      " 24  nateglinide               101766 non-null  object\n",
      " 25  chlorpropamide            101766 non-null  object\n",
      " 26  glimepiride               101766 non-null  object\n",
      " 27  acetohexamide             101766 non-null  object\n",
      " 28  glipizide                 101766 non-null  object\n",
      " 29  glyburide                 101766 non-null  object\n",
      " 30  tolbutamide               101766 non-null  object\n",
      " 31  pioglitazone              101766 non-null  object\n",
      " 32  rosiglitazone             101766 non-null  object\n",
      " 33  acarbose                  101766 non-null  object\n",
      " 34  miglitol                  101766 non-null  object\n",
      " 35  troglitazone              101766 non-null  object\n",
      " 36  tolazamide                101766 non-null  object\n",
      " 37  examide                   101766 non-null  object\n",
      " 38  citoglipton               101766 non-null  object\n",
      " 39  insulin                   101766 non-null  object\n",
      " 40  glyburide-metformin       101766 non-null  object\n",
      " 41  glipizide-metformin       101766 non-null  object\n",
      " 42  glimepiride-pioglitazone  101766 non-null  object\n",
      " 43  metformin-rosiglitazone   101766 non-null  object\n",
      " 44  metformin-pioglitazone    101766 non-null  object\n",
      " 45  change                    101766 non-null  object\n",
      " 46  diabetesMed               101766 non-null  object\n",
      " 47  readmitted                101766 non-null  object\n",
      " 48  readmitted_target         101766 non-null  int64 \n",
      "dtypes: int64(12), object(37)\n",
      "memory usage: 38.0+ MB\n"
     ]
    }
   ],
   "source": [
    "df.info()"
   ]
  },
  {
   "cell_type": "code",
   "execution_count": 40,
   "metadata": {
    "hidden": true
   },
   "outputs": [
    {
     "data": {
      "text/plain": [
       "Index(['race', 'gender', 'age', 'weight', 'admission_type_id',\n",
       "       'discharge_disposition_id', 'admission_source_id', 'time_in_hospital',\n",
       "       'payer_code', 'medical_specialty', 'num_lab_procedures',\n",
       "       'num_procedures', 'num_medications', 'number_outpatient',\n",
       "       'number_emergency', 'number_inpatient', 'diag_1', 'diag_2', 'diag_3',\n",
       "       'number_diagnoses', 'max_glu_serum', 'A1Cresult', 'metformin',\n",
       "       'repaglinide', 'nateglinide', 'chlorpropamide', 'glimepiride',\n",
       "       'acetohexamide', 'glipizide', 'glyburide', 'tolbutamide',\n",
       "       'pioglitazone', 'rosiglitazone', 'acarbose', 'miglitol', 'troglitazone',\n",
       "       'tolazamide', 'examide', 'citoglipton', 'insulin',\n",
       "       'glyburide-metformin', 'glipizide-metformin',\n",
       "       'glimepiride-pioglitazone', 'metformin-rosiglitazone',\n",
       "       'metformin-pioglitazone', 'change', 'diabetesMed', 'readmitted',\n",
       "       'readmitted_target'],\n",
       "      dtype='object')"
      ]
     },
     "execution_count": 40,
     "metadata": {},
     "output_type": "execute_result"
    }
   ],
   "source": [
    "df.columns"
   ]
  },
  {
   "cell_type": "code",
   "execution_count": 41,
   "metadata": {
    "hidden": true
   },
   "outputs": [],
   "source": [
    "# df.info()"
   ]
  },
  {
   "cell_type": "code",
   "execution_count": 42,
   "metadata": {
    "hidden": true
   },
   "outputs": [],
   "source": [
    "cat_cols = ['race', 'gender', 'age', \n",
    "       'admission_type_id', 'discharge_disposition_id', 'admission_source_id',\n",
    "       'payer_code', 'medical_specialty',\n",
    "       'num_lab_procedures', 'num_procedures', 'num_medications',\n",
    "       'number_outpatient', 'number_emergency', 'number_inpatient', 'diag_1',\n",
    "       'diag_2', 'diag_3', 'number_diagnoses', 'max_glu_serum', 'A1Cresult',\n",
    "       'metformin', 'repaglinide', 'nateglinide', 'chlorpropamide',\n",
    "       'glimepiride', 'acetohexamide', 'glipizide', 'glyburide', 'tolbutamide',\n",
    "       'pioglitazone', 'rosiglitazone', 'acarbose', 'miglitol', 'troglitazone',\n",
    "       'tolazamide', 'examide', 'citoglipton', 'insulin',\n",
    "       'glyburide-metformin', 'glipizide-metformin',\n",
    "       'glimepiride-pioglitazone', 'metformin-rosiglitazone',\n",
    "       'metformin-pioglitazone', 'change', 'diabetesMed', 'readmitted']"
   ]
  },
  {
   "cell_type": "code",
   "execution_count": 43,
   "metadata": {
    "hidden": true
   },
   "outputs": [
    {
     "name": "stdout",
     "output_type": "stream",
     "text": [
      "Number of categories in age is: 10\n",
      "Number of categories in discharge_disposition_id is: 26\n",
      "Number of categories in admission_source_id is: 17\n",
      "Number of categories in payer_code is: 18\n",
      "Number of categories in medical_specialty is: 73\n",
      "Number of categories in num_lab_procedures is: 118\n",
      "Number of categories in num_medications is: 75\n",
      "Number of categories in number_outpatient is: 39\n",
      "Number of categories in number_emergency is: 33\n",
      "Number of categories in number_inpatient is: 21\n",
      "Number of categories in diag_1 is: 717\n",
      "Number of categories in diag_2 is: 749\n",
      "Number of categories in diag_3 is: 790\n",
      "Number of categories in number_diagnoses is: 16\n"
     ]
    }
   ],
   "source": [
    "for col in cat_cols:\n",
    "    unique_value_count = len(df[col].unique())\n",
    "    if unique_value_count >= 10:\n",
    "        print(f'Number of categories in {col} is: {unique_value_count}')"
   ]
  },
  {
   "cell_type": "markdown",
   "metadata": {
    "hidden": true
   },
   "source": [
    "It would be a good idea to bucket these columns due to high cardinality."
   ]
  },
  {
   "cell_type": "code",
   "execution_count": 44,
   "metadata": {
    "hidden": true
   },
   "outputs": [
    {
     "data": {
      "text/plain": [
       "array(['[0-10)', '[10-20)', '[20-30)', '[30-40)', '[40-50)', '[50-60)',\n",
       "       '[60-70)', '[70-80)', '[80-90)', '[90-100)'], dtype=object)"
      ]
     },
     "execution_count": 44,
     "metadata": {},
     "output_type": "execute_result"
    }
   ],
   "source": [
    "df.age.unique()"
   ]
  },
  {
   "cell_type": "code",
   "execution_count": 45,
   "metadata": {
    "hidden": true
   },
   "outputs": [
    {
     "data": {
      "text/plain": [
       "array(['unknown', '[75-100)', '[50-75)', '[0-25)', '[100-125)', '[25-50)',\n",
       "       '[125-150)', '[175-200)', '[150-175)', '>200'], dtype=object)"
      ]
     },
     "execution_count": 45,
     "metadata": {},
     "output_type": "execute_result"
    }
   ],
   "source": [
    "df.weight.unique()"
   ]
  },
  {
   "cell_type": "markdown",
   "metadata": {
    "hidden": true
   },
   "source": [
    "### Label medical_specialty values:"
   ]
  },
  {
   "cell_type": "code",
   "execution_count": 46,
   "metadata": {
    "hidden": true
   },
   "outputs": [
    {
     "data": {
      "text/plain": [
       "array(['Pediatrics-Endocrinology', 'unknown', 'InternalMedicine',\n",
       "       'Family/GeneralPractice', 'Cardiology', 'Surgery-General',\n",
       "       'Orthopedics', 'Gastroenterology',\n",
       "       'Surgery-Cardiovascular/Thoracic', 'Nephrology',\n",
       "       'Orthopedics-Reconstructive', 'Psychiatry', 'Emergency/Trauma',\n",
       "       'Pulmonology', 'Surgery-Neuro',\n",
       "       'Obsterics&Gynecology-GynecologicOnco', 'ObstetricsandGynecology',\n",
       "       'Pediatrics', 'Hematology/Oncology', 'Otolaryngology',\n",
       "       'Surgery-Colon&Rectal', 'Pediatrics-CriticalCare', 'Endocrinology',\n",
       "       'Urology', 'Psychiatry-Child/Adolescent', 'Pediatrics-Pulmonology',\n",
       "       'Neurology', 'Anesthesiology-Pediatric', 'Radiology',\n",
       "       'Pediatrics-Hematology-Oncology', 'Psychology', 'Podiatry',\n",
       "       'Gynecology', 'Oncology', 'Pediatrics-Neurology',\n",
       "       'Surgery-Plastic', 'Surgery-Thoracic',\n",
       "       'Surgery-PlasticwithinHeadandNeck', 'Ophthalmology',\n",
       "       'Surgery-Pediatric', 'Pediatrics-EmergencyMedicine',\n",
       "       'PhysicalMedicineandRehabilitation', 'InfectiousDiseases',\n",
       "       'Anesthesiology', 'Rheumatology', 'AllergyandImmunology',\n",
       "       'Surgery-Maxillofacial', 'Pediatrics-InfectiousDiseases',\n",
       "       'Pediatrics-AllergyandImmunology', 'Dentistry', 'Surgeon',\n",
       "       'Surgery-Vascular', 'Osteopath', 'Psychiatry-Addictive',\n",
       "       'Surgery-Cardiovascular', 'PhysicianNotFound', 'Hematology',\n",
       "       'Proctology', 'Obstetrics', 'SurgicalSpecialty', 'Radiologist',\n",
       "       'Pathology', 'Dermatology', 'SportsMedicine', 'Speech',\n",
       "       'Hospitalist', 'OutreachServices', 'Cardiology-Pediatric',\n",
       "       'Perinatology', 'Neurophysiology', 'Endocrinology-Metabolism',\n",
       "       'DCPTEAM', 'Resident'], dtype=object)"
      ]
     },
     "execution_count": 46,
     "metadata": {},
     "output_type": "execute_result"
    }
   ],
   "source": [
    "df['medical_specialty'].unique()"
   ]
  },
  {
   "cell_type": "code",
   "execution_count": 47,
   "metadata": {
    "hidden": true
   },
   "outputs": [],
   "source": [
    "df.medical_specialty.replace({'Surgery-General':'Surgery',\n",
    "          'Surgery-Cardiovascular/Thoracic':'Surgery',\n",
    "          'Surgery-Colon&Rectal':'Surgery',\n",
    "          'Surgery-Plastic':'Surgery',\n",
    "          'Surgery-Thoracic':'Surgery',\n",
    "          'Surgery-PlasticwithinHeadandNeck':'Surgery',\n",
    "          'Surgery-Maxillofacial':'Surgery',\n",
    "          'Surgery-Vascular':'Surgery',\n",
    "          'Surgery-Cardiovascular':'Surgery',\n",
    "          'SurgicalSpecialty':'Surgery',\n",
    "          'Surgery-Cardiovascular':'Surgery', \n",
    "         'Surgeon':'Surgery',\n",
    "                 'Pediatrics-Endocrinology':'Pediatrics',\n",
    "          'Pediatrics-CriticalCare':'Pediatrics',\n",
    "          'Pediatrics-Pulmonology':'Pediatrics',\n",
    "          'Pediatrics-Hematology-Oncology':'Pediatrics',\n",
    "          'Pediatrics-Neurology':'Pediatrics',\n",
    "          'Surgery-Pediatric':'Pediatrics', \n",
    "         'Pediatrics-EmergencyMedicine':'Pediatrics',\n",
    "            'Pediatrics-InfectiousDiseases':'Pediatrics',\n",
    "            'Pediatrics-AllergyandImmunology':'Pediatrics',\n",
    "            'Cardiology-Pediatric':'Pediatrics'            \n",
    "                             }, inplace=True)\n"
   ]
  },
  {
   "cell_type": "code",
   "execution_count": 48,
   "metadata": {
    "hidden": true
   },
   "outputs": [],
   "source": [
    "df.medical_specialty.replace({\n",
    "                              \n",
    "                             \n",
    "            'Orthopedics-Reconstructive':'Orthopedics',\n",
    "             'Obsterics&Gynecology-GynecologicOnco':'OB-GYN',\n",
    "          'ObstetricsandGynecology':'OB-GYN',\n",
    "          'Obstetrics':'OB-GYN',\n",
    "          'Gynecology':'OB-GYN',                 \n",
    "                              \n",
    "          }, inplace=True)"
   ]
  },
  {
   "cell_type": "code",
   "execution_count": 49,
   "metadata": {
    "hidden": true
   },
   "outputs": [],
   "source": [
    "df.medical_specialty.replace({'Psychiatry-Child/Adolescent':'Pediatrics',\n",
    "          'Anesthesiology-Pediatric':'Pediatrics',\n",
    "          'Surgery-Neuro':'Surgery',\n",
    "          'Hematology':'Hematology/Oncology',\n",
    "          'Oncology':'Hematology/Oncology', \n",
    "         'PhysicianNotFound':'unknown',\n",
    "            'Psychiatry-Addictive':'Psychiatry',\n",
    "            'Psychology':'Psychiatry',\n",
    "            'Family/GeneralPractice':'General',\n",
    "              'InternalMedicine':'General',\n",
    "            'PhysicalMedicineandRehabilitation':'Physical/Sports',\n",
    "            'SportsMedicine':'Physical/Sports',\n",
    "         'Endocrinology-Metabolism':'Endocrinology',\n",
    "          'Hospitalist':'General',\n",
    "          'DCPTEAM':'OtherDirectCareProviders',\n",
    "          'Radiologist':'Radiology',\n",
    "          'Perinatology':'OB-GYN', \n",
    "                'Pathology': 'InfectiousDiseases' ,\n",
    "                'AllergyandImmunology': 'Allergy/Rheumatology',\n",
    "                'Rheumatology':'Allergy/Rheumatology',\n",
    "                             'Neurophysiology':'Neurology'}, inplace=True)"
   ]
  },
  {
   "cell_type": "code",
   "execution_count": 50,
   "metadata": {
    "hidden": true
   },
   "outputs": [
    {
     "data": {
      "text/plain": [
       "array(['Pediatrics', 'unknown', 'General', 'Cardiology', 'Surgery',\n",
       "       'Orthopedics', 'Gastroenterology', 'Nephrology', 'Psychiatry',\n",
       "       'Emergency/Trauma', 'Pulmonology', 'OB-GYN', 'Hematology/Oncology',\n",
       "       'Otolaryngology', 'Endocrinology', 'Urology', 'Neurology',\n",
       "       'Radiology', 'Podiatry', 'Ophthalmology', 'Physical/Sports',\n",
       "       'InfectiousDiseases', 'Anesthesiology', 'Allergy/Rheumatology',\n",
       "       'Dentistry', 'Osteopath', 'Proctology', 'Dermatology', 'Speech',\n",
       "       'OutreachServices', 'OtherDirectCareProviders', 'Resident'],\n",
       "      dtype=object)"
      ]
     },
     "execution_count": 50,
     "metadata": {},
     "output_type": "execute_result"
    }
   ],
   "source": [
    "df['medical_specialty'].unique()"
   ]
  },
  {
   "cell_type": "code",
   "execution_count": 51,
   "metadata": {
    "hidden": true
   },
   "outputs": [
    {
     "data": {
      "text/plain": [
       "unknown                     49960\n",
       "General                     22132\n",
       "Emergency/Trauma             7565\n",
       "Cardiology                   5352\n",
       "Surgery                      5101\n",
       "Orthopedics                  2633\n",
       "Nephrology                   1613\n",
       "Radiology                    1193\n",
       "Psychiatry                    956\n",
       "Pulmonology                   871\n",
       "OB-GYN                        774\n",
       "Urology                       685\n",
       "Hematology/Oncology           637\n",
       "Pediatrics                    587\n",
       "Gastroenterology              564\n",
       "Physical/Sports               392\n",
       "Neurology                     204\n",
       "Endocrinology                 128\n",
       "Otolaryngology                125\n",
       "Podiatry                      100\n",
       "InfectiousDiseases             54\n",
       "Osteopath                      39\n",
       "Ophthalmology                  38\n",
       "Allergy/Rheumatology           24\n",
       "OutreachServices               12\n",
       "Anesthesiology                 12\n",
       "OtherDirectCareProviders        6\n",
       "Dentistry                       4\n",
       "Resident                        2\n",
       "Speech                          1\n",
       "Proctology                      1\n",
       "Dermatology                     1\n",
       "Name: medical_specialty, dtype: int64"
      ]
     },
     "execution_count": 51,
     "metadata": {},
     "output_type": "execute_result"
    }
   ],
   "source": [
    "df['medical_specialty'].value_counts()"
   ]
  },
  {
   "cell_type": "code",
   "execution_count": 52,
   "metadata": {
    "hidden": true
   },
   "outputs": [],
   "source": [
    "# 'OtherDirectCareProviders':'Other/Unknown', 'unknown':'Other/Unknown', \n",
    "#         'Endocrinology':'OtherSpecialists',\n",
    "#                               'Otolaryngology':'OtherSpecialists',\n",
    "#                               'Podiatry':'OtherSpecialists',\n",
    "#                               'Allergy/Rheumatology':'OtherSpecialists',\n",
    "#                               'InfectiousDiseases':'OtherSpecialists',\n",
    "#           'Osteopath':'OtherSpecialists',\n",
    "#                               'Dentistry':'OtherSpecialists',\n",
    "#           'OutreachServices':'OtherDirectCareProviders',\n",
    "#           'Anesthesiology':'OtherSpecialists',\n",
    "#           'Ophthalmology':'OtherSpecialists',\n",
    "#           'Resident':'General',\n",
    "#           'Dermatology':'OtherSpecialists',\n",
    "#           'Proctology':'OtherSpecialists',\n",
    "#           'Speech':'OtherDirectCareProviders',"
   ]
  },
  {
   "cell_type": "code",
   "execution_count": 53,
   "metadata": {
    "hidden": true
   },
   "outputs": [],
   "source": [
    "# df.medical_specialty.replace({'unknown':'Other/Unknown',\n",
    "#           'Allergy/Rheumatology':'OtherSpecialists',\n",
    "#           'InfectiousDiseases':'OtherSpecialists',\n",
    "#           'Endocrinology':'OtherSpecialists',\n",
    "#           'OtherDirectCareProviders':'Other/Unknown', \n",
    "#       }, inplace=True)"
   ]
  },
  {
   "cell_type": "code",
   "execution_count": 54,
   "metadata": {
    "hidden": true
   },
   "outputs": [
    {
     "data": {
      "text/plain": [
       "32"
      ]
     },
     "execution_count": 54,
     "metadata": {},
     "output_type": "execute_result"
    }
   ],
   "source": [
    "df['medical_specialty'].nunique()"
   ]
  },
  {
   "cell_type": "markdown",
   "metadata": {
    "hidden": true
   },
   "source": [
    "Not sure if we need to map this!"
   ]
  },
  {
   "cell_type": "code",
   "execution_count": 55,
   "metadata": {
    "hidden": true
   },
   "outputs": [],
   "source": [
    "# specialty_dict = {num: val for val, \n",
    "#                   num in enumerate(df['medical_specialty'].unique(), 0)}\n",
    "# df.loc[:, 'specialty_mapped'] = df.loc[:, \n",
    "#                     'medical_specialty'].map(specialty_dict)\n",
    "# df[['specialty_mapped', 'medical_specialty']].head(10)"
   ]
  },
  {
   "cell_type": "markdown",
   "metadata": {
    "hidden": true
   },
   "source": [
    "### Label payer_code values:"
   ]
  },
  {
   "cell_type": "code",
   "execution_count": 56,
   "metadata": {
    "hidden": true
   },
   "outputs": [
    {
     "data": {
      "text/plain": [
       "array(['unknown', 'MC', 'MD', 'HM', 'UN', 'BC', 'SP', 'CP', 'SI', 'DM',\n",
       "       'CM', 'CH', 'PO', 'WC', 'OT', 'OG', 'MP', 'FR'], dtype=object)"
      ]
     },
     "execution_count": 56,
     "metadata": {},
     "output_type": "execute_result"
    }
   ],
   "source": [
    "df['payer_code'].unique()"
   ]
  },
  {
   "cell_type": "code",
   "execution_count": 57,
   "metadata": {
    "hidden": true
   },
   "outputs": [
    {
     "data": {
      "text/plain": [
       "unknown    40256\n",
       "MC         32439\n",
       "HM          6274\n",
       "SP          5007\n",
       "BC          4655\n",
       "MD          3532\n",
       "CP          2533\n",
       "UN          2448\n",
       "CM          1937\n",
       "OG          1033\n",
       "PO           592\n",
       "DM           549\n",
       "CH           146\n",
       "WC           135\n",
       "OT            95\n",
       "MP            79\n",
       "SI            55\n",
       "FR             1\n",
       "Name: payer_code, dtype: int64"
      ]
     },
     "execution_count": 57,
     "metadata": {},
     "output_type": "execute_result"
    }
   ],
   "source": [
    "df['payer_code'].value_counts()"
   ]
  },
  {
   "cell_type": "code",
   "execution_count": 58,
   "metadata": {
    "hidden": true
   },
   "outputs": [],
   "source": [
    "df.payer_code.replace({'MC':'Medicare',\n",
    "          'HM':'Commericial/Other',\n",
    "          'SP':'SelfPay',\n",
    "          'BC':'Commericial/Other',\n",
    "          'MD':'Medicaid',\n",
    "            'UN':'Commericial/Other',\n",
    "           'CP':'Commericial/Other',            \n",
    "          'WC':'WorkersComp',   \n",
    "            'CM':'Commericial/Other',\n",
    "               'OG':'Commericial/Other',        \n",
    "              'PO':'Commericial/Other',  \n",
    "                       'DM':'Commericial/Other', \n",
    "                       'CH':'Commericial/Other', \n",
    "                       'OT':'Commericial/Other', \n",
    "                       'MP':'Commericial/Other', \n",
    "                       'SI':'Commericial/Other', \n",
    "                       'FR':'Commericial/Other', \n",
    "      }, inplace=True)"
   ]
  },
  {
   "cell_type": "code",
   "execution_count": 59,
   "metadata": {
    "hidden": true
   },
   "outputs": [
    {
     "data": {
      "text/plain": [
       "unknown              40256\n",
       "Medicare             32439\n",
       "Commericial/Other    20397\n",
       "SelfPay               5007\n",
       "Medicaid              3532\n",
       "WorkersComp            135\n",
       "Name: payer_code, dtype: int64"
      ]
     },
     "execution_count": 59,
     "metadata": {},
     "output_type": "execute_result"
    }
   ],
   "source": [
    "df['payer_code'].value_counts()"
   ]
  },
  {
   "cell_type": "code",
   "execution_count": 60,
   "metadata": {
    "hidden": true
   },
   "outputs": [],
   "source": [
    "# payer_dict = {num: val for val, \n",
    "#                   num in enumerate(df['payer_code'].unique(), 0)}\n",
    "# df.loc[:, 'payer_mapped'] = df.loc[:, \n",
    "#                     'payer_code'].map(payer_dict)\n",
    "# df[['payer_mapped', 'payer_code']].tail(10)"
   ]
  },
  {
   "cell_type": "markdown",
   "metadata": {
    "hidden": true
   },
   "source": [
    "### Label discharge_disposition_id values:"
   ]
  },
  {
   "cell_type": "code",
   "execution_count": 61,
   "metadata": {
    "hidden": true
   },
   "outputs": [
    {
     "data": {
      "text/plain": [
       "array([25,  1,  3,  6,  2,  5, 11,  7, 10,  4, 14, 18,  8, 13, 12, 16, 17,\n",
       "       22, 23,  9, 20, 15, 24, 28, 19, 27])"
      ]
     },
     "execution_count": 61,
     "metadata": {},
     "output_type": "execute_result"
    }
   ],
   "source": [
    "df.discharge_disposition_id.unique()"
   ]
  },
  {
   "cell_type": "code",
   "execution_count": 62,
   "metadata": {
    "hidden": true,
    "scrolled": true
   },
   "outputs": [],
   "source": [
    "# discharge_dict = pd.read_pickle('discharge_dict.pkl')\n",
    "# discharge_dict"
   ]
  },
  {
   "cell_type": "code",
   "execution_count": 63,
   "metadata": {
    "hidden": true
   },
   "outputs": [],
   "source": [
    "df.discharge_disposition_id.replace({1:'Home',\n",
    "          2:'Transferred',\n",
    "          3:'Transferred',\n",
    "          4:'Transferred',\n",
    "          5:'Transferred',\n",
    "            6:'HomeHealth',\n",
    "           7:'AMA',            \n",
    "          8:'HomeHealth',   \n",
    "            9:'Admitted/Outpatient',\n",
    "               10:'NeonatalDischarge',        \n",
    "              11:'Expired_Inpatient',  \n",
    "                       12:'Admitted/Outpatient', \n",
    "                       13:'Hospice', \n",
    "                       14:'Hospice', \n",
    "                       15:'TransferredMedicare', \n",
    "                       16:'TransferredToOutpatient', \n",
    "                       17:'TransferredToOutpatient', \n",
    "                        18:'Unknown', \n",
    "                       19:'Expired_Elsewhere', \n",
    "                       20:'Expired_Elsewhere', \n",
    "                       21:'Expired_Elsewhere', \n",
    "                       22:'Transferred', \n",
    "                       23:'Transferred', \n",
    "                        24:'Transferred', \n",
    "                       25:'Unknown', \n",
    "                       26:'Unknown', \n",
    "                       27:'Transferred', \n",
    "                       28:'Transferred', \n",
    "                       29:'Transferred', \n",
    "                        30:'Transferred', \n",
    "                       31:'Unknown', \n",
    "      }, inplace=True)"
   ]
  },
  {
   "cell_type": "code",
   "execution_count": 64,
   "metadata": {
    "hidden": true
   },
   "outputs": [
    {
     "data": {
      "text/plain": [
       "array(['Unknown', 'Home', 'Transferred', 'HomeHealth',\n",
       "       'Expired_Inpatient', 'AMA', 'NeonatalDischarge', 'Hospice',\n",
       "       'Admitted/Outpatient', 'TransferredToOutpatient',\n",
       "       'Expired_Elsewhere', 'TransferredMedicare'], dtype=object)"
      ]
     },
     "execution_count": 64,
     "metadata": {},
     "output_type": "execute_result"
    }
   ],
   "source": [
    "df.discharge_disposition_id.unique()"
   ]
  },
  {
   "cell_type": "code",
   "execution_count": 65,
   "metadata": {
    "hidden": true
   },
   "outputs": [
    {
     "data": {
      "text/plain": [
       "Home                       60234\n",
       "Transferred                20678\n",
       "HomeHealth                 13010\n",
       "Unknown                     4680\n",
       "Expired_Inpatient           1642\n",
       "Hospice                      771\n",
       "AMA                          623\n",
       "TransferredMedicare           63\n",
       "TransferredToOutpatient       25\n",
       "Admitted/Outpatient           24\n",
       "Expired_Elsewhere             10\n",
       "NeonatalDischarge              6\n",
       "Name: discharge_disposition_id, dtype: int64"
      ]
     },
     "execution_count": 65,
     "metadata": {},
     "output_type": "execute_result"
    }
   ],
   "source": [
    "df.discharge_disposition_id.value_counts()"
   ]
  },
  {
   "cell_type": "code",
   "execution_count": 66,
   "metadata": {
    "hidden": true
   },
   "outputs": [],
   "source": [
    "# df.discharge_disposition_id.replace({'TransferredMedicare':'Transferred',\n",
    "#           'TransferredToOutpatient':'Transferred',\n",
    "#           'Admitted/Outpatient':'Transferred',\n",
    "#           'NeonatalDischarge':'Transferred',\n",
    "#             'Expired_Elsewhere':'Expired',\n",
    "#             'Expired_Inpatient':'Expired'\n",
    "           \n",
    "#       }, inplace=True)"
   ]
  },
  {
   "cell_type": "code",
   "execution_count": 67,
   "metadata": {
    "hidden": true
   },
   "outputs": [],
   "source": [
    "# discharge_dict = {num: val for val, \n",
    "#             num in enumerate(df['discharge_disposition_id'].unique(), 0)}\n",
    "# df.loc[:, 'discharge_mapped'] = df.loc[:, \n",
    "#                     'discharge_disposition_id'].map(discharge_dict)\n",
    "# df[['discharge_mapped', 'discharge_disposition_id']].head(10)"
   ]
  },
  {
   "cell_type": "markdown",
   "metadata": {
    "hidden": true
   },
   "source": [
    "### Label admission_source_id values:"
   ]
  },
  {
   "cell_type": "code",
   "execution_count": 68,
   "metadata": {
    "hidden": true
   },
   "outputs": [
    {
     "data": {
      "text/plain": [
       "array([ 1,  7,  2,  4,  5,  6, 20,  3, 17,  8,  9, 14, 10, 22, 11, 25, 13])"
      ]
     },
     "execution_count": 68,
     "metadata": {},
     "output_type": "execute_result"
    }
   ],
   "source": [
    "df.admission_source_id.unique()"
   ]
  },
  {
   "cell_type": "code",
   "execution_count": 69,
   "metadata": {
    "hidden": true
   },
   "outputs": [],
   "source": [
    "# ad_source_dict = pd.read_pickle('ad_source_dict.pkl')\n",
    "# ad_source_dict"
   ]
  },
  {
   "cell_type": "code",
   "execution_count": 70,
   "metadata": {
    "hidden": true
   },
   "outputs": [],
   "source": [
    "df.admission_source_id.replace({1:'Referral',\n",
    "          2:'Referral',\n",
    "          3:'Referral',\n",
    "          4:'Transferred',\n",
    "            5:'Transferred',\n",
    "            6:'Transferred',\n",
    "        7:'EmergencyRoom',\n",
    "          8:'Legal',\n",
    "          9:'Unknown',\n",
    "          10:'Transferred',\n",
    "            11:'BabyDelivery',\n",
    "            13:'BabyDelivery',\n",
    "        14:'BabyDelivery',\n",
    "            20:'Unknown',\n",
    "            22:'Newborn',\n",
    "            25:'Hospice',\n",
    "            17: 'Transferred'\n",
    "           \n",
    "      }, inplace=True)"
   ]
  },
  {
   "cell_type": "code",
   "execution_count": 71,
   "metadata": {
    "hidden": true
   },
   "outputs": [
    {
     "data": {
      "text/plain": [
       "array(['Referral', 'EmergencyRoom', 'Transferred', 'Unknown', 'Legal',\n",
       "       'BabyDelivery', 'Newborn', 'Hospice'], dtype=object)"
      ]
     },
     "execution_count": 71,
     "metadata": {},
     "output_type": "execute_result"
    }
   ],
   "source": [
    "df.admission_source_id.unique()"
   ]
  },
  {
   "cell_type": "code",
   "execution_count": 72,
   "metadata": {
    "hidden": true
   },
   "outputs": [
    {
     "data": {
      "text/plain": [
       "EmergencyRoom    57494\n",
       "Referral         30856\n",
       "Transferred      13095\n",
       "Unknown            286\n",
       "Legal               16\n",
       "Newborn             12\n",
       "BabyDelivery         5\n",
       "Hospice              2\n",
       "Name: admission_source_id, dtype: int64"
      ]
     },
     "execution_count": 72,
     "metadata": {},
     "output_type": "execute_result"
    }
   ],
   "source": [
    "df.admission_source_id.value_counts()"
   ]
  },
  {
   "cell_type": "code",
   "execution_count": 73,
   "metadata": {
    "hidden": true
   },
   "outputs": [],
   "source": [
    "# admission_dict = {num: val for val, num in enumerate(df['admission_source_id'].unique(), 0)}"
   ]
  },
  {
   "cell_type": "code",
   "execution_count": 74,
   "metadata": {
    "hidden": true
   },
   "outputs": [],
   "source": [
    "# admission_dict"
   ]
  },
  {
   "cell_type": "code",
   "execution_count": 75,
   "metadata": {
    "hidden": true
   },
   "outputs": [],
   "source": [
    "# df.loc[:, 'admission_mapped'] = df.loc[:, \n",
    "#                     'admission_source_id'].map(admission_dict)\n",
    "# df[['admission_mapped', 'admission_source_id']].head(10)"
   ]
  },
  {
   "cell_type": "markdown",
   "metadata": {
    "hidden": true
   },
   "source": [
    "### Label admission_type:"
   ]
  },
  {
   "cell_type": "code",
   "execution_count": 76,
   "metadata": {
    "hidden": true
   },
   "outputs": [],
   "source": [
    "# admit_dict = pd.read_pickle('admission_dict.pkl')\n",
    "# admit_dict"
   ]
  },
  {
   "cell_type": "code",
   "execution_count": 77,
   "metadata": {
    "hidden": true
   },
   "outputs": [],
   "source": [
    "df.admission_type_id.replace({1: 'Emergency',\n",
    "                 2: 'Urgent',\n",
    "                 3: 'Elective',\n",
    "                 4: 'Newborn',\n",
    "                 5: 'Unknown',\n",
    "                 6: 'Unknown',\n",
    "                 7: 'Trauma Center',\n",
    "                 8: 'Not Mapped'},inplace=True)  "
   ]
  },
  {
   "cell_type": "code",
   "execution_count": 78,
   "metadata": {
    "hidden": true
   },
   "outputs": [
    {
     "data": {
      "text/plain": [
       "array(['Unknown', 'Emergency', 'Urgent', 'Elective', 'Newborn',\n",
       "       'Not Mapped', 'Trauma Center'], dtype=object)"
      ]
     },
     "execution_count": 78,
     "metadata": {},
     "output_type": "execute_result"
    }
   ],
   "source": [
    "df.admission_type_id.unique()"
   ]
  },
  {
   "cell_type": "code",
   "execution_count": 79,
   "metadata": {
    "hidden": true
   },
   "outputs": [
    {
     "data": {
      "text/plain": [
       "Emergency        53990\n",
       "Elective         18869\n",
       "Urgent           18480\n",
       "Unknown          10076\n",
       "Not Mapped         320\n",
       "Trauma Center       21\n",
       "Newborn             10\n",
       "Name: admission_type_id, dtype: int64"
      ]
     },
     "execution_count": 79,
     "metadata": {},
     "output_type": "execute_result"
    }
   ],
   "source": [
    "df.admission_type_id.value_counts()"
   ]
  },
  {
   "cell_type": "markdown",
   "metadata": {
    "hidden": true
   },
   "source": [
    "### Label diag_1, diag_2, diag_3:"
   ]
  },
  {
   "cell_type": "code",
   "execution_count": 80,
   "metadata": {
    "hidden": true
   },
   "outputs": [],
   "source": [
    "diag_cols = [df.diag_1, df.diag_2, df.diag_3]"
   ]
  },
  {
   "cell_type": "code",
   "execution_count": 81,
   "metadata": {
    "hidden": true
   },
   "outputs": [],
   "source": [
    "# df.loc[:, 'diag_1'] = df.loc[:, 'diag_1'].map(\n",
    "#     diag_codes)"
   ]
  },
  {
   "cell_type": "code",
   "execution_count": 82,
   "metadata": {
    "hidden": true
   },
   "outputs": [],
   "source": [
    "for col in diag_cols:\n",
    "    for val in col.values:\n",
    "        if 'E' in val:\n",
    "            df.diag_1.replace({val : 'Other'}, inplace=True)\n",
    "            df.diag_2.replace({val : 'Other'}, inplace=True)\n",
    "            df.diag_3.replace({val : 'Other'}, inplace=True)"
   ]
  },
  {
   "cell_type": "code",
   "execution_count": 83,
   "metadata": {
    "hidden": true
   },
   "outputs": [],
   "source": [
    "for col in diag_cols:\n",
    "    for val in col.values:\n",
    "        if 'V' in val:\n",
    "            df.diag_1.replace({val : 'Other'}, inplace=True)\n",
    "            df.diag_2.replace({val : 'Other'}, inplace=True)\n",
    "            df.diag_3.replace({val : 'Other'}, inplace=True)"
   ]
  },
  {
   "cell_type": "code",
   "execution_count": 84,
   "metadata": {
    "hidden": true
   },
   "outputs": [],
   "source": [
    "df.diag_1.replace({'Other' : '-1'}, inplace=True)\n",
    "df.diag_2.replace({'Other' : '-1'}, inplace=True)\n",
    "df.diag_3.replace({'Other' : '-1'}, inplace=True)"
   ]
  },
  {
   "cell_type": "code",
   "execution_count": 85,
   "metadata": {
    "hidden": true
   },
   "outputs": [],
   "source": [
    "df.diag_1.replace({'unknown' : '-0.5'}, inplace=True)\n",
    "df.diag_2.replace({'unknown' : '-0.5'}, inplace=True)\n",
    "df.diag_3.replace({'unknown' : '-0.5'}, inplace=True)"
   ]
  },
  {
   "cell_type": "code",
   "execution_count": 86,
   "metadata": {
    "hidden": true
   },
   "outputs": [],
   "source": [
    "df.diag_1 = df.diag_1.astype('float')\n",
    "df.diag_2 = df.diag_2.astype('float')\n",
    "df.diag_3 = df.diag_3.astype('float')"
   ]
  },
  {
   "cell_type": "code",
   "execution_count": 87,
   "metadata": {
    "hidden": true
   },
   "outputs": [],
   "source": [
    "for num in range(390, 460):\n",
    "    if num in df.diag_1.values:\n",
    "        df.diag_1.replace({num : 'circulatory'}, inplace=True)\n",
    "    if num in df.diag_2.values:   \n",
    "        df.diag_2.replace({num : 'circulatory'}, inplace=True)\n",
    "    if num in df.diag_3.values:    \n",
    "        df.diag_3.replace({num : 'circulatory'}, inplace=True)"
   ]
  },
  {
   "cell_type": "code",
   "execution_count": 88,
   "metadata": {
    "hidden": true
   },
   "outputs": [],
   "source": [
    "df.diag_1.replace({785 : 'circulatory',\n",
    "                  786 : 'respiratory',\n",
    "                  787 : 'digestive',\n",
    "                  250.00 :'diabetes',\n",
    "                  788 : 'genitourinary',\n",
    "                  780 : 'UnknownSymptoms',\n",
    "                  781 : 'UnknownSymptoms',\n",
    "                  784 : 'UnknownSymptoms',\n",
    "                  782 : 'SkinDiseases'\n",
    "                  }, inplace=True)"
   ]
  },
  {
   "cell_type": "code",
   "execution_count": 89,
   "metadata": {
    "hidden": true
   },
   "outputs": [],
   "source": [
    "df.diag_2.replace({785 : 'circulatory',\n",
    "                  786 : 'respiratory',\n",
    "                  787 : 'digestive',\n",
    "                  250.00 :'diabetes',\n",
    "                  788 : 'genitourinary',\n",
    "                  780 : 'UnknownSymptoms',\n",
    "                  781 : 'UnknownSymptoms',\n",
    "                  784 : 'UnknownSymptoms',\n",
    "                  782 : 'SkinDiseases'\n",
    "                  }, inplace=True)"
   ]
  },
  {
   "cell_type": "code",
   "execution_count": 90,
   "metadata": {
    "hidden": true
   },
   "outputs": [],
   "source": [
    "df.diag_3.replace({785 : 'circulatory',\n",
    "                  786 : 'respiratory',\n",
    "                  787 : 'digestive',\n",
    "                  250.00 :'diabetes',\n",
    "                  788 : 'genitourinary',\n",
    "                  780 : 'UnknownSymptoms',\n",
    "                  781 : 'UnknownSymptoms',\n",
    "                  784 : 'UnknownSymptoms',\n",
    "                  782 : 'SkinDiseases'\n",
    "                  }, inplace=True)"
   ]
  },
  {
   "cell_type": "code",
   "execution_count": 91,
   "metadata": {
    "hidden": true
   },
   "outputs": [],
   "source": [
    "for num in range(460, 520):\n",
    "    if num in df.diag_1.values:\n",
    "        df.diag_1.replace({num : 'respiratory'}, inplace=True)\n",
    "    if num in df.diag_2.values:   \n",
    "        df.diag_2.replace({num : 'respiratory'}, inplace=True)\n",
    "    if num in df.diag_3.values:    \n",
    "        df.diag_3.replace({num : 'respiratory'}, inplace=True)\n",
    "            "
   ]
  },
  {
   "cell_type": "code",
   "execution_count": 92,
   "metadata": {
    "hidden": true
   },
   "outputs": [],
   "source": [
    "for num in range(520, 580):\n",
    "    if num in df.diag_1.values:\n",
    "        df.diag_1.replace({num : 'digestive'}, inplace=True)\n",
    "    if num in df.diag_2.values:   \n",
    "        df.diag_2.replace({num : 'digestive'}, inplace=True)\n",
    "    if num in df.diag_3.values:    \n",
    "        df.diag_3.replace({num : 'digestive'}, inplace=True)\n",
    "           "
   ]
  },
  {
   "cell_type": "code",
   "execution_count": 93,
   "metadata": {
    "hidden": true
   },
   "outputs": [],
   "source": [
    "for num in range(800, 1000):\n",
    "    if num in df.diag_1.values:\n",
    "        df.diag_1.replace({num : 'injury'}, inplace=True)\n",
    "    if num in df.diag_2.values:   \n",
    "        df.diag_2.replace({num : 'injury'}, inplace=True)\n",
    "    if num in df.diag_3.values:    \n",
    "        df.diag_3.replace({num : 'injury'}, inplace=True)\n",
    "            "
   ]
  },
  {
   "cell_type": "code",
   "execution_count": 94,
   "metadata": {
    "hidden": true
   },
   "outputs": [],
   "source": [
    "for num in range(710, 740):\n",
    "    if num in df.diag_1.values:\n",
    "        df.diag_1.replace({num : 'musculoskeletal'}, inplace=True)\n",
    "    if num in df.diag_2.values:   \n",
    "        df.diag_2.replace({num : 'musculoskeletal'}, inplace=True)\n",
    "    if num in df.diag_3.values:    \n",
    "        df.diag_3.replace({num : 'musculoskeletal'}, inplace=True)\n",
    "         \n",
    "                  "
   ]
  },
  {
   "cell_type": "code",
   "execution_count": 95,
   "metadata": {
    "hidden": true
   },
   "outputs": [],
   "source": [
    "for num in range(580, 630):\n",
    "    if num in df.diag_1.values:\n",
    "        df.diag_1.replace({num : 'genitourinary'}, inplace=True)\n",
    "    if num in df.diag_2.values:   \n",
    "        df.diag_2.replace({num : 'genitourinary'}, inplace=True)\n",
    "    if num in df.diag_3.values:    \n",
    "        df.diag_3.replace({num : 'genitourinary'}, inplace=True)\n",
    "                  "
   ]
  },
  {
   "cell_type": "code",
   "execution_count": 96,
   "metadata": {
    "hidden": true
   },
   "outputs": [],
   "source": [
    "for num in range(140, 240):\n",
    "    if num in df.diag_1.values:\n",
    "        df.diag_1.replace({num : 'neoplasms'}, inplace=True)\n",
    "    if num in df.diag_2.values:   \n",
    "        df.diag_2.replace({num : 'neoplasms'}, inplace=True)\n",
    "    if num in df.diag_3.values:    \n",
    "        df.diag_3.replace({num : 'neoplasms'}, inplace=True)\n",
    "                              "
   ]
  },
  {
   "cell_type": "code",
   "execution_count": 97,
   "metadata": {
    "hidden": true
   },
   "outputs": [],
   "source": [
    "for num in range(790, 800):\n",
    "    if num in df.diag_1.values:\n",
    "        df.diag_1.replace({num : 'UnknownSymptoms'}, inplace=True)\n",
    "    if num in df.diag_2.values:   \n",
    "        df.diag_2.replace({num : 'UnknownSymptoms'}, inplace=True)\n",
    "    if num in df.diag_3.values:    \n",
    "        df.diag_3.replace({num : 'UnknownSymptoms'}, inplace=True)\n",
    "                         "
   ]
  },
  {
   "cell_type": "code",
   "execution_count": 98,
   "metadata": {
    "hidden": true
   },
   "outputs": [],
   "source": [
    "for num in range(240, 280):\n",
    "    if num in df.diag_1.values:\n",
    "        df.diag_1.replace({num : 'Endocrine'}, inplace=True)\n",
    "    if num in df.diag_2.values:   \n",
    "        df.diag_2.replace({num : 'Endocrine'}, inplace=True)\n",
    "    if num in df.diag_3.values:    \n",
    "        df.diag_3.replace({num : 'Endocrine'}, inplace=True)\n",
    "                      \n"
   ]
  },
  {
   "cell_type": "code",
   "execution_count": 99,
   "metadata": {
    "hidden": true
   },
   "outputs": [],
   "source": [
    "for num in range(680, 710):\n",
    "    if num in df.diag_1.values:\n",
    "        df.diag_1.replace({num : 'SkinDiseases'}, inplace=True)\n",
    "    if num in df.diag_2.values:   \n",
    "        df.diag_2.replace({num : 'SkinDiseases'}, inplace=True)\n",
    "    if num in df.diag_3.values:    \n",
    "        df.diag_3.replace({num : 'SkinDiseases'}, inplace=True)\n",
    "                            \n",
    "        "
   ]
  },
  {
   "cell_type": "code",
   "execution_count": 100,
   "metadata": {
    "hidden": true
   },
   "outputs": [],
   "source": [
    "for num in range(1, 140):\n",
    "    if num in df.diag_1.values:\n",
    "        df.diag_1.replace({num : 'InfectiousDiseases'}, inplace=True)\n",
    "    if num in df.diag_2.values:   \n",
    "        df.diag_2.replace({num : 'InfectiousDiseases'}, inplace=True)\n",
    "    if num in df.diag_3.values:    \n",
    "        df.diag_3.replace({num : 'InfectiousDiseases'}, inplace=True)\n",
    "                            \n",
    "        "
   ]
  },
  {
   "cell_type": "code",
   "execution_count": 101,
   "metadata": {
    "hidden": true
   },
   "outputs": [],
   "source": [
    "for num in range(290, 320):\n",
    "    if num in df.diag_1.values:\n",
    "        df.diag_1.replace({num : 'MentalDisorders'}, inplace=True)\n",
    "    if num in df.diag_2.values:   \n",
    "        df.diag_2.replace({num : 'MentalDisorders'}, inplace=True)\n",
    "    if num in df.diag_3.values:    \n",
    "        df.diag_3.replace({num : 'MentalDisorders'}, inplace=True)\n",
    "                           \n",
    "       "
   ]
  },
  {
   "cell_type": "code",
   "execution_count": 102,
   "metadata": {
    "hidden": true
   },
   "outputs": [],
   "source": [
    "for num in range(280, 290):\n",
    "    if num in df.diag_1.values:\n",
    "        df.diag_1.replace({num : 'BloodDiseases'}, inplace=True)\n",
    "    if num in df.diag_2.values:   \n",
    "        df.diag_2.replace({num : 'BloodDiseases'}, inplace=True)\n",
    "    if num in df.diag_3.values:    \n",
    "        df.diag_3.replace({num : 'BloodDiseases'}, inplace=True)\n",
    "                              \n",
    "       "
   ]
  },
  {
   "cell_type": "code",
   "execution_count": 103,
   "metadata": {
    "hidden": true
   },
   "outputs": [],
   "source": [
    "for num in range(320, 360):\n",
    "    if num in df.diag_1.values:\n",
    "        df.diag_1.replace({num : 'NervousSystemDiseases'}, inplace=True)\n",
    "    if num in df.diag_2.values:   \n",
    "        df.diag_2.replace({num : 'NervousSystemDiseases'}, inplace=True)\n",
    "    if num in df.diag_3.values:    \n",
    "        df.diag_3.replace({num : 'NervousSystemDiseases'}, inplace=True)\n",
    "                              \n",
    "     "
   ]
  },
  {
   "cell_type": "code",
   "execution_count": 104,
   "metadata": {
    "hidden": true
   },
   "outputs": [],
   "source": [
    "for num in range(630, 680):\n",
    "    if num in df.diag_1.values:\n",
    "        df.diag_1.replace({num : 'DeliveryComplications'}, inplace=True)\n",
    "    if num in df.diag_2.values:   \n",
    "        df.diag_2.replace({num : 'DeliveryComplications'}, inplace=True)\n",
    "    if num in df.diag_3.values:    \n",
    "        df.diag_3.replace({num : 'DeliveryComplications'}, inplace=True)\n",
    "                          \n",
    "        "
   ]
  },
  {
   "cell_type": "code",
   "execution_count": 105,
   "metadata": {
    "hidden": true
   },
   "outputs": [],
   "source": [
    "for num in range(360, 390):\n",
    "    if num in df.diag_1.values:\n",
    "        df.diag_1.replace({num : 'SenseOrganDiseases'}, inplace=True)\n",
    "    if num in df.diag_2.values:   \n",
    "        df.diag_2.replace({num : 'SenseOrganDiseases'}, inplace=True)\n",
    "    if num in df.diag_3.values:    \n",
    "        df.diag_3.replace({num : 'SenseOrganDiseases'}, inplace=True)\n",
    "                              \n",
    "        "
   ]
  },
  {
   "cell_type": "code",
   "execution_count": 106,
   "metadata": {
    "hidden": true
   },
   "outputs": [],
   "source": [
    "for num in range(740, 760):\n",
    "    if num in df.diag_1.values:\n",
    "        df.diag_1.replace({num : 'CongenitalAnomalies'}, inplace=True)\n",
    "    if num in df.diag_2.values:   \n",
    "        df.diag_2.replace({num : 'CongenitalAnomalies'}, inplace=True)\n",
    "    if num in df.diag_3.values:    \n",
    "        df.diag_3.replace({num : 'CongenitalAnomalies'}, inplace=True)\n",
    "                             \n",
    "        "
   ]
  },
  {
   "cell_type": "code",
   "execution_count": 107,
   "metadata": {
    "hidden": true
   },
   "outputs": [
    {
     "data": {
      "text/plain": [
       "array([-0.5, 250.01, 'diabetes', 250.43, 'neoplasms', 'circulatory',\n",
       "       'respiratory', 'BloodDiseases', 'injury', 'musculoskeletal',\n",
       "       'genitourinary', 250.02, 'InfectiousDiseases', 'Endocrine',\n",
       "       'digestive', 'SkinDiseases', -1.0, 250.03, 'NervousSystemDiseases',\n",
       "       250.52, 'UnknownSymptoms', 250.6, 250.82, 'MentalDisorders',\n",
       "       250.51, 'DeliveryComplications', 250.42, 250.41, 250.13, 250.12,\n",
       "       250.53, 'CongenitalAnomalies', 250.93, 250.7, 789.0, 250.83,\n",
       "       250.11, 'SenseOrganDiseases', 250.81, 783.0, 250.5, 250.91, 250.92,\n",
       "       250.4, 250.23, 250.22, 250.8, 250.9, 250.1, 250.2, 250.31, 250.33,\n",
       "       250.32, 250.21, 250.3], dtype=object)"
      ]
     },
     "execution_count": 107,
     "metadata": {},
     "output_type": "execute_result"
    }
   ],
   "source": [
    "df.diag_2.unique()"
   ]
  },
  {
   "cell_type": "code",
   "execution_count": 108,
   "metadata": {
    "hidden": true
   },
   "outputs": [],
   "source": [
    "diab_codes = [250.83, 250.7, 250.6, 250.4, 250.11,\n",
    "       250.32, 250.13, 250.03, 250.8,\n",
    "        250.02, 250.42, 250.41, 250.22, 250.82,\n",
    "        250.33, 250.12, 789.0, 250.81, 1.1,\n",
    "        250.93,  250.01,\n",
    "        250.31, 250.43, 250.1, 250.2, 783.0, 250.3,\n",
    "       250.23, 250.5, 250.92, 250.53, 250.21, 250.9, 250.52, 250.51,\n",
    "       250.91]"
   ]
  },
  {
   "cell_type": "code",
   "execution_count": 109,
   "metadata": {
    "hidden": true
   },
   "outputs": [],
   "source": [
    "for num in diab_codes:\n",
    "    if num in df.diag_1.values:\n",
    "        df.diag_1.replace({num : 'diabetes'}, inplace=True)\n",
    "    if num in df.diag_2.values:   \n",
    "        df.diag_2.replace({num : 'diabetes'}, inplace=True)\n",
    "    if num in df.diag_3.values:    \n",
    "        df.diag_3.replace({num : 'diabetes'}, inplace=True)\n",
    "                            \n",
    "      "
   ]
  },
  {
   "cell_type": "code",
   "execution_count": 110,
   "metadata": {
    "hidden": true
   },
   "outputs": [
    {
     "data": {
      "text/plain": [
       "array(['diabetes', 'Endocrine', 'DeliveryComplications',\n",
       "       'InfectiousDiseases', 'neoplasms', 'circulatory', 'respiratory',\n",
       "       'injury', 'SkinDiseases', 'musculoskeletal', 'digestive', -1.0,\n",
       "       'genitourinary', 'MentalDisorders', 'UnknownSymptoms',\n",
       "       'NervousSystemDiseases', 'BloodDiseases', -0.5,\n",
       "       'SenseOrganDiseases', 'CongenitalAnomalies'], dtype=object)"
      ]
     },
     "execution_count": 110,
     "metadata": {},
     "output_type": "execute_result"
    }
   ],
   "source": [
    "df.diag_1.unique()"
   ]
  },
  {
   "cell_type": "code",
   "execution_count": 111,
   "metadata": {
    "hidden": true
   },
   "outputs": [],
   "source": [
    "df.diag_1.replace({-1 : 'Other',\n",
    "                -0.5  : 'Unknown' }, inplace=True)\n",
    "df.diag_2.replace({-1 : 'Other',\n",
    "                -0.5  : 'Unknown' }, inplace=True)\n",
    "df.diag_3.replace({-1 : 'Other',\n",
    "                -0.5  : 'Unknown' }, inplace=True)"
   ]
  },
  {
   "cell_type": "code",
   "execution_count": 112,
   "metadata": {
    "hidden": true
   },
   "outputs": [
    {
     "data": {
      "text/plain": [
       "circulatory              30437\n",
       "respiratory              14423\n",
       "digestive                 9475\n",
       "diabetes                  9347\n",
       "injury                    6974\n",
       "genitourinary             5117\n",
       "musculoskeletal           4957\n",
       "neoplasms                 3433\n",
       "InfectiousDiseases        2768\n",
       "Endocrine                 2702\n",
       "SkinDiseases              2614\n",
       "UnknownSymptoms           2539\n",
       "MentalDisorders           2262\n",
       "Other                     1645\n",
       "BloodDiseases             1103\n",
       "NervousSystemDiseases      947\n",
       "DeliveryComplications      687\n",
       "SenseOrganDiseases         264\n",
       "CongenitalAnomalies         51\n",
       "Unknown                     21\n",
       "Name: diag_1, dtype: int64"
      ]
     },
     "execution_count": 112,
     "metadata": {},
     "output_type": "execute_result"
    }
   ],
   "source": [
    "df.diag_1.value_counts()"
   ]
  },
  {
   "cell_type": "code",
   "execution_count": 113,
   "metadata": {
    "hidden": true
   },
   "outputs": [],
   "source": [
    "# df.diag_1.replace({'CongenitalAnomalies': 'Other',\n",
    "#                 'SenseOrganDiseases'  : 'Other' ,\n",
    "#                   'NervousSystemDiseases' : 'Other',\n",
    "#                    'Unknown': 'Other',\n",
    "#                 'UnknownSymptoms'  : 'Other' ,\n",
    "#                   'DeliveryComplications': 'Other',\n",
    "#                    'BloodDiseases': 'Other'\n",
    "#                  }, inplace=True)\n",
    "# df.diag_2.replace({'CongenitalAnomalies': 'Other',\n",
    "#                 'SenseOrganDiseases'  : 'Other' ,\n",
    "#                   'NervousSystemDiseases' : 'Other',\n",
    "#                    'Unknown': 'Other',\n",
    "#                 'UnknownSymptoms'  : 'Other' ,\n",
    "#                   'DeliveryComplications': 'Other',\n",
    "#                    'BloodDiseases': 'Other'\n",
    "#                  }, inplace=True)\n",
    "# df.diag_3.replace({'CongenitalAnomalies': 'Other',\n",
    "#                 'SenseOrganDiseases'  : 'Other' ,\n",
    "#                   'NervousSystemDiseases' : 'Other',\n",
    "#                    'Unknown': 'Other',\n",
    "#                 'UnknownSymptoms'  : 'Other' ,\n",
    "#                   'DeliveryComplications': 'Other',\n",
    "#                    'BloodDiseases': 'Other'\n",
    "#                  }, inplace=True)"
   ]
  },
  {
   "cell_type": "code",
   "execution_count": 114,
   "metadata": {
    "hidden": true
   },
   "outputs": [],
   "source": [
    "# df.diag_1.unique()"
   ]
  },
  {
   "cell_type": "code",
   "execution_count": 115,
   "metadata": {
    "hidden": true
   },
   "outputs": [],
   "source": [
    "# diag_dict = {num: val for val, \n",
    "#             num in enumerate(df['diag_1'].unique(), 0)}\n"
   ]
  },
  {
   "cell_type": "code",
   "execution_count": 116,
   "metadata": {
    "hidden": true
   },
   "outputs": [],
   "source": [
    "# df.loc[:, 'diag1_mapped'] = df.loc[:, \n",
    "#                     'diag_1'].map(diag_dict)\n",
    "# df[['diag1_mapped', 'diag_1']].head(10)"
   ]
  },
  {
   "cell_type": "code",
   "execution_count": 117,
   "metadata": {
    "hidden": true
   },
   "outputs": [],
   "source": [
    "# df.loc[:, 'diag2_mapped'] = df.loc[:, \n",
    "#                     'diag_2'].map(diag_dict)\n",
    "# df[['diag2_mapped', 'diag_2']].head(10)"
   ]
  },
  {
   "cell_type": "code",
   "execution_count": 118,
   "metadata": {
    "hidden": true
   },
   "outputs": [],
   "source": [
    "# df.loc[:, 'diag3_mapped'] = df.loc[:, \n",
    "#                     'diag_3'].map(diag_dict)\n",
    "# df[['diag3_mapped', 'diag_3']].head(10)"
   ]
  },
  {
   "cell_type": "markdown",
   "metadata": {},
   "source": [
    "## Bucket ordinal categorical columns:"
   ]
  },
  {
   "cell_type": "code",
   "execution_count": 119,
   "metadata": {},
   "outputs": [
    {
     "name": "stdout",
     "output_type": "stream",
     "text": [
      "Number of categories in age is: 10\n",
      "Number of categories in discharge_disposition_id is: 12\n",
      "Number of categories in medical_specialty is: 32\n",
      "Number of categories in num_lab_procedures is: 118\n",
      "Number of categories in num_medications is: 75\n",
      "Number of categories in number_outpatient is: 39\n",
      "Number of categories in number_emergency is: 33\n",
      "Number of categories in number_inpatient is: 21\n",
      "Number of categories in diag_1 is: 20\n",
      "Number of categories in diag_2 is: 20\n",
      "Number of categories in diag_3 is: 21\n",
      "Number of categories in number_diagnoses is: 16\n"
     ]
    }
   ],
   "source": [
    "for col in cat_cols:\n",
    "    unique_value_count = len(df[col].unique())\n",
    "    if unique_value_count >= 10:\n",
    "        print(f'Number of categories in {col} is: {unique_value_count}')"
   ]
  },
  {
   "cell_type": "markdown",
   "metadata": {},
   "source": [
    "I am not sure if I should treat these num of ... columns as continous or if I should bucket these and treat them as categories.\n",
    "\n",
    "I will make bucket columns for them and keep the original so we can test different models."
   ]
  },
  {
   "cell_type": "markdown",
   "metadata": {
    "heading_collapsed": true
   },
   "source": [
    "### num_lab_procedures:"
   ]
  },
  {
   "cell_type": "code",
   "execution_count": 120,
   "metadata": {
    "hidden": true
   },
   "outputs": [
    {
     "data": {
      "text/plain": [
       "array([ 41,  59,  11,  44,  51,  31,  70,  73,  68,  33,  47,  62,  60,\n",
       "        55,  49,  75,  45,  29,  35,  42,  66,  36,  19,  64,  25,  53,\n",
       "        52,  87,  27,  37,  46,  28,  48,  72,  10,   2,  65,  67,  40,\n",
       "        54,  58,  57,  43,  32,  83,  34,  39,  69,  38,  56,  22,  96,\n",
       "        78,  61,  88,  50,   1,  18,  82,   9,  63,  24,  71,  77,  81,\n",
       "        76,  90,  93,   3, 103,  13,  80,  85,  16,  15,  12,  30,  23,\n",
       "        17,  21,  79,  26,   5,  95,  97,  84,  14,  74, 105,  86,  98,\n",
       "        20,   6,  94,   8, 102, 100,   7,  89,  91,  92,   4, 101,  99,\n",
       "       114, 113, 111, 129, 107, 108, 106, 104, 109, 120, 132, 121, 126,\n",
       "       118])"
      ]
     },
     "execution_count": 120,
     "metadata": {},
     "output_type": "execute_result"
    }
   ],
   "source": [
    "df[\"num_lab_procedures\"].unique()"
   ]
  },
  {
   "cell_type": "code",
   "execution_count": 121,
   "metadata": {
    "hidden": true
   },
   "outputs": [],
   "source": [
    "# df[\"weight\"].unique()"
   ]
  },
  {
   "cell_type": "code",
   "execution_count": 122,
   "metadata": {
    "hidden": true
   },
   "outputs": [],
   "source": [
    "# df.readmitted.unique()"
   ]
  },
  {
   "cell_type": "code",
   "execution_count": 123,
   "metadata": {
    "hidden": true
   },
   "outputs": [
    {
     "data": {
      "text/plain": [
       "1      3208\n",
       "43     2804\n",
       "44     2496\n",
       "45     2376\n",
       "38     2213\n",
       "       ... \n",
       "107       1\n",
       "118       1\n",
       "129       1\n",
       "120       1\n",
       "121       1\n",
       "Name: num_lab_procedures, Length: 118, dtype: int64"
      ]
     },
     "execution_count": 123,
     "metadata": {},
     "output_type": "execute_result"
    }
   ],
   "source": [
    "df[\"num_lab_procedures\"].value_counts()"
   ]
  },
  {
   "cell_type": "markdown",
   "metadata": {
    "heading_collapsed": true,
    "hidden": true
   },
   "source": [
    "#### bucketing loops:"
   ]
  },
  {
   "cell_type": "code",
   "execution_count": 124,
   "metadata": {
    "hidden": true
   },
   "outputs": [],
   "source": [
    "df['lab_procedure_buckets'] = df['num_lab_procedures']\n",
    "for num in range(1, 6):\n",
    "    if num in df.lab_procedure_buckets.values:\n",
    "        df['lab_procedure_buckets'].replace({num:'<=5'}, inplace=True)"
   ]
  },
  {
   "cell_type": "code",
   "execution_count": 125,
   "metadata": {
    "hidden": true
   },
   "outputs": [],
   "source": [
    "for num in range(6, 11):\n",
    "    if num in df.lab_procedure_buckets.values:\n",
    "        df['lab_procedure_buckets'].replace({num:'[6-10)'}, inplace=True)"
   ]
  },
  {
   "cell_type": "code",
   "execution_count": 126,
   "metadata": {
    "hidden": true
   },
   "outputs": [],
   "source": [
    "for num in range(11, 21):\n",
    "    if num in df.lab_procedure_buckets.values:\n",
    "        df['lab_procedure_buckets'].replace({num:'[11-20)'}, inplace=True)"
   ]
  },
  {
   "cell_type": "code",
   "execution_count": 127,
   "metadata": {
    "hidden": true
   },
   "outputs": [],
   "source": [
    "for num in range(21, 31):\n",
    "    if num in df.lab_procedure_buckets.values:\n",
    "        df['lab_procedure_buckets'].replace({num:'[21-30)'}, inplace=True)"
   ]
  },
  {
   "cell_type": "code",
   "execution_count": 128,
   "metadata": {
    "hidden": true
   },
   "outputs": [],
   "source": [
    "for num in range(31, 41):\n",
    "    if num in df.lab_procedure_buckets.values:\n",
    "        df['lab_procedure_buckets'].replace({num:'[31-40)'}, inplace=True)"
   ]
  },
  {
   "cell_type": "code",
   "execution_count": 129,
   "metadata": {
    "hidden": true
   },
   "outputs": [],
   "source": [
    "for num in range(41, 51):\n",
    "    if num in df.lab_procedure_buckets.values:\n",
    "        df['lab_procedure_buckets'].replace({num:'[41-50)'}, inplace=True)"
   ]
  },
  {
   "cell_type": "code",
   "execution_count": 130,
   "metadata": {
    "hidden": true
   },
   "outputs": [],
   "source": [
    "for num in range(51, 61):\n",
    "    if num in df.lab_procedure_buckets.values:\n",
    "        df['lab_procedure_buckets'].replace({num:'[51-60)'}, inplace=True)"
   ]
  },
  {
   "cell_type": "code",
   "execution_count": 131,
   "metadata": {
    "hidden": true
   },
   "outputs": [],
   "source": [
    "for num in range(61, 71):\n",
    "    if num in df.lab_procedure_buckets.values:\n",
    "        df['lab_procedure_buckets'].replace({num:'[61-70)'}, inplace=True)"
   ]
  },
  {
   "cell_type": "code",
   "execution_count": 132,
   "metadata": {
    "hidden": true
   },
   "outputs": [],
   "source": [
    "for num in range(71, 81):\n",
    "    if num in df.lab_procedure_buckets.values:\n",
    "        df['lab_procedure_buckets'].replace({num:'[71-80)'}, inplace=True)"
   ]
  },
  {
   "cell_type": "code",
   "execution_count": 133,
   "metadata": {
    "hidden": true
   },
   "outputs": [],
   "source": [
    "for num in range(81, 91):\n",
    "    if num in df.lab_procedure_buckets.values:\n",
    "        df['lab_procedure_buckets'].replace({num:'[81-90)'}, inplace=True)"
   ]
  },
  {
   "cell_type": "code",
   "execution_count": 134,
   "metadata": {
    "hidden": true
   },
   "outputs": [],
   "source": [
    "for num in range(91, 101):\n",
    "    if num in df.lab_procedure_buckets.values:\n",
    "        df['lab_procedure_buckets'].replace({num:'[91-100)'}, inplace=True)"
   ]
  },
  {
   "cell_type": "code",
   "execution_count": 135,
   "metadata": {
    "hidden": true
   },
   "outputs": [
    {
     "data": {
      "text/plain": [
       "array(['[41-50)', '[51-60)', '[11-20)', '[31-40)', '[61-70)', '[71-80)',\n",
       "       '[21-30)', '[81-90)', '[6-10)', '<=5', '[91-100)', 103, 105, 102,\n",
       "       101, 114, 113, 111, 129, 107, 108, 106, 104, 109, 120, 132, 121,\n",
       "       126, 118], dtype=object)"
      ]
     },
     "execution_count": 135,
     "metadata": {},
     "output_type": "execute_result"
    }
   ],
   "source": [
    "df['lab_procedure_buckets'].unique()"
   ]
  },
  {
   "cell_type": "code",
   "execution_count": 136,
   "metadata": {
    "hidden": true
   },
   "outputs": [],
   "source": [
    "left_over_numbers = [103, 105, 102,\n",
    "       101, 114, 113, 111, 129, 107, 108, 106, 104, 109, 120, 132, 121,\n",
    "       126, 118]"
   ]
  },
  {
   "cell_type": "code",
   "execution_count": 137,
   "metadata": {
    "hidden": true
   },
   "outputs": [],
   "source": [
    "for num in left_over_numbers:\n",
    "    if num in df.lab_procedure_buckets.values:\n",
    "        df['lab_procedure_buckets'].replace({num:'>100'}, inplace=True)"
   ]
  },
  {
   "cell_type": "code",
   "execution_count": 138,
   "metadata": {
    "hidden": true
   },
   "outputs": [],
   "source": [
    "# df['lab_procedure_buckets'].replace({'>100':'>90',\n",
    "#                                    '[91-100)':'>90' }, inplace=True)"
   ]
  },
  {
   "cell_type": "code",
   "execution_count": 139,
   "metadata": {
    "hidden": true
   },
   "outputs": [
    {
     "data": {
      "text/plain": [
       "[41-50)     22249\n",
       "[31-40)     18084\n",
       "[51-60)     17817\n",
       "[61-70)     12259\n",
       "[21-30)      9665\n",
       "[11-20)      6153\n",
       "<=5          5641\n",
       "[71-80)      5216\n",
       "[6-10)       2742\n",
       "[81-90)      1513\n",
       "[91-100)      363\n",
       ">100           64\n",
       "Name: lab_procedure_buckets, dtype: int64"
      ]
     },
     "execution_count": 139,
     "metadata": {},
     "output_type": "execute_result"
    }
   ],
   "source": [
    "df.lab_procedure_buckets.value_counts()"
   ]
  },
  {
   "cell_type": "code",
   "execution_count": 140,
   "metadata": {
    "hidden": true
   },
   "outputs": [
    {
     "data": {
      "text/html": [
       "<div>\n",
       "<style scoped>\n",
       "    .dataframe tbody tr th:only-of-type {\n",
       "        vertical-align: middle;\n",
       "    }\n",
       "\n",
       "    .dataframe tbody tr th {\n",
       "        vertical-align: top;\n",
       "    }\n",
       "\n",
       "    .dataframe thead th {\n",
       "        text-align: right;\n",
       "    }\n",
       "</style>\n",
       "<table border=\"1\" class=\"dataframe\">\n",
       "  <thead>\n",
       "    <tr style=\"text-align: right;\">\n",
       "      <th></th>\n",
       "      <th>lab_procedure_buckets</th>\n",
       "      <th>num_lab_procedures</th>\n",
       "    </tr>\n",
       "  </thead>\n",
       "  <tbody>\n",
       "    <tr>\n",
       "      <th>95686</th>\n",
       "      <td>[61-70)</td>\n",
       "      <td>67</td>\n",
       "    </tr>\n",
       "    <tr>\n",
       "      <th>69499</th>\n",
       "      <td>[51-60)</td>\n",
       "      <td>51</td>\n",
       "    </tr>\n",
       "    <tr>\n",
       "      <th>68246</th>\n",
       "      <td>[41-50)</td>\n",
       "      <td>49</td>\n",
       "    </tr>\n",
       "    <tr>\n",
       "      <th>18972</th>\n",
       "      <td>[41-50)</td>\n",
       "      <td>42</td>\n",
       "    </tr>\n",
       "    <tr>\n",
       "      <th>76337</th>\n",
       "      <td>[71-80)</td>\n",
       "      <td>74</td>\n",
       "    </tr>\n",
       "    <tr>\n",
       "      <th>68554</th>\n",
       "      <td>[51-60)</td>\n",
       "      <td>52</td>\n",
       "    </tr>\n",
       "    <tr>\n",
       "      <th>46411</th>\n",
       "      <td>[21-30)</td>\n",
       "      <td>24</td>\n",
       "    </tr>\n",
       "    <tr>\n",
       "      <th>96551</th>\n",
       "      <td>[51-60)</td>\n",
       "      <td>51</td>\n",
       "    </tr>\n",
       "    <tr>\n",
       "      <th>97641</th>\n",
       "      <td>[31-40)</td>\n",
       "      <td>36</td>\n",
       "    </tr>\n",
       "    <tr>\n",
       "      <th>31602</th>\n",
       "      <td>[61-70)</td>\n",
       "      <td>62</td>\n",
       "    </tr>\n",
       "  </tbody>\n",
       "</table>\n",
       "</div>"
      ],
      "text/plain": [
       "      lab_procedure_buckets  num_lab_procedures\n",
       "95686               [61-70)                  67\n",
       "69499               [51-60)                  51\n",
       "68246               [41-50)                  49\n",
       "18972               [41-50)                  42\n",
       "76337               [71-80)                  74\n",
       "68554               [51-60)                  52\n",
       "46411               [21-30)                  24\n",
       "96551               [51-60)                  51\n",
       "97641               [31-40)                  36\n",
       "31602               [61-70)                  62"
      ]
     },
     "execution_count": 140,
     "metadata": {},
     "output_type": "execute_result"
    }
   ],
   "source": [
    "df[['lab_procedure_buckets', 'num_lab_procedures']].sample(10)"
   ]
  },
  {
   "cell_type": "markdown",
   "metadata": {
    "heading_collapsed": true,
    "hidden": true
   },
   "source": [
    "#### mapping:"
   ]
  },
  {
   "cell_type": "code",
   "execution_count": 141,
   "metadata": {
    "hidden": true
   },
   "outputs": [],
   "source": [
    "# lab_procedure_dict = {num: val for val, \n",
    "#                       num in enumerate(df['lab_procedure_buckets'].unique(), 0)}\n",
    "# df.loc[:, 'lab_procedures_mapped'] = df.loc[:, \n",
    "#                     'lab_procedure_buckets'].map(lab_procedure_dict)\n",
    "# df[['lab_procedures_mapped', 'lab_procedure_buckets', 'num_lab_procedures']].head(10)"
   ]
  },
  {
   "cell_type": "markdown",
   "metadata": {
    "heading_collapsed": true
   },
   "source": [
    "### num_procedures:"
   ]
  },
  {
   "cell_type": "code",
   "execution_count": 142,
   "metadata": {
    "hidden": true
   },
   "outputs": [
    {
     "data": {
      "text/plain": [
       "array([0, 5, 1, 6, 2, 3, 4])"
      ]
     },
     "execution_count": 142,
     "metadata": {},
     "output_type": "execute_result"
    }
   ],
   "source": [
    "df.num_procedures.unique()"
   ]
  },
  {
   "cell_type": "markdown",
   "metadata": {
    "hidden": true
   },
   "source": [
    "This will be kept as continous.  Or can easily be grouped into categories."
   ]
  },
  {
   "cell_type": "markdown",
   "metadata": {
    "heading_collapsed": true
   },
   "source": [
    "### num_medications:"
   ]
  },
  {
   "cell_type": "code",
   "execution_count": 143,
   "metadata": {
    "hidden": true
   },
   "outputs": [
    {
     "data": {
      "text/plain": [
       "array([ 1, 18, 13, 16,  8, 21, 12, 28, 17, 11, 15, 31,  2, 23, 19,  7, 20,\n",
       "       14, 10, 22,  9, 27, 25,  4, 32,  6, 30, 26, 24, 33,  5, 39,  3, 29,\n",
       "       61, 40, 46, 41, 36, 34, 35, 50, 43, 42, 37, 51, 38, 45, 54, 52, 49,\n",
       "       62, 55, 47, 44, 53, 48, 57, 59, 56, 60, 63, 58, 70, 67, 64, 69, 65,\n",
       "       68, 66, 81, 79, 75, 72, 74])"
      ]
     },
     "execution_count": 143,
     "metadata": {},
     "output_type": "execute_result"
    }
   ],
   "source": [
    "df.num_medications.unique()"
   ]
  },
  {
   "cell_type": "code",
   "execution_count": 144,
   "metadata": {
    "hidden": true
   },
   "outputs": [],
   "source": [
    "df['num_medication_buckets'] = df['num_medications']\n",
    "for num in range(1, 6):\n",
    "    if num in df.num_medication_buckets.values:\n",
    "        df['num_medication_buckets'].replace({num:'<=5'}, inplace=True)"
   ]
  },
  {
   "cell_type": "code",
   "execution_count": 145,
   "metadata": {
    "hidden": true
   },
   "outputs": [],
   "source": [
    "for num in range(6, 11):\n",
    "    if num in df.num_medication_buckets.values:\n",
    "        df['num_medication_buckets'].replace({num:'[6-10)'}, inplace=True)"
   ]
  },
  {
   "cell_type": "code",
   "execution_count": 146,
   "metadata": {
    "hidden": true
   },
   "outputs": [],
   "source": [
    "for num in range(11, 16):\n",
    "    if num in df.num_medication_buckets.values:\n",
    "        df['num_medication_buckets'].replace({num:'[11-15)'}, inplace=True)"
   ]
  },
  {
   "cell_type": "code",
   "execution_count": 147,
   "metadata": {
    "hidden": true
   },
   "outputs": [],
   "source": [
    "for num in range(16, 21):\n",
    "    if num in df.num_medication_buckets.values:\n",
    "        df['num_medication_buckets'].replace({num:'[16-20)'}, inplace=True)"
   ]
  },
  {
   "cell_type": "code",
   "execution_count": 148,
   "metadata": {
    "hidden": true
   },
   "outputs": [],
   "source": [
    "for num in range(21, 31):\n",
    "    if num in df.num_medication_buckets.values:\n",
    "        df['num_medication_buckets'].replace({num:'[21-30)'}, inplace=True)"
   ]
  },
  {
   "cell_type": "code",
   "execution_count": 149,
   "metadata": {
    "hidden": true
   },
   "outputs": [],
   "source": [
    "for num in range(31, 41):\n",
    "    if num in df.num_medication_buckets.values:\n",
    "        df['num_medication_buckets'].replace({num:'[31-40)'}, inplace=True)"
   ]
  },
  {
   "cell_type": "code",
   "execution_count": 150,
   "metadata": {
    "hidden": true
   },
   "outputs": [],
   "source": [
    "for num in range(41, 51):\n",
    "    if num in df.num_medication_buckets.values:\n",
    "        df['num_medication_buckets'].replace({num:'[41-50)'}, inplace=True)"
   ]
  },
  {
   "cell_type": "code",
   "execution_count": 151,
   "metadata": {
    "hidden": true
   },
   "outputs": [],
   "source": [
    "# for num in range(41, 82):\n",
    "#     if num in df.num_medication_buckets.values:\n",
    "#         df['num_medication_buckets'].replace({num:'>40'}, inplace=True)"
   ]
  },
  {
   "cell_type": "code",
   "execution_count": 152,
   "metadata": {
    "hidden": true
   },
   "outputs": [],
   "source": [
    "for num in range(51, 61):\n",
    "    if num in df.num_medication_buckets.values:\n",
    "        df['num_medication_buckets'].replace({num:'[51-60)'}, inplace=True)"
   ]
  },
  {
   "cell_type": "code",
   "execution_count": 153,
   "metadata": {
    "hidden": true
   },
   "outputs": [],
   "source": [
    "for num in range(61, 71):\n",
    "    if num in df.num_medication_buckets.values:\n",
    "        df['num_medication_buckets'].replace({num:'[61-70)'}, inplace=True)"
   ]
  },
  {
   "cell_type": "code",
   "execution_count": 154,
   "metadata": {
    "hidden": true
   },
   "outputs": [],
   "source": [
    "for num in range(71, 82):\n",
    "    if num in df.num_medication_buckets.values:\n",
    "        df['num_medication_buckets'].replace({num:'>71'}, inplace=True)"
   ]
  },
  {
   "cell_type": "code",
   "execution_count": 155,
   "metadata": {
    "hidden": true
   },
   "outputs": [
    {
     "data": {
      "text/plain": [
       "array(['<=5', '[16-20)', '[11-15)', '[6-10)', '[21-30)', '[31-40)',\n",
       "       '[61-70)', '[41-50)', '[51-60)', '>71'], dtype=object)"
      ]
     },
     "execution_count": 155,
     "metadata": {},
     "output_type": "execute_result"
    }
   ],
   "source": [
    "df.num_medication_buckets.unique()"
   ]
  },
  {
   "cell_type": "code",
   "execution_count": 156,
   "metadata": {
    "hidden": true
   },
   "outputs": [
    {
     "data": {
      "text/plain": [
       "[11-15)    29384\n",
       "[16-20)    22641\n",
       "[6-10)     20795\n",
       "[21-30)    18643\n",
       "<=5         5066\n",
       "[31-40)     3876\n",
       "[41-50)      931\n",
       "[51-60)      333\n",
       "[61-70)       89\n",
       ">71            8\n",
       "Name: num_medication_buckets, dtype: int64"
      ]
     },
     "execution_count": 156,
     "metadata": {},
     "output_type": "execute_result"
    }
   ],
   "source": [
    "df.num_medication_buckets.value_counts()"
   ]
  },
  {
   "cell_type": "code",
   "execution_count": 157,
   "metadata": {
    "hidden": true
   },
   "outputs": [
    {
     "data": {
      "text/html": [
       "<div>\n",
       "<style scoped>\n",
       "    .dataframe tbody tr th:only-of-type {\n",
       "        vertical-align: middle;\n",
       "    }\n",
       "\n",
       "    .dataframe tbody tr th {\n",
       "        vertical-align: top;\n",
       "    }\n",
       "\n",
       "    .dataframe thead th {\n",
       "        text-align: right;\n",
       "    }\n",
       "</style>\n",
       "<table border=\"1\" class=\"dataframe\">\n",
       "  <thead>\n",
       "    <tr style=\"text-align: right;\">\n",
       "      <th></th>\n",
       "      <th>num_medication_buckets</th>\n",
       "      <th>num_medications</th>\n",
       "    </tr>\n",
       "  </thead>\n",
       "  <tbody>\n",
       "    <tr>\n",
       "      <th>0</th>\n",
       "      <td>&lt;=5</td>\n",
       "      <td>1</td>\n",
       "    </tr>\n",
       "    <tr>\n",
       "      <th>1</th>\n",
       "      <td>[16-20)</td>\n",
       "      <td>18</td>\n",
       "    </tr>\n",
       "    <tr>\n",
       "      <th>2</th>\n",
       "      <td>[11-15)</td>\n",
       "      <td>13</td>\n",
       "    </tr>\n",
       "    <tr>\n",
       "      <th>3</th>\n",
       "      <td>[16-20)</td>\n",
       "      <td>16</td>\n",
       "    </tr>\n",
       "    <tr>\n",
       "      <th>4</th>\n",
       "      <td>[6-10)</td>\n",
       "      <td>8</td>\n",
       "    </tr>\n",
       "    <tr>\n",
       "      <th>5</th>\n",
       "      <td>[16-20)</td>\n",
       "      <td>16</td>\n",
       "    </tr>\n",
       "    <tr>\n",
       "      <th>6</th>\n",
       "      <td>[21-30)</td>\n",
       "      <td>21</td>\n",
       "    </tr>\n",
       "    <tr>\n",
       "      <th>7</th>\n",
       "      <td>[11-15)</td>\n",
       "      <td>12</td>\n",
       "    </tr>\n",
       "    <tr>\n",
       "      <th>8</th>\n",
       "      <td>[21-30)</td>\n",
       "      <td>28</td>\n",
       "    </tr>\n",
       "    <tr>\n",
       "      <th>9</th>\n",
       "      <td>[16-20)</td>\n",
       "      <td>18</td>\n",
       "    </tr>\n",
       "  </tbody>\n",
       "</table>\n",
       "</div>"
      ],
      "text/plain": [
       "  num_medication_buckets  num_medications\n",
       "0                    <=5                1\n",
       "1                [16-20)               18\n",
       "2                [11-15)               13\n",
       "3                [16-20)               16\n",
       "4                 [6-10)                8\n",
       "5                [16-20)               16\n",
       "6                [21-30)               21\n",
       "7                [11-15)               12\n",
       "8                [21-30)               28\n",
       "9                [16-20)               18"
      ]
     },
     "execution_count": 157,
     "metadata": {},
     "output_type": "execute_result"
    }
   ],
   "source": [
    "df[['num_medication_buckets', 'num_medications']].head(10)"
   ]
  },
  {
   "cell_type": "markdown",
   "metadata": {
    "heading_collapsed": true
   },
   "source": [
    "### number_outpatient:"
   ]
  },
  {
   "cell_type": "code",
   "execution_count": 158,
   "metadata": {
    "hidden": true
   },
   "outputs": [
    {
     "data": {
      "text/plain": [
       "array([ 0,  2,  1,  5,  7,  9,  3,  8,  4, 12, 11,  6, 20, 15, 10, 13, 14,\n",
       "       16, 21, 35, 17, 29, 36, 18, 19, 27, 22, 24, 42, 39, 34, 26, 33, 25,\n",
       "       23, 28, 37, 38, 40])"
      ]
     },
     "execution_count": 158,
     "metadata": {},
     "output_type": "execute_result"
    }
   ],
   "source": [
    "df.number_outpatient.unique()"
   ]
  },
  {
   "cell_type": "code",
   "execution_count": 159,
   "metadata": {
    "hidden": true
   },
   "outputs": [
    {
     "data": {
      "text/plain": [
       "0     85027\n",
       "1      8547\n",
       "2      3594\n",
       "3      2042\n",
       "4      1099\n",
       "5       533\n",
       "6       303\n",
       "7       155\n",
       "8        98\n",
       "9        83\n",
       "10       57\n",
       "11       42\n",
       "13       31\n",
       "12       30\n",
       "14       28\n",
       "15       20\n",
       "16       15\n",
       "17        8\n",
       "21        7\n",
       "20        7\n",
       "22        5\n",
       "18        5\n",
       "19        3\n",
       "24        3\n",
       "27        3\n",
       "23        2\n",
       "25        2\n",
       "26        2\n",
       "29        2\n",
       "33        2\n",
       "35        2\n",
       "36        2\n",
       "40        1\n",
       "28        1\n",
       "34        1\n",
       "37        1\n",
       "38        1\n",
       "39        1\n",
       "42        1\n",
       "Name: number_outpatient, dtype: int64"
      ]
     },
     "execution_count": 159,
     "metadata": {},
     "output_type": "execute_result"
    }
   ],
   "source": [
    "df.number_outpatient.value_counts()"
   ]
  },
  {
   "cell_type": "code",
   "execution_count": 160,
   "metadata": {
    "hidden": true
   },
   "outputs": [],
   "source": [
    "df['num_outpatient_buckets'] = df['number_outpatient']\n",
    "for num in range(10, 43):\n",
    "    if num in df.num_outpatient_buckets.values:\n",
    "        df['num_outpatient_buckets'].replace({num:'>=10'}, inplace=True)"
   ]
  },
  {
   "cell_type": "code",
   "execution_count": 161,
   "metadata": {
    "hidden": true
   },
   "outputs": [
    {
     "data": {
      "text/plain": [
       "array([0, 2, 1, 5, 7, 9, 3, 8, 4, '>=10', 6], dtype=object)"
      ]
     },
     "execution_count": 161,
     "metadata": {},
     "output_type": "execute_result"
    }
   ],
   "source": [
    "df.num_outpatient_buckets.unique()"
   ]
  },
  {
   "cell_type": "code",
   "execution_count": 162,
   "metadata": {
    "hidden": true
   },
   "outputs": [
    {
     "data": {
      "text/plain": [
       "0       85027\n",
       "1        8547\n",
       "2        3594\n",
       "3        2042\n",
       "4        1099\n",
       "5         533\n",
       "6         303\n",
       ">=10      285\n",
       "7         155\n",
       "8          98\n",
       "9          83\n",
       "Name: num_outpatient_buckets, dtype: int64"
      ]
     },
     "execution_count": 162,
     "metadata": {},
     "output_type": "execute_result"
    }
   ],
   "source": [
    "df.num_outpatient_buckets.value_counts()"
   ]
  },
  {
   "cell_type": "code",
   "execution_count": 163,
   "metadata": {
    "hidden": true
   },
   "outputs": [
    {
     "data": {
      "text/html": [
       "<div>\n",
       "<style scoped>\n",
       "    .dataframe tbody tr th:only-of-type {\n",
       "        vertical-align: middle;\n",
       "    }\n",
       "\n",
       "    .dataframe tbody tr th {\n",
       "        vertical-align: top;\n",
       "    }\n",
       "\n",
       "    .dataframe thead th {\n",
       "        text-align: right;\n",
       "    }\n",
       "</style>\n",
       "<table border=\"1\" class=\"dataframe\">\n",
       "  <thead>\n",
       "    <tr style=\"text-align: right;\">\n",
       "      <th></th>\n",
       "      <th>num_outpatient_buckets</th>\n",
       "      <th>number_outpatient</th>\n",
       "    </tr>\n",
       "  </thead>\n",
       "  <tbody>\n",
       "    <tr>\n",
       "      <th>68055</th>\n",
       "      <td>0</td>\n",
       "      <td>0</td>\n",
       "    </tr>\n",
       "    <tr>\n",
       "      <th>48951</th>\n",
       "      <td>0</td>\n",
       "      <td>0</td>\n",
       "    </tr>\n",
       "    <tr>\n",
       "      <th>21467</th>\n",
       "      <td>0</td>\n",
       "      <td>0</td>\n",
       "    </tr>\n",
       "    <tr>\n",
       "      <th>86815</th>\n",
       "      <td>0</td>\n",
       "      <td>0</td>\n",
       "    </tr>\n",
       "    <tr>\n",
       "      <th>91112</th>\n",
       "      <td>0</td>\n",
       "      <td>0</td>\n",
       "    </tr>\n",
       "    <tr>\n",
       "      <th>48997</th>\n",
       "      <td>0</td>\n",
       "      <td>0</td>\n",
       "    </tr>\n",
       "    <tr>\n",
       "      <th>22231</th>\n",
       "      <td>0</td>\n",
       "      <td>0</td>\n",
       "    </tr>\n",
       "    <tr>\n",
       "      <th>58609</th>\n",
       "      <td>0</td>\n",
       "      <td>0</td>\n",
       "    </tr>\n",
       "    <tr>\n",
       "      <th>88264</th>\n",
       "      <td>0</td>\n",
       "      <td>0</td>\n",
       "    </tr>\n",
       "    <tr>\n",
       "      <th>52246</th>\n",
       "      <td>0</td>\n",
       "      <td>0</td>\n",
       "    </tr>\n",
       "  </tbody>\n",
       "</table>\n",
       "</div>"
      ],
      "text/plain": [
       "      num_outpatient_buckets  number_outpatient\n",
       "68055                      0                  0\n",
       "48951                      0                  0\n",
       "21467                      0                  0\n",
       "86815                      0                  0\n",
       "91112                      0                  0\n",
       "48997                      0                  0\n",
       "22231                      0                  0\n",
       "58609                      0                  0\n",
       "88264                      0                  0\n",
       "52246                      0                  0"
      ]
     },
     "execution_count": 163,
     "metadata": {},
     "output_type": "execute_result"
    }
   ],
   "source": [
    "df[['num_outpatient_buckets', 'number_outpatient']].sample(10)"
   ]
  },
  {
   "cell_type": "markdown",
   "metadata": {
    "heading_collapsed": true
   },
   "source": [
    "### number_emergency:"
   ]
  },
  {
   "cell_type": "code",
   "execution_count": 164,
   "metadata": {
    "hidden": true
   },
   "outputs": [
    {
     "data": {
      "text/plain": [
       "array([ 0,  1,  2,  4,  3,  9,  5,  7,  6,  8, 22, 25, 10, 13, 42, 16, 11,\n",
       "       28, 15, 14, 18, 12, 21, 20, 19, 46, 76, 37, 64, 63, 54, 24, 29])"
      ]
     },
     "execution_count": 164,
     "metadata": {},
     "output_type": "execute_result"
    }
   ],
   "source": [
    "df.number_emergency.unique()"
   ]
  },
  {
   "cell_type": "code",
   "execution_count": 165,
   "metadata": {
    "hidden": true
   },
   "outputs": [
    {
     "data": {
      "text/plain": [
       "0     90383\n",
       "1      7677\n",
       "2      2042\n",
       "3       725\n",
       "4       374\n",
       "5       192\n",
       "6        94\n",
       "7        73\n",
       "8        50\n",
       "10       34\n",
       "9        33\n",
       "11       23\n",
       "13       12\n",
       "12       10\n",
       "22        6\n",
       "18        5\n",
       "16        5\n",
       "19        4\n",
       "20        4\n",
       "14        3\n",
       "15        3\n",
       "21        2\n",
       "25        2\n",
       "76        1\n",
       "54        1\n",
       "24        1\n",
       "28        1\n",
       "29        1\n",
       "37        1\n",
       "42        1\n",
       "46        1\n",
       "64        1\n",
       "63        1\n",
       "Name: number_emergency, dtype: int64"
      ]
     },
     "execution_count": 165,
     "metadata": {},
     "output_type": "execute_result"
    }
   ],
   "source": [
    "df.number_emergency.value_counts()"
   ]
  },
  {
   "cell_type": "code",
   "execution_count": 166,
   "metadata": {
    "hidden": true
   },
   "outputs": [],
   "source": [
    "df['num_emergency_buckets'] = df['number_emergency']\n",
    "for num in range(10, 77):\n",
    "    if num in df.num_emergency_buckets.values:\n",
    "        df['num_emergency_buckets'].replace({num:'>=10'}, inplace=True)"
   ]
  },
  {
   "cell_type": "code",
   "execution_count": 167,
   "metadata": {
    "hidden": true
   },
   "outputs": [
    {
     "data": {
      "text/plain": [
       "array([0, 1, 2, 4, 3, 9, 5, 7, 6, 8, '>=10'], dtype=object)"
      ]
     },
     "execution_count": 167,
     "metadata": {},
     "output_type": "execute_result"
    }
   ],
   "source": [
    "df.num_emergency_buckets.unique()"
   ]
  },
  {
   "cell_type": "code",
   "execution_count": 168,
   "metadata": {
    "hidden": true
   },
   "outputs": [
    {
     "data": {
      "text/plain": [
       "0       90383\n",
       "1        7677\n",
       "2        2042\n",
       "3         725\n",
       "4         374\n",
       "5         192\n",
       ">=10      123\n",
       "6          94\n",
       "7          73\n",
       "8          50\n",
       "9          33\n",
       "Name: num_emergency_buckets, dtype: int64"
      ]
     },
     "execution_count": 168,
     "metadata": {},
     "output_type": "execute_result"
    }
   ],
   "source": [
    "df.num_emergency_buckets.value_counts()"
   ]
  },
  {
   "cell_type": "markdown",
   "metadata": {
    "heading_collapsed": true
   },
   "source": [
    "### number_inpatient:"
   ]
  },
  {
   "cell_type": "code",
   "execution_count": 169,
   "metadata": {
    "hidden": true
   },
   "outputs": [
    {
     "data": {
      "text/plain": [
       "array([ 0,  1,  2,  3,  6,  5,  4,  7,  8,  9, 15, 10, 11, 14, 12, 13, 17,\n",
       "       16, 21, 18, 19])"
      ]
     },
     "execution_count": 169,
     "metadata": {},
     "output_type": "execute_result"
    }
   ],
   "source": [
    "df.number_inpatient.unique()"
   ]
  },
  {
   "cell_type": "code",
   "execution_count": 170,
   "metadata": {
    "hidden": true,
    "scrolled": true
   },
   "outputs": [
    {
     "data": {
      "text/plain": [
       "0     67630\n",
       "1     19521\n",
       "2      7566\n",
       "3      3411\n",
       "4      1622\n",
       "5       812\n",
       "6       480\n",
       "7       268\n",
       "8       151\n",
       "9       111\n",
       "10       61\n",
       "11       49\n",
       "12       34\n",
       "13       20\n",
       "14       10\n",
       "15        9\n",
       "16        6\n",
       "19        2\n",
       "17        1\n",
       "18        1\n",
       "21        1\n",
       "Name: number_inpatient, dtype: int64"
      ]
     },
     "execution_count": 170,
     "metadata": {},
     "output_type": "execute_result"
    }
   ],
   "source": [
    "df.number_inpatient.value_counts()"
   ]
  },
  {
   "cell_type": "code",
   "execution_count": 171,
   "metadata": {
    "hidden": true
   },
   "outputs": [],
   "source": [
    "df['num_inpatient_buckets'] = df['number_inpatient']\n",
    "for num in range(10, 77):\n",
    "    if num in df.num_inpatient_buckets.values:\n",
    "        df['num_inpatient_buckets'].replace({num:'>=10'}, inplace=True)"
   ]
  },
  {
   "cell_type": "code",
   "execution_count": 172,
   "metadata": {
    "hidden": true
   },
   "outputs": [
    {
     "data": {
      "text/plain": [
       "array([0, 1, 2, 3, 6, 5, 4, 7, 8, 9, '>=10'], dtype=object)"
      ]
     },
     "execution_count": 172,
     "metadata": {},
     "output_type": "execute_result"
    }
   ],
   "source": [
    "df.num_inpatient_buckets.unique()"
   ]
  },
  {
   "cell_type": "code",
   "execution_count": 173,
   "metadata": {
    "hidden": true
   },
   "outputs": [
    {
     "data": {
      "text/plain": [
       "0       67630\n",
       "1       19521\n",
       "2        7566\n",
       "3        3411\n",
       "4        1622\n",
       "5         812\n",
       "6         480\n",
       "7         268\n",
       ">=10      194\n",
       "8         151\n",
       "9         111\n",
       "Name: num_inpatient_buckets, dtype: int64"
      ]
     },
     "execution_count": 173,
     "metadata": {},
     "output_type": "execute_result"
    }
   ],
   "source": [
    "df.num_inpatient_buckets.value_counts()"
   ]
  },
  {
   "cell_type": "markdown",
   "metadata": {},
   "source": [
    "### number_diagnoses:"
   ]
  },
  {
   "cell_type": "code",
   "execution_count": 174,
   "metadata": {},
   "outputs": [
    {
     "data": {
      "text/plain": [
       "array([ 1,  9,  6,  7,  5,  8,  3,  4,  2, 16, 12, 13, 15, 10, 11, 14])"
      ]
     },
     "execution_count": 174,
     "metadata": {},
     "output_type": "execute_result"
    }
   ],
   "source": [
    "df.number_diagnoses.unique()"
   ]
  },
  {
   "cell_type": "code",
   "execution_count": 175,
   "metadata": {},
   "outputs": [
    {
     "data": {
      "text/plain": [
       "9     49474\n",
       "5     11393\n",
       "8     10616\n",
       "7     10393\n",
       "6     10161\n",
       "4      5537\n",
       "3      2835\n",
       "2      1023\n",
       "1       219\n",
       "16       45\n",
       "10       17\n",
       "13       16\n",
       "11       11\n",
       "15       10\n",
       "12        9\n",
       "14        7\n",
       "Name: number_diagnoses, dtype: int64"
      ]
     },
     "execution_count": 175,
     "metadata": {},
     "output_type": "execute_result"
    }
   ],
   "source": [
    "df.number_diagnoses.value_counts()"
   ]
  },
  {
   "cell_type": "code",
   "execution_count": 176,
   "metadata": {},
   "outputs": [],
   "source": [
    "df['num_diagnoses_buckets'] = df['number_diagnoses']\n",
    "for num in range(10, 77):\n",
    "    if num in df.num_diagnoses_buckets.values:\n",
    "        df['num_diagnoses_buckets'].replace({num:'>=10'}, inplace=True)"
   ]
  },
  {
   "cell_type": "code",
   "execution_count": 177,
   "metadata": {},
   "outputs": [],
   "source": [
    "# for num in range(1, 5):\n",
    "#     if num in df.num_diagnoses_buckets.values:\n",
    "#         df['num_diagnoses_buckets'].replace({num:'[1-4)'}, inplace=True)"
   ]
  },
  {
   "cell_type": "code",
   "execution_count": 178,
   "metadata": {},
   "outputs": [
    {
     "data": {
      "text/plain": [
       "array([1, 9, 6, 7, 5, 8, 3, 4, 2, '>=10'], dtype=object)"
      ]
     },
     "execution_count": 178,
     "metadata": {},
     "output_type": "execute_result"
    }
   ],
   "source": [
    "df.num_diagnoses_buckets.unique()"
   ]
  },
  {
   "cell_type": "code",
   "execution_count": 179,
   "metadata": {},
   "outputs": [
    {
     "data": {
      "text/plain": [
       "9       49474\n",
       "5       11393\n",
       "8       10616\n",
       "7       10393\n",
       "6       10161\n",
       "4        5537\n",
       "3        2835\n",
       "2        1023\n",
       "1         219\n",
       ">=10      115\n",
       "Name: num_diagnoses_buckets, dtype: int64"
      ]
     },
     "execution_count": 179,
     "metadata": {},
     "output_type": "execute_result"
    }
   ],
   "source": [
    "df.num_diagnoses_buckets.value_counts()"
   ]
  },
  {
   "cell_type": "code",
   "execution_count": 180,
   "metadata": {},
   "outputs": [
    {
     "data": {
      "text/html": [
       "<div>\n",
       "<style scoped>\n",
       "    .dataframe tbody tr th:only-of-type {\n",
       "        vertical-align: middle;\n",
       "    }\n",
       "\n",
       "    .dataframe tbody tr th {\n",
       "        vertical-align: top;\n",
       "    }\n",
       "\n",
       "    .dataframe thead th {\n",
       "        text-align: right;\n",
       "    }\n",
       "</style>\n",
       "<table border=\"1\" class=\"dataframe\">\n",
       "  <thead>\n",
       "    <tr style=\"text-align: right;\">\n",
       "      <th></th>\n",
       "      <th>race</th>\n",
       "      <th>gender</th>\n",
       "      <th>age</th>\n",
       "      <th>weight</th>\n",
       "      <th>admission_type_id</th>\n",
       "      <th>discharge_disposition_id</th>\n",
       "      <th>admission_source_id</th>\n",
       "      <th>time_in_hospital</th>\n",
       "      <th>payer_code</th>\n",
       "      <th>medical_specialty</th>\n",
       "      <th>num_lab_procedures</th>\n",
       "      <th>num_procedures</th>\n",
       "      <th>num_medications</th>\n",
       "      <th>number_outpatient</th>\n",
       "      <th>number_emergency</th>\n",
       "      <th>number_inpatient</th>\n",
       "      <th>diag_1</th>\n",
       "      <th>diag_2</th>\n",
       "      <th>diag_3</th>\n",
       "      <th>number_diagnoses</th>\n",
       "      <th>max_glu_serum</th>\n",
       "      <th>A1Cresult</th>\n",
       "      <th>metformin</th>\n",
       "      <th>repaglinide</th>\n",
       "      <th>nateglinide</th>\n",
       "      <th>chlorpropamide</th>\n",
       "      <th>glimepiride</th>\n",
       "      <th>acetohexamide</th>\n",
       "      <th>glipizide</th>\n",
       "      <th>glyburide</th>\n",
       "      <th>tolbutamide</th>\n",
       "      <th>pioglitazone</th>\n",
       "      <th>rosiglitazone</th>\n",
       "      <th>acarbose</th>\n",
       "      <th>miglitol</th>\n",
       "      <th>troglitazone</th>\n",
       "      <th>tolazamide</th>\n",
       "      <th>examide</th>\n",
       "      <th>citoglipton</th>\n",
       "      <th>insulin</th>\n",
       "      <th>glyburide-metformin</th>\n",
       "      <th>glipizide-metformin</th>\n",
       "      <th>glimepiride-pioglitazone</th>\n",
       "      <th>metformin-rosiglitazone</th>\n",
       "      <th>metformin-pioglitazone</th>\n",
       "      <th>change</th>\n",
       "      <th>diabetesMed</th>\n",
       "      <th>readmitted</th>\n",
       "      <th>readmitted_target</th>\n",
       "      <th>lab_procedure_buckets</th>\n",
       "      <th>num_medication_buckets</th>\n",
       "      <th>num_outpatient_buckets</th>\n",
       "      <th>num_emergency_buckets</th>\n",
       "      <th>num_inpatient_buckets</th>\n",
       "      <th>num_diagnoses_buckets</th>\n",
       "    </tr>\n",
       "  </thead>\n",
       "  <tbody>\n",
       "    <tr>\n",
       "      <th>0</th>\n",
       "      <td>Caucasian</td>\n",
       "      <td>Female</td>\n",
       "      <td>[0-10)</td>\n",
       "      <td>unknown</td>\n",
       "      <td>Unknown</td>\n",
       "      <td>Unknown</td>\n",
       "      <td>Referral</td>\n",
       "      <td>1</td>\n",
       "      <td>unknown</td>\n",
       "      <td>Pediatrics</td>\n",
       "      <td>41</td>\n",
       "      <td>0</td>\n",
       "      <td>1</td>\n",
       "      <td>0</td>\n",
       "      <td>0</td>\n",
       "      <td>0</td>\n",
       "      <td>diabetes</td>\n",
       "      <td>Unknown</td>\n",
       "      <td>Unknown</td>\n",
       "      <td>1</td>\n",
       "      <td>None</td>\n",
       "      <td>None</td>\n",
       "      <td>No</td>\n",
       "      <td>No</td>\n",
       "      <td>No</td>\n",
       "      <td>No</td>\n",
       "      <td>No</td>\n",
       "      <td>No</td>\n",
       "      <td>No</td>\n",
       "      <td>No</td>\n",
       "      <td>No</td>\n",
       "      <td>No</td>\n",
       "      <td>No</td>\n",
       "      <td>No</td>\n",
       "      <td>No</td>\n",
       "      <td>No</td>\n",
       "      <td>No</td>\n",
       "      <td>No</td>\n",
       "      <td>No</td>\n",
       "      <td>No</td>\n",
       "      <td>No</td>\n",
       "      <td>No</td>\n",
       "      <td>No</td>\n",
       "      <td>No</td>\n",
       "      <td>No</td>\n",
       "      <td>No</td>\n",
       "      <td>No</td>\n",
       "      <td>NO</td>\n",
       "      <td>0</td>\n",
       "      <td>[41-50)</td>\n",
       "      <td>&lt;=5</td>\n",
       "      <td>0</td>\n",
       "      <td>0</td>\n",
       "      <td>0</td>\n",
       "      <td>1</td>\n",
       "    </tr>\n",
       "    <tr>\n",
       "      <th>1</th>\n",
       "      <td>Caucasian</td>\n",
       "      <td>Female</td>\n",
       "      <td>[10-20)</td>\n",
       "      <td>unknown</td>\n",
       "      <td>Emergency</td>\n",
       "      <td>Home</td>\n",
       "      <td>EmergencyRoom</td>\n",
       "      <td>3</td>\n",
       "      <td>unknown</td>\n",
       "      <td>unknown</td>\n",
       "      <td>59</td>\n",
       "      <td>0</td>\n",
       "      <td>18</td>\n",
       "      <td>0</td>\n",
       "      <td>0</td>\n",
       "      <td>0</td>\n",
       "      <td>Endocrine</td>\n",
       "      <td>diabetes</td>\n",
       "      <td>Endocrine</td>\n",
       "      <td>9</td>\n",
       "      <td>None</td>\n",
       "      <td>None</td>\n",
       "      <td>No</td>\n",
       "      <td>No</td>\n",
       "      <td>No</td>\n",
       "      <td>No</td>\n",
       "      <td>No</td>\n",
       "      <td>No</td>\n",
       "      <td>No</td>\n",
       "      <td>No</td>\n",
       "      <td>No</td>\n",
       "      <td>No</td>\n",
       "      <td>No</td>\n",
       "      <td>No</td>\n",
       "      <td>No</td>\n",
       "      <td>No</td>\n",
       "      <td>No</td>\n",
       "      <td>No</td>\n",
       "      <td>No</td>\n",
       "      <td>Up</td>\n",
       "      <td>No</td>\n",
       "      <td>No</td>\n",
       "      <td>No</td>\n",
       "      <td>No</td>\n",
       "      <td>No</td>\n",
       "      <td>Yes</td>\n",
       "      <td>Yes</td>\n",
       "      <td>&gt;30</td>\n",
       "      <td>1</td>\n",
       "      <td>[51-60)</td>\n",
       "      <td>[16-20)</td>\n",
       "      <td>0</td>\n",
       "      <td>0</td>\n",
       "      <td>0</td>\n",
       "      <td>9</td>\n",
       "    </tr>\n",
       "    <tr>\n",
       "      <th>2</th>\n",
       "      <td>AfricanAmerican</td>\n",
       "      <td>Female</td>\n",
       "      <td>[20-30)</td>\n",
       "      <td>unknown</td>\n",
       "      <td>Emergency</td>\n",
       "      <td>Home</td>\n",
       "      <td>EmergencyRoom</td>\n",
       "      <td>2</td>\n",
       "      <td>unknown</td>\n",
       "      <td>unknown</td>\n",
       "      <td>11</td>\n",
       "      <td>5</td>\n",
       "      <td>13</td>\n",
       "      <td>2</td>\n",
       "      <td>0</td>\n",
       "      <td>1</td>\n",
       "      <td>DeliveryComplications</td>\n",
       "      <td>diabetes</td>\n",
       "      <td>Other</td>\n",
       "      <td>6</td>\n",
       "      <td>None</td>\n",
       "      <td>None</td>\n",
       "      <td>No</td>\n",
       "      <td>No</td>\n",
       "      <td>No</td>\n",
       "      <td>No</td>\n",
       "      <td>No</td>\n",
       "      <td>No</td>\n",
       "      <td>Steady</td>\n",
       "      <td>No</td>\n",
       "      <td>No</td>\n",
       "      <td>No</td>\n",
       "      <td>No</td>\n",
       "      <td>No</td>\n",
       "      <td>No</td>\n",
       "      <td>No</td>\n",
       "      <td>No</td>\n",
       "      <td>No</td>\n",
       "      <td>No</td>\n",
       "      <td>No</td>\n",
       "      <td>No</td>\n",
       "      <td>No</td>\n",
       "      <td>No</td>\n",
       "      <td>No</td>\n",
       "      <td>No</td>\n",
       "      <td>No</td>\n",
       "      <td>Yes</td>\n",
       "      <td>NO</td>\n",
       "      <td>0</td>\n",
       "      <td>[11-20)</td>\n",
       "      <td>[11-15)</td>\n",
       "      <td>2</td>\n",
       "      <td>0</td>\n",
       "      <td>1</td>\n",
       "      <td>6</td>\n",
       "    </tr>\n",
       "    <tr>\n",
       "      <th>3</th>\n",
       "      <td>Caucasian</td>\n",
       "      <td>Male</td>\n",
       "      <td>[30-40)</td>\n",
       "      <td>unknown</td>\n",
       "      <td>Emergency</td>\n",
       "      <td>Home</td>\n",
       "      <td>EmergencyRoom</td>\n",
       "      <td>2</td>\n",
       "      <td>unknown</td>\n",
       "      <td>unknown</td>\n",
       "      <td>44</td>\n",
       "      <td>1</td>\n",
       "      <td>16</td>\n",
       "      <td>0</td>\n",
       "      <td>0</td>\n",
       "      <td>0</td>\n",
       "      <td>InfectiousDiseases</td>\n",
       "      <td>diabetes</td>\n",
       "      <td>circulatory</td>\n",
       "      <td>7</td>\n",
       "      <td>None</td>\n",
       "      <td>None</td>\n",
       "      <td>No</td>\n",
       "      <td>No</td>\n",
       "      <td>No</td>\n",
       "      <td>No</td>\n",
       "      <td>No</td>\n",
       "      <td>No</td>\n",
       "      <td>No</td>\n",
       "      <td>No</td>\n",
       "      <td>No</td>\n",
       "      <td>No</td>\n",
       "      <td>No</td>\n",
       "      <td>No</td>\n",
       "      <td>No</td>\n",
       "      <td>No</td>\n",
       "      <td>No</td>\n",
       "      <td>No</td>\n",
       "      <td>No</td>\n",
       "      <td>Up</td>\n",
       "      <td>No</td>\n",
       "      <td>No</td>\n",
       "      <td>No</td>\n",
       "      <td>No</td>\n",
       "      <td>No</td>\n",
       "      <td>Yes</td>\n",
       "      <td>Yes</td>\n",
       "      <td>NO</td>\n",
       "      <td>0</td>\n",
       "      <td>[41-50)</td>\n",
       "      <td>[16-20)</td>\n",
       "      <td>0</td>\n",
       "      <td>0</td>\n",
       "      <td>0</td>\n",
       "      <td>7</td>\n",
       "    </tr>\n",
       "    <tr>\n",
       "      <th>4</th>\n",
       "      <td>Caucasian</td>\n",
       "      <td>Male</td>\n",
       "      <td>[40-50)</td>\n",
       "      <td>unknown</td>\n",
       "      <td>Emergency</td>\n",
       "      <td>Home</td>\n",
       "      <td>EmergencyRoom</td>\n",
       "      <td>1</td>\n",
       "      <td>unknown</td>\n",
       "      <td>unknown</td>\n",
       "      <td>51</td>\n",
       "      <td>0</td>\n",
       "      <td>8</td>\n",
       "      <td>0</td>\n",
       "      <td>0</td>\n",
       "      <td>0</td>\n",
       "      <td>neoplasms</td>\n",
       "      <td>neoplasms</td>\n",
       "      <td>diabetes</td>\n",
       "      <td>5</td>\n",
       "      <td>None</td>\n",
       "      <td>None</td>\n",
       "      <td>No</td>\n",
       "      <td>No</td>\n",
       "      <td>No</td>\n",
       "      <td>No</td>\n",
       "      <td>No</td>\n",
       "      <td>No</td>\n",
       "      <td>Steady</td>\n",
       "      <td>No</td>\n",
       "      <td>No</td>\n",
       "      <td>No</td>\n",
       "      <td>No</td>\n",
       "      <td>No</td>\n",
       "      <td>No</td>\n",
       "      <td>No</td>\n",
       "      <td>No</td>\n",
       "      <td>No</td>\n",
       "      <td>No</td>\n",
       "      <td>Steady</td>\n",
       "      <td>No</td>\n",
       "      <td>No</td>\n",
       "      <td>No</td>\n",
       "      <td>No</td>\n",
       "      <td>No</td>\n",
       "      <td>Yes</td>\n",
       "      <td>Yes</td>\n",
       "      <td>NO</td>\n",
       "      <td>0</td>\n",
       "      <td>[51-60)</td>\n",
       "      <td>[6-10)</td>\n",
       "      <td>0</td>\n",
       "      <td>0</td>\n",
       "      <td>0</td>\n",
       "      <td>5</td>\n",
       "    </tr>\n",
       "  </tbody>\n",
       "</table>\n",
       "</div>"
      ],
      "text/plain": [
       "              race  gender  ... num_inpatient_buckets num_diagnoses_buckets\n",
       "0        Caucasian  Female  ...                     0                     1\n",
       "1        Caucasian  Female  ...                     0                     9\n",
       "2  AfricanAmerican  Female  ...                     1                     6\n",
       "3        Caucasian    Male  ...                     0                     7\n",
       "4        Caucasian    Male  ...                     0                     5\n",
       "\n",
       "[5 rows x 55 columns]"
      ]
     },
     "execution_count": 180,
     "metadata": {},
     "output_type": "execute_result"
    }
   ],
   "source": [
    "df.head()"
   ]
  },
  {
   "cell_type": "code",
   "execution_count": 181,
   "metadata": {},
   "outputs": [
    {
     "data": {
      "text/plain": [
       "array(['Female', 'Male', 'Unknown/Invalid'], dtype=object)"
      ]
     },
     "execution_count": 181,
     "metadata": {},
     "output_type": "execute_result"
    }
   ],
   "source": [
    "df.gender.unique()"
   ]
  },
  {
   "cell_type": "code",
   "execution_count": 182,
   "metadata": {},
   "outputs": [],
   "source": [
    "# df.loc[:, 'gender'] = df.loc[:, 'gender'].map({'Male': 0, 'Female': 1})"
   ]
  },
  {
   "cell_type": "code",
   "execution_count": 183,
   "metadata": {},
   "outputs": [
    {
     "data": {
      "text/plain": [
       "array(['None', '>7', '>8', 'Norm'], dtype=object)"
      ]
     },
     "execution_count": 183,
     "metadata": {},
     "output_type": "execute_result"
    }
   ],
   "source": [
    "df.A1Cresult.unique()\n",
    "# find_avg_readmits_per_category(df, 'A1Cresult')"
   ]
  },
  {
   "cell_type": "markdown",
   "metadata": {},
   "source": [
    "A normal A1C level is below 5.7%, a level of 5.7% to 6.4% indicates prediabetes, and a level of 6.5% or more indicates diabetes. Within the 5.7% to 6.4% prediabetes range, the higher your A1C, the greater your risk is for developing type 2 diabetes.\n",
    "\n",
    "CDC:\n",
    "https://www.cdc.gov/diabetes/managing/managing-blood-sugar/a1c.html#:~:text=A%20normal%20A1C%20level%20is,for%20developing%20type%202%20diabetes"
   ]
  },
  {
   "cell_type": "code",
   "execution_count": 184,
   "metadata": {},
   "outputs": [],
   "source": [
    "# change to integers and keep them in an order\n",
    "# df.A1Cresult.replace({'None':0, '>8':3, 'Norm':1, '>7':2}, \n",
    "#                          inplace=True)\n",
    "# A1Cresult = {0:'None', 3:'>8', 1:'Norm', 2:'>7'}"
   ]
  },
  {
   "cell_type": "code",
   "execution_count": 185,
   "metadata": {},
   "outputs": [
    {
     "data": {
      "text/plain": [
       "array(['None', '>300', 'Norm', '>200'], dtype=object)"
      ]
     },
     "execution_count": 185,
     "metadata": {},
     "output_type": "execute_result"
    }
   ],
   "source": [
    "df.max_glu_serum.unique()\n",
    "# find_avg_readmits_per_category(df, 'max_glu_serum')"
   ]
  },
  {
   "cell_type": "markdown",
   "metadata": {},
   "source": [
    "A blood sugar level less than 140 mg/dL (7.8 mmol/L) is normal. A reading of more than 200 mg/dL (11.1 mmol/L) after two hours indicates diabetes. A reading between 140 and 199 mg/dL (7.8 mmol/L and 11.0 mmol/L) indicates prediabetes. > 300 is dangerous!\n",
    "\n",
    "\n",
    "Mayo Clinic:\n",
    "https://www.mayoclinic.org/diseases-conditions/diabetes/diagnosis-treatment/drc-20371451#:~:text=Oral%20glucose%20tolerance%20test.&text=A%20blood%20sugar%20level%20less,mmol%2FL)"
   ]
  },
  {
   "cell_type": "code",
   "execution_count": 186,
   "metadata": {},
   "outputs": [],
   "source": [
    "# change to integers and keep them in an order\n",
    "# df.max_glu_serum.replace({'None':0, '>300':3, 'Norm':1, '>200':2}, \n",
    "#                          inplace=True)"
   ]
  },
  {
   "cell_type": "code",
   "execution_count": 187,
   "metadata": {},
   "outputs": [],
   "source": [
    "# max_glu_serum_dict = {0:'None', 3:'>300', 1:'Norm', 2:'>200'}"
   ]
  },
  {
   "cell_type": "code",
   "execution_count": 188,
   "metadata": {},
   "outputs": [],
   "source": [
    "# df.info()"
   ]
  },
  {
   "cell_type": "code",
   "execution_count": 189,
   "metadata": {},
   "outputs": [
    {
     "data": {
      "text/plain": [
       "array(['No', 'Yes'], dtype=object)"
      ]
     },
     "execution_count": 189,
     "metadata": {},
     "output_type": "execute_result"
    }
   ],
   "source": [
    "df.change.unique()"
   ]
  },
  {
   "cell_type": "code",
   "execution_count": 190,
   "metadata": {},
   "outputs": [
    {
     "data": {
      "text/plain": [
       "array(['No', 'Yes'], dtype=object)"
      ]
     },
     "execution_count": 190,
     "metadata": {},
     "output_type": "execute_result"
    }
   ],
   "source": [
    "df.diabetesMed.unique()"
   ]
  },
  {
   "cell_type": "code",
   "execution_count": 191,
   "metadata": {},
   "outputs": [],
   "source": [
    "# df.change.replace({'Ch':1, 'No':0}, inplace=True)\n",
    "# df.diabetesMed.replace({'Yes':1, 'No':0}, inplace=True)"
   ]
  },
  {
   "cell_type": "code",
   "execution_count": 192,
   "metadata": {},
   "outputs": [],
   "source": [
    "# df[['change', 'diabetesMed']] = df[['change',\n",
    "#                             'diabetesMed']].astype('O')"
   ]
  },
  {
   "cell_type": "code",
   "execution_count": 193,
   "metadata": {},
   "outputs": [],
   "source": [
    "generic_meds = ['metformin',\n",
    "       'repaglinide', 'nateglinide', 'chlorpropamide', 'glimepiride',\n",
    "       'acetohexamide', 'glipizide', 'glyburide', 'tolbutamide',\n",
    "       'pioglitazone', 'rosiglitazone', 'acarbose', 'miglitol', 'troglitazone',\n",
    "       'tolazamide', 'examide', 'citoglipton', 'insulin',\n",
    "       'glyburide-metformin', 'glipizide-metformin',\n",
    "       'glimepiride-pioglitazone', 'metformin-rosiglitazone',\n",
    "       'metformin-pioglitazone']"
   ]
  },
  {
   "cell_type": "code",
   "execution_count": 194,
   "metadata": {},
   "outputs": [],
   "source": [
    "# change values for all med columns for easier comprehension\n",
    "for col in generic_meds:\n",
    "    if col in df.columns:\n",
    "        df[col].replace({'No': 'None' , 'Steady': 'No Change', \n",
    "                    'Up': 'Increased', 'Down': 'Decreased'}, inplace=True)"
   ]
  },
  {
   "cell_type": "code",
   "execution_count": 195,
   "metadata": {},
   "outputs": [
    {
     "data": {
      "text/html": [
       "<div>\n",
       "<style scoped>\n",
       "    .dataframe tbody tr th:only-of-type {\n",
       "        vertical-align: middle;\n",
       "    }\n",
       "\n",
       "    .dataframe tbody tr th {\n",
       "        vertical-align: top;\n",
       "    }\n",
       "\n",
       "    .dataframe thead th {\n",
       "        text-align: right;\n",
       "    }\n",
       "</style>\n",
       "<table border=\"1\" class=\"dataframe\">\n",
       "  <thead>\n",
       "    <tr style=\"text-align: right;\">\n",
       "      <th></th>\n",
       "      <th>race</th>\n",
       "      <th>gender</th>\n",
       "      <th>age</th>\n",
       "      <th>weight</th>\n",
       "      <th>admission_type_id</th>\n",
       "      <th>discharge_disposition_id</th>\n",
       "      <th>admission_source_id</th>\n",
       "      <th>time_in_hospital</th>\n",
       "      <th>payer_code</th>\n",
       "      <th>medical_specialty</th>\n",
       "      <th>num_lab_procedures</th>\n",
       "      <th>num_procedures</th>\n",
       "      <th>num_medications</th>\n",
       "      <th>number_outpatient</th>\n",
       "      <th>number_emergency</th>\n",
       "      <th>number_inpatient</th>\n",
       "      <th>diag_1</th>\n",
       "      <th>diag_2</th>\n",
       "      <th>diag_3</th>\n",
       "      <th>number_diagnoses</th>\n",
       "      <th>max_glu_serum</th>\n",
       "      <th>A1Cresult</th>\n",
       "      <th>metformin</th>\n",
       "      <th>repaglinide</th>\n",
       "      <th>nateglinide</th>\n",
       "      <th>chlorpropamide</th>\n",
       "      <th>glimepiride</th>\n",
       "      <th>acetohexamide</th>\n",
       "      <th>glipizide</th>\n",
       "      <th>glyburide</th>\n",
       "      <th>tolbutamide</th>\n",
       "      <th>pioglitazone</th>\n",
       "      <th>rosiglitazone</th>\n",
       "      <th>acarbose</th>\n",
       "      <th>miglitol</th>\n",
       "      <th>troglitazone</th>\n",
       "      <th>tolazamide</th>\n",
       "      <th>examide</th>\n",
       "      <th>citoglipton</th>\n",
       "      <th>insulin</th>\n",
       "      <th>glyburide-metformin</th>\n",
       "      <th>glipizide-metformin</th>\n",
       "      <th>glimepiride-pioglitazone</th>\n",
       "      <th>metformin-rosiglitazone</th>\n",
       "      <th>metformin-pioglitazone</th>\n",
       "      <th>change</th>\n",
       "      <th>diabetesMed</th>\n",
       "      <th>readmitted</th>\n",
       "      <th>readmitted_target</th>\n",
       "      <th>lab_procedure_buckets</th>\n",
       "      <th>num_medication_buckets</th>\n",
       "      <th>num_outpatient_buckets</th>\n",
       "      <th>num_emergency_buckets</th>\n",
       "      <th>num_inpatient_buckets</th>\n",
       "      <th>num_diagnoses_buckets</th>\n",
       "    </tr>\n",
       "  </thead>\n",
       "  <tbody>\n",
       "    <tr>\n",
       "      <th>0</th>\n",
       "      <td>Caucasian</td>\n",
       "      <td>Female</td>\n",
       "      <td>[0-10)</td>\n",
       "      <td>unknown</td>\n",
       "      <td>Unknown</td>\n",
       "      <td>Unknown</td>\n",
       "      <td>Referral</td>\n",
       "      <td>1</td>\n",
       "      <td>unknown</td>\n",
       "      <td>Pediatrics</td>\n",
       "      <td>41</td>\n",
       "      <td>0</td>\n",
       "      <td>1</td>\n",
       "      <td>0</td>\n",
       "      <td>0</td>\n",
       "      <td>0</td>\n",
       "      <td>diabetes</td>\n",
       "      <td>Unknown</td>\n",
       "      <td>Unknown</td>\n",
       "      <td>1</td>\n",
       "      <td>None</td>\n",
       "      <td>None</td>\n",
       "      <td>None</td>\n",
       "      <td>None</td>\n",
       "      <td>None</td>\n",
       "      <td>None</td>\n",
       "      <td>None</td>\n",
       "      <td>None</td>\n",
       "      <td>None</td>\n",
       "      <td>None</td>\n",
       "      <td>None</td>\n",
       "      <td>None</td>\n",
       "      <td>None</td>\n",
       "      <td>None</td>\n",
       "      <td>None</td>\n",
       "      <td>None</td>\n",
       "      <td>None</td>\n",
       "      <td>None</td>\n",
       "      <td>None</td>\n",
       "      <td>None</td>\n",
       "      <td>None</td>\n",
       "      <td>None</td>\n",
       "      <td>None</td>\n",
       "      <td>None</td>\n",
       "      <td>None</td>\n",
       "      <td>No</td>\n",
       "      <td>No</td>\n",
       "      <td>NO</td>\n",
       "      <td>0</td>\n",
       "      <td>[41-50)</td>\n",
       "      <td>&lt;=5</td>\n",
       "      <td>0</td>\n",
       "      <td>0</td>\n",
       "      <td>0</td>\n",
       "      <td>1</td>\n",
       "    </tr>\n",
       "    <tr>\n",
       "      <th>1</th>\n",
       "      <td>Caucasian</td>\n",
       "      <td>Female</td>\n",
       "      <td>[10-20)</td>\n",
       "      <td>unknown</td>\n",
       "      <td>Emergency</td>\n",
       "      <td>Home</td>\n",
       "      <td>EmergencyRoom</td>\n",
       "      <td>3</td>\n",
       "      <td>unknown</td>\n",
       "      <td>unknown</td>\n",
       "      <td>59</td>\n",
       "      <td>0</td>\n",
       "      <td>18</td>\n",
       "      <td>0</td>\n",
       "      <td>0</td>\n",
       "      <td>0</td>\n",
       "      <td>Endocrine</td>\n",
       "      <td>diabetes</td>\n",
       "      <td>Endocrine</td>\n",
       "      <td>9</td>\n",
       "      <td>None</td>\n",
       "      <td>None</td>\n",
       "      <td>None</td>\n",
       "      <td>None</td>\n",
       "      <td>None</td>\n",
       "      <td>None</td>\n",
       "      <td>None</td>\n",
       "      <td>None</td>\n",
       "      <td>None</td>\n",
       "      <td>None</td>\n",
       "      <td>None</td>\n",
       "      <td>None</td>\n",
       "      <td>None</td>\n",
       "      <td>None</td>\n",
       "      <td>None</td>\n",
       "      <td>None</td>\n",
       "      <td>None</td>\n",
       "      <td>None</td>\n",
       "      <td>None</td>\n",
       "      <td>Increased</td>\n",
       "      <td>None</td>\n",
       "      <td>None</td>\n",
       "      <td>None</td>\n",
       "      <td>None</td>\n",
       "      <td>None</td>\n",
       "      <td>Yes</td>\n",
       "      <td>Yes</td>\n",
       "      <td>&gt;30</td>\n",
       "      <td>1</td>\n",
       "      <td>[51-60)</td>\n",
       "      <td>[16-20)</td>\n",
       "      <td>0</td>\n",
       "      <td>0</td>\n",
       "      <td>0</td>\n",
       "      <td>9</td>\n",
       "    </tr>\n",
       "    <tr>\n",
       "      <th>2</th>\n",
       "      <td>AfricanAmerican</td>\n",
       "      <td>Female</td>\n",
       "      <td>[20-30)</td>\n",
       "      <td>unknown</td>\n",
       "      <td>Emergency</td>\n",
       "      <td>Home</td>\n",
       "      <td>EmergencyRoom</td>\n",
       "      <td>2</td>\n",
       "      <td>unknown</td>\n",
       "      <td>unknown</td>\n",
       "      <td>11</td>\n",
       "      <td>5</td>\n",
       "      <td>13</td>\n",
       "      <td>2</td>\n",
       "      <td>0</td>\n",
       "      <td>1</td>\n",
       "      <td>DeliveryComplications</td>\n",
       "      <td>diabetes</td>\n",
       "      <td>Other</td>\n",
       "      <td>6</td>\n",
       "      <td>None</td>\n",
       "      <td>None</td>\n",
       "      <td>None</td>\n",
       "      <td>None</td>\n",
       "      <td>None</td>\n",
       "      <td>None</td>\n",
       "      <td>None</td>\n",
       "      <td>None</td>\n",
       "      <td>No Change</td>\n",
       "      <td>None</td>\n",
       "      <td>None</td>\n",
       "      <td>None</td>\n",
       "      <td>None</td>\n",
       "      <td>None</td>\n",
       "      <td>None</td>\n",
       "      <td>None</td>\n",
       "      <td>None</td>\n",
       "      <td>None</td>\n",
       "      <td>None</td>\n",
       "      <td>None</td>\n",
       "      <td>None</td>\n",
       "      <td>None</td>\n",
       "      <td>None</td>\n",
       "      <td>None</td>\n",
       "      <td>None</td>\n",
       "      <td>No</td>\n",
       "      <td>Yes</td>\n",
       "      <td>NO</td>\n",
       "      <td>0</td>\n",
       "      <td>[11-20)</td>\n",
       "      <td>[11-15)</td>\n",
       "      <td>2</td>\n",
       "      <td>0</td>\n",
       "      <td>1</td>\n",
       "      <td>6</td>\n",
       "    </tr>\n",
       "    <tr>\n",
       "      <th>3</th>\n",
       "      <td>Caucasian</td>\n",
       "      <td>Male</td>\n",
       "      <td>[30-40)</td>\n",
       "      <td>unknown</td>\n",
       "      <td>Emergency</td>\n",
       "      <td>Home</td>\n",
       "      <td>EmergencyRoom</td>\n",
       "      <td>2</td>\n",
       "      <td>unknown</td>\n",
       "      <td>unknown</td>\n",
       "      <td>44</td>\n",
       "      <td>1</td>\n",
       "      <td>16</td>\n",
       "      <td>0</td>\n",
       "      <td>0</td>\n",
       "      <td>0</td>\n",
       "      <td>InfectiousDiseases</td>\n",
       "      <td>diabetes</td>\n",
       "      <td>circulatory</td>\n",
       "      <td>7</td>\n",
       "      <td>None</td>\n",
       "      <td>None</td>\n",
       "      <td>None</td>\n",
       "      <td>None</td>\n",
       "      <td>None</td>\n",
       "      <td>None</td>\n",
       "      <td>None</td>\n",
       "      <td>None</td>\n",
       "      <td>None</td>\n",
       "      <td>None</td>\n",
       "      <td>None</td>\n",
       "      <td>None</td>\n",
       "      <td>None</td>\n",
       "      <td>None</td>\n",
       "      <td>None</td>\n",
       "      <td>None</td>\n",
       "      <td>None</td>\n",
       "      <td>None</td>\n",
       "      <td>None</td>\n",
       "      <td>Increased</td>\n",
       "      <td>None</td>\n",
       "      <td>None</td>\n",
       "      <td>None</td>\n",
       "      <td>None</td>\n",
       "      <td>None</td>\n",
       "      <td>Yes</td>\n",
       "      <td>Yes</td>\n",
       "      <td>NO</td>\n",
       "      <td>0</td>\n",
       "      <td>[41-50)</td>\n",
       "      <td>[16-20)</td>\n",
       "      <td>0</td>\n",
       "      <td>0</td>\n",
       "      <td>0</td>\n",
       "      <td>7</td>\n",
       "    </tr>\n",
       "    <tr>\n",
       "      <th>4</th>\n",
       "      <td>Caucasian</td>\n",
       "      <td>Male</td>\n",
       "      <td>[40-50)</td>\n",
       "      <td>unknown</td>\n",
       "      <td>Emergency</td>\n",
       "      <td>Home</td>\n",
       "      <td>EmergencyRoom</td>\n",
       "      <td>1</td>\n",
       "      <td>unknown</td>\n",
       "      <td>unknown</td>\n",
       "      <td>51</td>\n",
       "      <td>0</td>\n",
       "      <td>8</td>\n",
       "      <td>0</td>\n",
       "      <td>0</td>\n",
       "      <td>0</td>\n",
       "      <td>neoplasms</td>\n",
       "      <td>neoplasms</td>\n",
       "      <td>diabetes</td>\n",
       "      <td>5</td>\n",
       "      <td>None</td>\n",
       "      <td>None</td>\n",
       "      <td>None</td>\n",
       "      <td>None</td>\n",
       "      <td>None</td>\n",
       "      <td>None</td>\n",
       "      <td>None</td>\n",
       "      <td>None</td>\n",
       "      <td>No Change</td>\n",
       "      <td>None</td>\n",
       "      <td>None</td>\n",
       "      <td>None</td>\n",
       "      <td>None</td>\n",
       "      <td>None</td>\n",
       "      <td>None</td>\n",
       "      <td>None</td>\n",
       "      <td>None</td>\n",
       "      <td>None</td>\n",
       "      <td>None</td>\n",
       "      <td>No Change</td>\n",
       "      <td>None</td>\n",
       "      <td>None</td>\n",
       "      <td>None</td>\n",
       "      <td>None</td>\n",
       "      <td>None</td>\n",
       "      <td>Yes</td>\n",
       "      <td>Yes</td>\n",
       "      <td>NO</td>\n",
       "      <td>0</td>\n",
       "      <td>[51-60)</td>\n",
       "      <td>[6-10)</td>\n",
       "      <td>0</td>\n",
       "      <td>0</td>\n",
       "      <td>0</td>\n",
       "      <td>5</td>\n",
       "    </tr>\n",
       "  </tbody>\n",
       "</table>\n",
       "</div>"
      ],
      "text/plain": [
       "              race  gender  ... num_inpatient_buckets num_diagnoses_buckets\n",
       "0        Caucasian  Female  ...                     0                     1\n",
       "1        Caucasian  Female  ...                     0                     9\n",
       "2  AfricanAmerican  Female  ...                     1                     6\n",
       "3        Caucasian    Male  ...                     0                     7\n",
       "4        Caucasian    Male  ...                     0                     5\n",
       "\n",
       "[5 rows x 55 columns]"
      ]
     },
     "execution_count": 195,
     "metadata": {},
     "output_type": "execute_result"
    }
   ],
   "source": [
    "df.head()"
   ]
  },
  {
   "cell_type": "code",
   "execution_count": 196,
   "metadata": {},
   "outputs": [
    {
     "data": {
      "text/plain": [
       "array(['No', 'Yes'], dtype=object)"
      ]
     },
     "execution_count": 196,
     "metadata": {},
     "output_type": "execute_result"
    }
   ],
   "source": [
    "df.change.unique()"
   ]
  },
  {
   "cell_type": "code",
   "execution_count": 197,
   "metadata": {},
   "outputs": [],
   "source": [
    "df.to_csv('labeled_with_all_columns.csv', index=False)"
   ]
  },
  {
   "cell_type": "markdown",
   "metadata": {},
   "source": [
    "# Explore Encoding Options:"
   ]
  },
  {
   "cell_type": "code",
   "execution_count": null,
   "metadata": {},
   "outputs": [],
   "source": [
    "for col in cat_cols:\n",
    "    unique_value_count = len(df[col].unique())\n",
    "    if unique_value_count >= 10:\n",
    "        print(f'Number of categories in {col} is: {unique_value_count}')"
   ]
  },
  {
   "cell_type": "code",
   "execution_count": null,
   "metadata": {},
   "outputs": [],
   "source": [
    "new_cat_cols = [\n",
    "       'lab_procedure_buckets', 'num_medication_buckets',\n",
    "       'num_outpatient_buckets', 'num_emergency_buckets',\n",
    "       'num_inpatient_buckets', 'num_diagnoses_buckets']\n",
    "for col in new_cat_cols:\n",
    "    unique_value_count = len(df[col].unique())\n",
    "    if unique_value_count >= 10:\n",
    "        print(f'Number of categories in {col} is: {unique_value_count}')"
   ]
  },
  {
   "cell_type": "code",
   "execution_count": null,
   "metadata": {},
   "outputs": [],
   "source": [
    "# 1) the percentage of encounters per category\n",
    "# 2) the average readmissions per category\n",
    "\n",
    "def find_avg_readmits_per_category(df, col):\n",
    "\n",
    "    total_encounters = len(df)\n",
    "\n",
    "    \n",
    "    temp_df = pd.Series(df[col].value_counts() / total_encounters).reset_index()\n",
    "    temp_df.columns = [col, 'percent_encounters']\n",
    "\n",
    "    \n",
    "    temp_df = temp_df.merge(df.groupby([col])['readmitted_target'].mean().reset_index(),\n",
    "                            on=col,\n",
    "                            how='left')\n",
    "\n",
    "    return temp_df"
   ]
  },
  {
   "cell_type": "code",
   "execution_count": null,
   "metadata": {},
   "outputs": [],
   "source": [
    "# plot the percent of encouters and avg readmits for each value in category\n",
    "\n",
    "def plot_values(df, col):\n",
    "    \n",
    "    fig, ax = plt.subplots(figsize=(8, 4))\n",
    "    plt.xticks(df.index, df[col], rotation=90)\n",
    "\n",
    "    ax2 = ax.twinx()\n",
    "    ax.bar(df.index, df[\"percent_encounters\"], color='lightgrey')\n",
    "    ax2.plot(df.index, df[\"readmitted_target\"], color='purple', \n",
    "             label='readmissions')\n",
    "    ax.axhline(y=0.05, color='red')\n",
    "    ax.set_ylabel('Percentage of Encounters')\n",
    "    ax.set_xlabel(col)\n",
    "    ax2.set_ylabel('Percent Average Readmissions')\n",
    "    plt.show()"
   ]
  },
  {
   "cell_type": "code",
   "execution_count": null,
   "metadata": {},
   "outputs": [],
   "source": [
    "# loop through and plot the rest\n",
    "\n",
    "for col in cat_cols:\n",
    "    \n",
    "    \n",
    "    if col !='readmitted':\n",
    "        \n",
    "        \n",
    "        temp_df = find_avg_readmits_per_category(df, col)\n",
    "        plot_values(temp_df, col)"
   ]
  },
  {
   "cell_type": "markdown",
   "metadata": {
    "heading_collapsed": true
   },
   "source": [
    "### Fix for WoE:"
   ]
  },
  {
   "cell_type": "markdown",
   "metadata": {
    "hidden": true
   },
   "source": [
    "Below I change all of the values that are too close to zero for WoE encoding."
   ]
  },
  {
   "cell_type": "code",
   "execution_count": null,
   "metadata": {
    "hidden": true
   },
   "outputs": [],
   "source": [
    "# df.gender.unique()"
   ]
  },
  {
   "cell_type": "code",
   "execution_count": null,
   "metadata": {
    "hidden": true
   },
   "outputs": [],
   "source": [
    "# df.gender.loc[df.gender == 'Unknown/Invalid']"
   ]
  },
  {
   "cell_type": "markdown",
   "metadata": {
    "hidden": true
   },
   "source": [
    "The gender value 'Unknown/Invalid' only has three values so it will give an error when I am ready to WoE encoding.  I'm going to go ahead and drop these."
   ]
  },
  {
   "cell_type": "code",
   "execution_count": null,
   "metadata": {
    "hidden": true
   },
   "outputs": [],
   "source": [
    "# df.gender.replace({'Unknown/Invalid': None}, inplace=True)"
   ]
  },
  {
   "cell_type": "code",
   "execution_count": null,
   "metadata": {
    "hidden": true
   },
   "outputs": [],
   "source": [
    "# df.dropna(axis=0, inplace=True)"
   ]
  },
  {
   "cell_type": "code",
   "execution_count": null,
   "metadata": {
    "hidden": true
   },
   "outputs": [],
   "source": [
    "# df.gender.isna().sum()"
   ]
  },
  {
   "cell_type": "code",
   "execution_count": null,
   "metadata": {
    "hidden": true
   },
   "outputs": [],
   "source": [
    "# df.chlorpropamide.unique()"
   ]
  },
  {
   "cell_type": "code",
   "execution_count": null,
   "metadata": {
    "hidden": true
   },
   "outputs": [],
   "source": [
    "# find_avg_readmits_per_category(df, 'chlorpropamide')"
   ]
  },
  {
   "cell_type": "markdown",
   "metadata": {
    "hidden": true
   },
   "source": [
    "The chlorpropamide value 'Decreased' only has three values so it will give an error when I am ready to WoE encoding.  I'm going to go ahead and drop these."
   ]
  },
  {
   "cell_type": "code",
   "execution_count": null,
   "metadata": {
    "hidden": true
   },
   "outputs": [],
   "source": [
    "# df.chlorpropamide.replace({'Decreased': None}, inplace=True)"
   ]
  },
  {
   "cell_type": "code",
   "execution_count": null,
   "metadata": {
    "hidden": true
   },
   "outputs": [],
   "source": [
    "# df.acetohexamide.unique()"
   ]
  },
  {
   "cell_type": "code",
   "execution_count": null,
   "metadata": {
    "hidden": true
   },
   "outputs": [],
   "source": [
    "# find_avg_readmits_per_category(df, 'acetohexamide')"
   ]
  },
  {
   "cell_type": "code",
   "execution_count": null,
   "metadata": {
    "hidden": true
   },
   "outputs": [],
   "source": [
    "# df.acetohexamide.replace({'No Change': None}, inplace=True)"
   ]
  },
  {
   "cell_type": "code",
   "execution_count": null,
   "metadata": {
    "hidden": true
   },
   "outputs": [],
   "source": [
    "# df.miglitol.unique()"
   ]
  },
  {
   "cell_type": "code",
   "execution_count": null,
   "metadata": {
    "hidden": true
   },
   "outputs": [],
   "source": [
    "# find_avg_readmits_per_category(df, 'miglitol')"
   ]
  },
  {
   "cell_type": "code",
   "execution_count": null,
   "metadata": {
    "hidden": true
   },
   "outputs": [],
   "source": [
    "# df.miglitol.replace({'Increased': None, 'Decreased': None}, inplace=True)"
   ]
  },
  {
   "cell_type": "code",
   "execution_count": null,
   "metadata": {
    "hidden": true
   },
   "outputs": [],
   "source": [
    "# find_avg_readmits_per_category(df, 'tolazamide')"
   ]
  },
  {
   "cell_type": "code",
   "execution_count": null,
   "metadata": {
    "hidden": true
   },
   "outputs": [],
   "source": [
    "# df.tolazamide.replace({'Increased': None}, inplace=True)"
   ]
  },
  {
   "cell_type": "code",
   "execution_count": null,
   "metadata": {
    "hidden": true
   },
   "outputs": [],
   "source": [
    "# find_avg_readmits_per_category(df, 'glimepiride-pioglitazone')"
   ]
  },
  {
   "cell_type": "code",
   "execution_count": null,
   "metadata": {
    "hidden": true
   },
   "outputs": [],
   "source": [
    "# df['glimepiride-pioglitazone'].replace({'No Change': None}, inplace=True)"
   ]
  },
  {
   "cell_type": "code",
   "execution_count": null,
   "metadata": {
    "hidden": true
   },
   "outputs": [],
   "source": [
    "# find_avg_readmits_per_category(df, 'acarbose')"
   ]
  },
  {
   "cell_type": "code",
   "execution_count": null,
   "metadata": {
    "hidden": true
   },
   "outputs": [],
   "source": [
    "# df['acarbose'].replace({'Decreased': None}, inplace=True)"
   ]
  },
  {
   "cell_type": "code",
   "execution_count": null,
   "metadata": {
    "hidden": true
   },
   "outputs": [],
   "source": [
    "# find_avg_readmits_per_category(df, 'glyburide-metformin')"
   ]
  },
  {
   "cell_type": "code",
   "execution_count": null,
   "metadata": {
    "hidden": true
   },
   "outputs": [],
   "source": [
    "# df['glyburide-metformin'].replace({'Decreased': None}, inplace=True)"
   ]
  },
  {
   "cell_type": "code",
   "execution_count": null,
   "metadata": {
    "hidden": true
   },
   "outputs": [],
   "source": [
    "# find_avg_readmits_per_category(df, 'metformin-pioglitazone')"
   ]
  },
  {
   "cell_type": "code",
   "execution_count": null,
   "metadata": {
    "hidden": true
   },
   "outputs": [],
   "source": [
    "# df['metformin-pioglitazone'].replace({'No Change': None}, inplace=True)"
   ]
  },
  {
   "cell_type": "code",
   "execution_count": null,
   "metadata": {
    "hidden": true
   },
   "outputs": [],
   "source": [
    "# find_avg_readmits_per_category(df, 'metformin-rosiglitazone')"
   ]
  },
  {
   "cell_type": "code",
   "execution_count": null,
   "metadata": {
    "hidden": true
   },
   "outputs": [],
   "source": [
    "# df['metformin-rosiglitazone'].replace({'No Change': None}, inplace=True)"
   ]
  },
  {
   "cell_type": "code",
   "execution_count": null,
   "metadata": {
    "hidden": true
   },
   "outputs": [],
   "source": [
    "# df.dropna(axis=0, inplace=True)"
   ]
  },
  {
   "cell_type": "code",
   "execution_count": null,
   "metadata": {
    "hidden": true
   },
   "outputs": [],
   "source": [
    "# df_ints = df.copy()\n",
    "# df_cats = df.copy()"
   ]
  },
  {
   "cell_type": "code",
   "execution_count": null,
   "metadata": {
    "hidden": true
   },
   "outputs": [],
   "source": [
    "# df.columns"
   ]
  },
  {
   "cell_type": "code",
   "execution_count": null,
   "metadata": {
    "hidden": true
   },
   "outputs": [],
   "source": [
    "# df_ints.drop(['readmitted', 'lab_procedure_buckets', 'num_medication_buckets',\n",
    "#        'num_outpatient_buckets', 'num_emergency_buckets',\n",
    "# 'num_inpatient_buckets', 'num_diagnoses_buckets'], axis=1, inplace=True)"
   ]
  },
  {
   "cell_type": "code",
   "execution_count": null,
   "metadata": {
    "hidden": true
   },
   "outputs": [],
   "source": [
    "# df_cats.drop(['num_lab_procedures', 'readmitted',\n",
    "#        'num_medications', 'number_outpatient',\n",
    "#        'number_emergency', 'number_inpatient', \n",
    "#        'number_diagnoses'], axis=1, inplace=True)"
   ]
  },
  {
   "cell_type": "code",
   "execution_count": null,
   "metadata": {
    "hidden": true
   },
   "outputs": [],
   "source": [
    "# df_cats.head()"
   ]
  },
  {
   "cell_type": "markdown",
   "metadata": {
    "heading_collapsed": true
   },
   "source": [
    "## Rare value encoding:"
   ]
  },
  {
   "cell_type": "code",
   "execution_count": null,
   "metadata": {
    "hidden": true
   },
   "outputs": [],
   "source": [
    "from feature_engine.categorical_encoders import RareLabelCategoricalEncoder\n",
    "from sklearn.model_selection import train_test_split"
   ]
  },
  {
   "cell_type": "code",
   "execution_count": null,
   "metadata": {
    "hidden": true
   },
   "outputs": [],
   "source": [
    "# X_train_ints, X_test_ints, y_train_ints, y_test_ints = train_test_split(\n",
    "#     df_ints.drop(['readmitted_target'], axis=1), \n",
    "#     df_ints.readmitted_target, \n",
    "#     test_size=0.2,\n",
    "#     random_state=42)\n",
    "\n",
    "# X_train_ints.shape, X_test_ints.shape"
   ]
  },
  {
   "cell_type": "code",
   "execution_count": null,
   "metadata": {
    "hidden": true
   },
   "outputs": [],
   "source": [
    "# X_train_cats, X_test_cats, y_train_cats, y_test_cats = train_test_split(\n",
    "#     df_cats.drop(['readmitted_target'], axis=1), \n",
    "#     df_cats.readmitted_target, \n",
    "#     test_size=0.2,\n",
    "#     random_state=42)\n",
    "\n",
    "# X_train_cats.shape, X_test_cats.shape"
   ]
  },
  {
   "cell_type": "code",
   "execution_count": null,
   "metadata": {
    "hidden": true
   },
   "outputs": [],
   "source": [
    "# rare_encoder_ints = RareLabelCategoricalEncoder(\n",
    "#     tol=0.05,  # minimal percentage to be considered non-rare\n",
    "#     n_categories=4, # minimal number of values the category should have \n",
    "#     variables=None)  \n",
    "\n",
    "# rare_encoder_cats = RareLabelCategoricalEncoder(\n",
    "#     tol=0.05,  # minimal percentage to be considered non-rare\n",
    "#     n_categories=4, # minimal number of values the category should have \n",
    "#     variables=None) "
   ]
  },
  {
   "cell_type": "code",
   "execution_count": null,
   "metadata": {
    "hidden": true
   },
   "outputs": [],
   "source": [
    "# rare_encoder_ints.fit(X_train_ints)"
   ]
  },
  {
   "cell_type": "code",
   "execution_count": null,
   "metadata": {
    "hidden": true
   },
   "outputs": [],
   "source": [
    "# rare_encoder_cats.fit(X_train_cats)"
   ]
  },
  {
   "cell_type": "code",
   "execution_count": null,
   "metadata": {
    "hidden": true
   },
   "outputs": [],
   "source": [
    "# rare_encoder.variables"
   ]
  },
  {
   "cell_type": "markdown",
   "metadata": {
    "hidden": true
   },
   "source": [
    "The dictionaries below show all of the most frequent values for each category. \n",
    "\n",
    "This is done in the training set so that when/if new values are introduced from the testing set or updated data, if those values are NOT one of the frequent values the model will automatically label them as rare."
   ]
  },
  {
   "cell_type": "code",
   "execution_count": null,
   "metadata": {
    "hidden": true
   },
   "outputs": [],
   "source": [
    "# rare_encoder_ints.encoder_dict_"
   ]
  },
  {
   "cell_type": "code",
   "execution_count": null,
   "metadata": {
    "hidden": true
   },
   "outputs": [],
   "source": [
    "# rare_encoder_cats.encoder_dict_"
   ]
  },
  {
   "cell_type": "code",
   "execution_count": null,
   "metadata": {
    "hidden": true
   },
   "outputs": [],
   "source": [
    "# df.head()"
   ]
  },
  {
   "cell_type": "code",
   "execution_count": null,
   "metadata": {
    "hidden": true
   },
   "outputs": [],
   "source": [
    "# X_train_ints = rare_encoder_ints.transform(X_train_ints)\n",
    "# X_test_ints = rare_encoder_ints.transform(X_test_ints)"
   ]
  },
  {
   "cell_type": "code",
   "execution_count": null,
   "metadata": {
    "hidden": true
   },
   "outputs": [],
   "source": [
    "# X_train_cats = rare_encoder_cats.transform(X_train_cats)\n",
    "# X_test_cats = rare_encoder_cats.transform(X_test_cats)"
   ]
  },
  {
   "cell_type": "code",
   "execution_count": null,
   "metadata": {
    "hidden": true
   },
   "outputs": [],
   "source": [
    "# X_train_cats.isna().sum()"
   ]
  },
  {
   "cell_type": "code",
   "execution_count": null,
   "metadata": {
    "hidden": true
   },
   "outputs": [],
   "source": [
    "# X_test_ints.isna().sum()"
   ]
  },
  {
   "cell_type": "markdown",
   "metadata": {
    "hidden": true
   },
   "source": [
    "Now we need to encode all of the categorical columns!  I think integer labeling or WoE encoding is my best bet."
   ]
  },
  {
   "cell_type": "code",
   "execution_count": null,
   "metadata": {
    "hidden": true
   },
   "outputs": [],
   "source": [
    "# X_train_ints.columns"
   ]
  },
  {
   "cell_type": "markdown",
   "metadata": {
    "heading_collapsed": true
   },
   "source": [
    "## Discretiser Encoding:"
   ]
  },
  {
   "cell_type": "code",
   "execution_count": null,
   "metadata": {
    "hidden": true
   },
   "outputs": [],
   "source": [
    "from feature_engine.discretisers import EqualFrequencyDiscretiser\n",
    "from feature_engine.discretisers import EqualWidthDiscretiser"
   ]
  },
  {
   "cell_type": "code",
   "execution_count": null,
   "metadata": {
    "hidden": true
   },
   "outputs": [],
   "source": [
    "# disc = EqualWidthDiscretiser(bins=10, variables = ['time_in_hospital',\n",
    "#        'num_lab_procedures',\n",
    "#        'num_procedures', 'num_medications', 'number_outpatient',\n",
    "#        'number_emergency', 'number_inpatient', 'number_diagnoses'])\n",
    "\n",
    "# disc.fit(X_train_ints)"
   ]
  },
  {
   "cell_type": "code",
   "execution_count": null,
   "metadata": {
    "hidden": true
   },
   "outputs": [],
   "source": [
    "# disc.binner_dict_"
   ]
  },
  {
   "cell_type": "code",
   "execution_count": null,
   "metadata": {
    "hidden": true
   },
   "outputs": [],
   "source": [
    "# transform train and text\n",
    "\n",
    "# train_t = disc.transform(X_train_ints)\n",
    "# test_t = disc.transform(X_test_ints)"
   ]
  },
  {
   "cell_type": "code",
   "execution_count": null,
   "metadata": {
    "hidden": true
   },
   "outputs": [],
   "source": [
    "# train_t.head()"
   ]
  },
  {
   "cell_type": "code",
   "execution_count": null,
   "metadata": {
    "hidden": true
   },
   "outputs": [],
   "source": [
    "# t1 = train_t.groupby(['num_lab_procedures'])['num_lab_procedures'].count() / len(train_t)\n",
    "# t2 = test_t.groupby(['num_lab_procedures'])['num_lab_procedures'].count() / len(test_t)\n",
    "\n",
    "# tmp = pd.concat([t1, t2], axis=1)\n",
    "# tmp.columns = ['train', 'test']\n",
    "# tmp.plot.bar()\n",
    "# plt.xticks(rotation=0)\n",
    "# plt.ylabel('Number of observations per bin')"
   ]
  },
  {
   "cell_type": "code",
   "execution_count": null,
   "metadata": {
    "hidden": true
   },
   "outputs": [],
   "source": [
    "X_train_ints[['num_lab_procedures']].hist(bins=30, figsize=(8,4))\n",
    "plt.show()"
   ]
  },
  {
   "cell_type": "markdown",
   "metadata": {
    "hidden": true
   },
   "source": [
    "The equal width bucketing did not help the spread.  Let's try equal frequency."
   ]
  },
  {
   "cell_type": "code",
   "execution_count": null,
   "metadata": {
    "hidden": true
   },
   "outputs": [],
   "source": [
    "from feature_engine.discretisers import DecisionTreeDiscretiser\n",
    "from sklearn.tree import DecisionTreeClassifier, export_graphviz\n",
    "from sklearn.model_selection import cross_val_score"
   ]
  },
  {
   "cell_type": "markdown",
   "metadata": {
    "hidden": true
   },
   "source": [
    "4 buckets --> tree with depth of 2 making 2 splits?"
   ]
  },
  {
   "cell_type": "code",
   "execution_count": null,
   "metadata": {
    "hidden": true
   },
   "outputs": [],
   "source": [
    "# with open(\"tree_model.txt\", \"w\") as f:\n",
    "#     f = export_graphviz(tree_model, out_file=f)"
   ]
  },
  {
   "cell_type": "code",
   "execution_count": null,
   "metadata": {
    "hidden": true
   },
   "outputs": [],
   "source": [
    "# from IPython.display import Image\n",
    "# from IPython.core.display import HTML \n",
    "# PATH = \"tree_visualisation.png\"\n",
    "# Image(filename = PATH , width=1000, height=1000)"
   ]
  },
  {
   "cell_type": "code",
   "execution_count": null,
   "metadata": {
    "hidden": true
   },
   "outputs": [],
   "source": [
    "treeDisc = DecisionTreeDiscretiser(cv=10, scoring='accuracy',\n",
    "                                   variables = ['time_in_hospital',\n",
    "       'num_lab_procedures',\n",
    "       'num_procedures', 'num_medications', 'number_outpatient',\n",
    "       'number_emergency', 'number_inpatient', 'number_diagnoses'],\n",
    "                                   regression=False,\n",
    "                                   param_grid={'max_depth': [1, 2, 3, 4, 5],\n",
    "                                              'min_samples_leaf':[10,4]})\n",
    "\n",
    "treeDisc.fit(X_train_ints, y_train_ints)"
   ]
  },
  {
   "cell_type": "code",
   "execution_count": null,
   "metadata": {
    "hidden": true
   },
   "outputs": [],
   "source": [
    "treeDisc.binner_dict_['num_lab_procedures'].best_params_"
   ]
  },
  {
   "cell_type": "code",
   "execution_count": null,
   "metadata": {
    "hidden": true
   },
   "outputs": [],
   "source": [
    "treeDisc.scores_dict_['num_lab_procedures']"
   ]
  },
  {
   "cell_type": "code",
   "execution_count": null,
   "metadata": {
    "hidden": true
   },
   "outputs": [],
   "source": [
    "treeDisc.binner_dict_['num_medications'].best_params_"
   ]
  },
  {
   "cell_type": "code",
   "execution_count": null,
   "metadata": {
    "hidden": true
   },
   "outputs": [],
   "source": [
    "treeDisc.scores_dict_['number_inpatient']"
   ]
  },
  {
   "cell_type": "code",
   "execution_count": null,
   "metadata": {
    "hidden": true
   },
   "outputs": [],
   "source": [
    "train_t = treeDisc.transform(X_train_ints)\n",
    "test_t = treeDisc.transform(X_test_ints)"
   ]
  },
  {
   "cell_type": "code",
   "execution_count": null,
   "metadata": {
    "hidden": true
   },
   "outputs": [],
   "source": [
    "pd.concat([train_t, y_train_ints], \n",
    "          axis=1).groupby(['number_inpatient'])['readmitted_target'].mean().plot()\n",
    "plt.title('Monotonic relationship')\n",
    "plt.ylabel('Readmissions')"
   ]
  },
  {
   "cell_type": "code",
   "execution_count": null,
   "metadata": {
    "hidden": true
   },
   "outputs": [],
   "source": []
  },
  {
   "cell_type": "code",
   "execution_count": null,
   "metadata": {
    "hidden": true
   },
   "outputs": [],
   "source": [
    "pd.concat([test_t, y_test_ints], \n",
    "          axis=1).groupby(['number_inpatient'])['readmitted_target'].mean().plot()\n",
    "plt.title('Monotonic relationship')\n",
    "plt.ylabel('Readmissions')"
   ]
  },
  {
   "cell_type": "code",
   "execution_count": null,
   "metadata": {
    "hidden": true
   },
   "outputs": [],
   "source": [
    "t1 = train_t.groupby(['number_inpatient'])['number_inpatient'].count() / len(train_t)\n",
    "t2 = test_t.groupby(['number_inpatient'])['number_inpatient'].count() / len(test_t)\n",
    "\n",
    "tmp = pd.concat([t1, t2], axis=1)\n",
    "tmp.columns = ['train', 'test']\n",
    "tmp.plot.bar()\n",
    "plt.xticks(rotation=45)\n",
    "plt.ylabel('Number of observations per bin')"
   ]
  },
  {
   "cell_type": "code",
   "execution_count": null,
   "metadata": {
    "hidden": true
   },
   "outputs": [],
   "source": [
    "# from sklearn.preprocessing import KBinsDiscretizer\n",
    "\n",
    "# disc = KBinsDiscretizer(n_bins=4, encode='ordinal', strategy='kmeans')\n",
    "\n",
    "# disc.fit(X_train_ints[['time_in_hospital',\n",
    "#        'num_lab_procedures',\n",
    "#        'num_procedures', 'num_medications', 'number_outpatient',\n",
    "#        'number_emergency', 'number_inpatient', 'number_diagnoses']])\n",
    "\n",
    "# disc.bin_edges_\n",
    "\n",
    "# train_t = disc.transform(X_train_ints[['time_in_hospital',\n",
    "#        'num_lab_procedures',\n",
    "#        'num_procedures', 'num_medications', 'number_outpatient',\n",
    "#        'number_emergency', 'number_inpatient', 'number_diagnoses']])\n",
    "\n",
    "# train_t = pd.DataFrame(train_t, columns = ['time_in_hospital',\n",
    "#        'num_lab_procedures',\n",
    "#        'num_procedures', 'num_medications', 'number_outpatient',\n",
    "#        'number_emergency', 'number_inpatient', 'number_diagnoses'])\n",
    "\n",
    "# train_t.head()\n",
    "\n",
    "# test_t = disc.transform(X_test_ints[['time_in_hospital',\n",
    "#        'num_lab_procedures',\n",
    "#        'num_procedures', 'num_medications', 'number_outpatient',\n",
    "#        'number_emergency', 'number_inpatient', 'number_diagnoses']])\n",
    "\n",
    "# test_t = pd.DataFrame(test_t, columns = ['time_in_hospital',\n",
    "#        'num_lab_procedures',\n",
    "#        'num_procedures', 'num_medications', 'number_outpatient',\n",
    "#        'number_emergency', 'number_inpatient', 'number_diagnoses'])"
   ]
  },
  {
   "cell_type": "markdown",
   "metadata": {
    "hidden": true
   },
   "source": [
    "#### Equal Frequency:"
   ]
  },
  {
   "cell_type": "code",
   "execution_count": null,
   "metadata": {
    "hidden": true
   },
   "outputs": [],
   "source": [
    "# disc = EqualFrequencyDiscretiser(q=10, variables = ['time_in_hospital',\n",
    "#        'num_lab_procedures',\n",
    "#        'num_procedures', 'num_medications', 'number_outpatient',\n",
    "#        'number_emergency', 'number_inpatient', 'number_diagnoses'])\n",
    "\n",
    "# disc.fit(X_train_ints)"
   ]
  },
  {
   "cell_type": "code",
   "execution_count": null,
   "metadata": {
    "hidden": true
   },
   "outputs": [],
   "source": [
    "# disc.binner_dict_  # shows interval limits"
   ]
  },
  {
   "cell_type": "code",
   "execution_count": null,
   "metadata": {
    "hidden": true
   },
   "outputs": [],
   "source": [
    "# train_t = disc.transform(X_train_ints)\n",
    "# test_t = disc.transform(X_test_ints)"
   ]
  },
  {
   "cell_type": "code",
   "execution_count": null,
   "metadata": {
    "hidden": true
   },
   "outputs": [],
   "source": [
    "# test_t.dtypes"
   ]
  },
  {
   "cell_type": "code",
   "execution_count": null,
   "metadata": {
    "hidden": true
   },
   "outputs": [],
   "source": [
    "# test_t[['time_in_hospital',\n",
    "#        'num_lab_procedures',\n",
    "#        'num_procedures', 'num_medications', 'number_outpatient',\n",
    "#        'number_emergency', 'number_inpatient', \n",
    "#    'number_diagnoses']] = test_t[['time_in_hospital',\n",
    "#        'num_lab_procedures',\n",
    "#        'num_procedures', 'num_medications', 'number_outpatient',\n",
    "#        'number_emergency', 'number_inpatient', 'number_diagnoses']].astype('O')"
   ]
  },
  {
   "cell_type": "code",
   "execution_count": null,
   "metadata": {
    "hidden": true
   },
   "outputs": [],
   "source": [
    "# t1 = train_t.groupby(['num_lab_procedures'])['num_lab_procedures'].count() / len(train_t)\n",
    "# t2 = test_t.groupby(['num_lab_procedures'])['num_lab_procedures'].count() / len(test_t)\n",
    "\n",
    "# tmp = pd.concat([t1, t2], axis=1)\n",
    "# tmp.columns = ['train', 'test']\n",
    "# tmp.plot.bar()\n",
    "# plt.xticks(rotation=0)\n",
    "# plt.ylabel('Number of observations per bin')"
   ]
  },
  {
   "cell_type": "code",
   "execution_count": null,
   "metadata": {
    "hidden": true
   },
   "outputs": [],
   "source": [
    "# t1 = train_t.groupby(['number_inpatient'])['number_inpatient'].count() / len(train_t)\n",
    "# t2 = test_t.groupby(['number_inpatient'])['number_inpatient'].count() / len(test_t)\n",
    "\n",
    "# tmp = pd.concat([t1, t2], axis=1)\n",
    "# tmp.columns = ['train', 'test']\n",
    "# tmp.plot.bar()\n",
    "# plt.xticks(rotation=0)\n",
    "# plt.ylabel('Number of observations per bin')"
   ]
  },
  {
   "cell_type": "code",
   "execution_count": null,
   "metadata": {
    "hidden": true
   },
   "outputs": [],
   "source": [
    "# pd.concat([train_t, y_train_ints], \n",
    "#     axis=1).groupby('num_lab_procedures')['readmitted_target'].mean().plot()\n",
    "# plt.ylabel('mean of readmissions')"
   ]
  },
  {
   "cell_type": "code",
   "execution_count": null,
   "metadata": {
    "hidden": true
   },
   "outputs": [],
   "source": [
    "# pd.concat([test_t, y_test_ints], \n",
    "#     axis=1).groupby('num_lab_procedures')['readmitted_target'].mean().plot()\n",
    "# plt.ylabel('mean of readmissions')"
   ]
  },
  {
   "cell_type": "code",
   "execution_count": null,
   "metadata": {
    "hidden": true
   },
   "outputs": [],
   "source": [
    "# pd.concat([train_t, y_train_ints], \n",
    "#     axis=1).groupby('num_medications')['readmitted_target'].mean().plot()\n",
    "# plt.ylabel('mean of readmissions')"
   ]
  },
  {
   "cell_type": "code",
   "execution_count": null,
   "metadata": {
    "hidden": true
   },
   "outputs": [],
   "source": [
    "# pd.concat([test_t, y_test_ints], \n",
    "#     axis=1).groupby('num_medications')['readmitted_target'].mean().plot()\n",
    "# plt.ylabel('mean of readmissions')"
   ]
  },
  {
   "cell_type": "markdown",
   "metadata": {
    "heading_collapsed": true
   },
   "source": [
    "## Ordinal Encoding:"
   ]
  },
  {
   "cell_type": "code",
   "execution_count": null,
   "metadata": {
    "hidden": true
   },
   "outputs": [],
   "source": [
    "# from feature_engine.categorical_encoders import OrdinalCategoricalEncoder"
   ]
  },
  {
   "cell_type": "code",
   "execution_count": null,
   "metadata": {
    "hidden": true
   },
   "outputs": [],
   "source": [
    "# train_t.dtypes"
   ]
  },
  {
   "cell_type": "code",
   "execution_count": null,
   "metadata": {
    "hidden": true
   },
   "outputs": [],
   "source": [
    "# enc = OrdinalCategoricalEncoder(encoding_method = 'arbitrary')\n",
    "\n",
    "# enc.fit(train_t, y_train_ints)\n",
    "\n",
    "# train_t = enc.transform(train_t)\n",
    "# test_t = enc.transform(test_t)"
   ]
  },
  {
   "cell_type": "code",
   "execution_count": null,
   "metadata": {
    "hidden": true
   },
   "outputs": [],
   "source": [
    "# enc.encoder_dict_"
   ]
  },
  {
   "cell_type": "code",
   "execution_count": null,
   "metadata": {
    "hidden": true
   },
   "outputs": [],
   "source": [
    "# pd.concat([train_t, y_train_ints], \n",
    "#     axis=1).groupby('num_lab_procedures')['readmitted_target'].mean().plot()\n",
    "# plt.ylabel('mean of readmits')"
   ]
  },
  {
   "cell_type": "code",
   "execution_count": null,
   "metadata": {
    "hidden": true
   },
   "outputs": [],
   "source": [
    "# pd.concat([test_t, y_test_ints], \n",
    "#     axis=1).groupby('num_lab_procedures')['readmitted_target'].mean().plot()\n",
    "# plt.ylabel('mean of readmits')"
   ]
  },
  {
   "cell_type": "code",
   "execution_count": null,
   "metadata": {
    "hidden": true
   },
   "outputs": [],
   "source": [
    "# pd.concat([train_t, y_train_ints], \n",
    "#     axis=1).groupby('num_procedures')['readmitted_target'].mean().plot()\n",
    "# plt.ylabel('mean of readmissions')"
   ]
  },
  {
   "cell_type": "code",
   "execution_count": null,
   "metadata": {
    "hidden": true
   },
   "outputs": [],
   "source": [
    "# pd.concat([test_t, y_test_ints], \n",
    "#     axis=1).groupby('num_procedures')['readmitted_target'].mean().plot()\n",
    "# plt.ylabel('mean of readmissions')"
   ]
  },
  {
   "cell_type": "code",
   "execution_count": null,
   "metadata": {
    "hidden": true
   },
   "outputs": [],
   "source": [
    "# ordinal_enc_ints.fit(X_train_ints)"
   ]
  },
  {
   "cell_type": "code",
   "execution_count": null,
   "metadata": {
    "hidden": true
   },
   "outputs": [],
   "source": [
    "# ordinal_enc_cats.fit(X_train_cats)"
   ]
  },
  {
   "cell_type": "code",
   "execution_count": null,
   "metadata": {
    "hidden": true
   },
   "outputs": [],
   "source": [
    "# ordinal_enc_ints.encoder_dict_\n",
    "# ordinal_enc_cats.encoder_dict_"
   ]
  },
  {
   "cell_type": "code",
   "execution_count": null,
   "metadata": {
    "hidden": true
   },
   "outputs": [],
   "source": [
    "# X_train_cats = ordinal_enc_cats.transform(X_train_cats)\n",
    "# X_test_cats = ordinal_enc_cats.transform(X_test_cats)\n",
    "\n",
    "# # let's explore the result\n",
    "# X_train_cats.head()"
   ]
  },
  {
   "cell_type": "code",
   "execution_count": null,
   "metadata": {
    "hidden": true
   },
   "outputs": [],
   "source": [
    "# X_train_ints = ordinal_enc_ints.transform(X_train_ints)\n",
    "# X_test_ints = ordinal_enc_ints.transform(X_test_ints)\n",
    "\n",
    "# # let's explore the result\n",
    "# X_train_ints.head()"
   ]
  },
  {
   "cell_type": "markdown",
   "metadata": {
    "heading_collapsed": true
   },
   "source": [
    "## WoE Encoding:"
   ]
  },
  {
   "cell_type": "code",
   "execution_count": null,
   "metadata": {
    "hidden": true
   },
   "outputs": [],
   "source": [
    "# from feature_engine.categorical_encoders import WoERatioCategoricalEncoder"
   ]
  },
  {
   "cell_type": "code",
   "execution_count": null,
   "metadata": {
    "hidden": true
   },
   "outputs": [],
   "source": [
    "# woe_enc_ints = WoERatioCategoricalEncoder(\n",
    "#     encoding_method = 'woe',\n",
    "#     variables=None)\n",
    "# woe_enc_cats = WoERatioCategoricalEncoder(\n",
    "#     encoding_method = 'woe',\n",
    "#     variables=None)"
   ]
  },
  {
   "cell_type": "code",
   "execution_count": null,
   "metadata": {
    "hidden": true
   },
   "outputs": [],
   "source": [
    "# woe_enc_ints.fit(X_train_ints, y_train_ints)"
   ]
  },
  {
   "cell_type": "code",
   "execution_count": null,
   "metadata": {
    "hidden": true
   },
   "outputs": [],
   "source": [
    "# woe_enc_cats.fit(X_train_cats, y_train_cats)"
   ]
  },
  {
   "cell_type": "code",
   "execution_count": null,
   "metadata": {
    "hidden": true
   },
   "outputs": [],
   "source": [
    "# woe_enc_ints.encoder_dict_"
   ]
  },
  {
   "cell_type": "code",
   "execution_count": null,
   "metadata": {
    "hidden": true
   },
   "outputs": [],
   "source": [
    "# woe_enc.variables"
   ]
  },
  {
   "cell_type": "code",
   "execution_count": null,
   "metadata": {
    "hidden": true
   },
   "outputs": [],
   "source": [
    "# X_train_ints = woe_enc_ints.transform(X_train_ints)\n",
    "# X_test_ints = woe_enc_ints.transform(X_test_ints)\n",
    "\n",
    "# X_train_ints.head()"
   ]
  },
  {
   "cell_type": "code",
   "execution_count": null,
   "metadata": {
    "hidden": true
   },
   "outputs": [],
   "source": [
    "# X_train_cats = woe_enc_cats.transform(X_train_cats)\n",
    "# X_test_cats = woe_enc_cats.transform(X_test_cats)\n",
    "\n",
    "# X_train_cats.head()"
   ]
  },
  {
   "cell_type": "code",
   "execution_count": null,
   "metadata": {
    "hidden": true
   },
   "outputs": [],
   "source": [
    "# import scipy.stats as stats"
   ]
  },
  {
   "cell_type": "code",
   "execution_count": null,
   "metadata": {
    "hidden": true
   },
   "outputs": [],
   "source": [
    "# def diagnostic_plots(df, variable):\n",
    "    \n",
    "#     # function to plot a histogram and a Q-Q plot\n",
    "#     \n",
    "    \n",
    "#     plt.figure(figsize=(15,6))\n",
    "#     plt.subplot(1, 2, 1)\n",
    "#     df[variable].hist()\n",
    "\n",
    "#     plt.subplot(1, 2, 2)\n",
    "#     stats.probplot(df[variable], dist=\"norm\", plot=plt)\n",
    "\n",
    "#     plt.show()"
   ]
  },
  {
   "cell_type": "code",
   "execution_count": null,
   "metadata": {
    "hidden": true
   },
   "outputs": [],
   "source": [
    "# X_train_cats.head()"
   ]
  },
  {
   "cell_type": "code",
   "execution_count": null,
   "metadata": {
    "hidden": true
   },
   "outputs": [],
   "source": [
    "# diagnostic_plots(X_train_cats, 'medical_specialty')"
   ]
  },
  {
   "cell_type": "code",
   "execution_count": null,
   "metadata": {
    "hidden": true
   },
   "outputs": [],
   "source": [
    "# X_train_cats_scaled = scaler.fit_transform(X_train_cats)\n",
    "# X_train_cats_scaled"
   ]
  },
  {
   "cell_type": "code",
   "execution_count": null,
   "metadata": {
    "hidden": true
   },
   "outputs": [],
   "source": [
    "# X_train.info()"
   ]
  },
  {
   "cell_type": "markdown",
   "metadata": {
    "heading_collapsed": true
   },
   "source": [
    "# Check for Target Class Imbalance:"
   ]
  },
  {
   "cell_type": "code",
   "execution_count": null,
   "metadata": {
    "hidden": true
   },
   "outputs": [],
   "source": [
    "# df.time_in_hospital.unique()"
   ]
  },
  {
   "cell_type": "code",
   "execution_count": null,
   "metadata": {
    "hidden": true
   },
   "outputs": [],
   "source": [
    "# df.head()"
   ]
  },
  {
   "cell_type": "code",
   "execution_count": null,
   "metadata": {
    "hidden": true
   },
   "outputs": [],
   "source": [
    "# df.readmitted.unique()"
   ]
  },
  {
   "cell_type": "code",
   "execution_count": null,
   "metadata": {
    "hidden": true
   },
   "outputs": [],
   "source": [
    "# df.readmitted.value_counts()"
   ]
  },
  {
   "cell_type": "code",
   "execution_count": null,
   "metadata": {
    "hidden": true
   },
   "outputs": [],
   "source": [
    "# df['readmitted_target'] = df['readmitted']\n",
    "# df.readmitted_target.replace({'>30':1, '<30':1, 'NO':0}, inplace=True)"
   ]
  },
  {
   "cell_type": "code",
   "execution_count": null,
   "metadata": {
    "hidden": true
   },
   "outputs": [],
   "source": [
    "df.readmitted_target.value_counts()"
   ]
  },
  {
   "cell_type": "code",
   "execution_count": null,
   "metadata": {
    "hidden": true
   },
   "outputs": [],
   "source": [
    "df.shape"
   ]
  },
  {
   "cell_type": "code",
   "execution_count": null,
   "metadata": {
    "hidden": true
   },
   "outputs": [],
   "source": [
    "54864/101766"
   ]
  },
  {
   "cell_type": "code",
   "execution_count": null,
   "metadata": {
    "hidden": true
   },
   "outputs": [],
   "source": [
    "46902/101766"
   ]
  },
  {
   "cell_type": "markdown",
   "metadata": {
    "hidden": true
   },
   "source": [
    "About 54% were not readmitted and about 46% were readmitted.  This is pretty even and I don't really see any signs of class imbalance."
   ]
  },
  {
   "cell_type": "code",
   "execution_count": null,
   "metadata": {
    "hidden": true
   },
   "outputs": [],
   "source": [
    "# df.sort_values(by=['readmitted_target', 'age'], ascending=[False, False]).head()"
   ]
  },
  {
   "cell_type": "code",
   "execution_count": null,
   "metadata": {
    "hidden": true
   },
   "outputs": [],
   "source": [
    "# def get_readmission_rate(df, category, col, readmitted_target=1):\n",
    "#     s = sum(df[col]==category)\n",
    "#     long = df.loc[((df[col]==category) & (df['readmitted_target']==readmitted_target))]\n",
    "#     return long.shape[0]/s"
   ]
  },
  {
   "cell_type": "code",
   "execution_count": null,
   "metadata": {
    "hidden": true
   },
   "outputs": [],
   "source": [
    "# get_readmission_rate(df, 'Caucasian', 'race') "
   ]
  },
  {
   "cell_type": "code",
   "execution_count": null,
   "metadata": {
    "hidden": true
   },
   "outputs": [],
   "source": [
    "# get_readmission_rate(df, 'Female', 'gender')"
   ]
  },
  {
   "cell_type": "code",
   "execution_count": null,
   "metadata": {
    "hidden": true
   },
   "outputs": [],
   "source": [
    "# get_readmission_rate(df, 'unknown', 'weight')"
   ]
  },
  {
   "cell_type": "code",
   "execution_count": null,
   "metadata": {
    "hidden": true
   },
   "outputs": [],
   "source": [
    "# get_readmission_rate(df, 'Medicare', 'payer_code')"
   ]
  },
  {
   "cell_type": "code",
   "execution_count": null,
   "metadata": {
    "hidden": true
   },
   "outputs": [],
   "source": [
    "# display(df[df['readmitted_target'] == 1].mean()) "
   ]
  },
  {
   "cell_type": "markdown",
   "metadata": {},
   "source": [
    "# Feature Engineering Pipeline:"
   ]
  },
  {
   "cell_type": "markdown",
   "metadata": {},
   "source": [
    "Let's look at all of the different value types for all columns."
   ]
  },
  {
   "cell_type": "code",
   "execution_count": 198,
   "metadata": {},
   "outputs": [
    {
     "name": "stdout",
     "output_type": "stream",
     "text": [
      "race ['Caucasian' 'AfricanAmerican' 'unknown' 'Other' 'Asian' 'Hispanic'] \n",
      "\n",
      "gender ['Female' 'Male' 'Unknown/Invalid'] \n",
      "\n",
      "age ['[0-10)' '[10-20)' '[20-30)' '[30-40)' '[40-50)' '[50-60)' '[60-70)'\n",
      " '[70-80)' '[80-90)' '[90-100)'] \n",
      "\n",
      "weight ['unknown' '[75-100)' '[50-75)' '[0-25)' '[100-125)' '[25-50)' '[125-150)'\n",
      " '[175-200)' '[150-175)' '>200'] \n",
      "\n",
      "admission_type_id ['Unknown' 'Emergency' 'Urgent' 'Elective' 'Newborn' 'Not Mapped'\n",
      " 'Trauma Center'] \n",
      "\n",
      "discharge_disposition_id ['Unknown' 'Home' 'Transferred' 'HomeHealth' 'Expired_Inpatient' 'AMA'\n",
      " 'NeonatalDischarge' 'Hospice' 'Admitted/Outpatient'\n",
      " 'TransferredToOutpatient' 'Expired_Elsewhere' 'TransferredMedicare'] \n",
      "\n",
      "admission_source_id ['Referral' 'EmergencyRoom' 'Transferred' 'Unknown' 'Legal' 'BabyDelivery'\n",
      " 'Newborn' 'Hospice'] \n",
      "\n",
      "time_in_hospital [ 1  3  2  4  5 13 12  9  7 10  6 11  8 14] \n",
      "\n",
      "payer_code ['unknown' 'Medicare' 'Medicaid' 'Commericial/Other' 'SelfPay'\n",
      " 'WorkersComp'] \n",
      "\n",
      "medical_specialty ['Pediatrics' 'unknown' 'General' 'Cardiology' 'Surgery' 'Orthopedics'\n",
      " 'Gastroenterology' 'Nephrology' 'Psychiatry' 'Emergency/Trauma'\n",
      " 'Pulmonology' 'OB-GYN' 'Hematology/Oncology' 'Otolaryngology'\n",
      " 'Endocrinology' 'Urology' 'Neurology' 'Radiology' 'Podiatry'\n",
      " 'Ophthalmology'] \n",
      "\n",
      "num_lab_procedures [41 59 11 44 51 31 70 73 68 33 47 62 60 55 49 75 45 29 35 42] \n",
      "\n",
      "num_procedures [0 5 1 6 2 3 4] \n",
      "\n",
      "num_medications [ 1 18 13 16  8 21 12 28 17 11 15 31  2 23 19  7 20 14 10 22] \n",
      "\n",
      "number_outpatient [ 0  2  1  5  7  9  3  8  4 12 11  6 20 15 10 13 14 16 21 35] \n",
      "\n",
      "number_emergency [ 0  1  2  4  3  9  5  7  6  8 22 25 10 13 42 16 11 28 15 14] \n",
      "\n",
      "number_inpatient [ 0  1  2  3  6  5  4  7  8  9 15 10 11 14 12 13 17 16 21 18] \n",
      "\n",
      "diag_1 ['diabetes' 'Endocrine' 'DeliveryComplications' 'InfectiousDiseases'\n",
      " 'neoplasms' 'circulatory' 'respiratory' 'injury' 'SkinDiseases'\n",
      " 'musculoskeletal' 'digestive' 'Other' 'genitourinary' 'MentalDisorders'\n",
      " 'UnknownSymptoms' 'NervousSystemDiseases' 'BloodDiseases' 'Unknown'\n",
      " 'SenseOrganDiseases' 'CongenitalAnomalies'] \n",
      "\n",
      "diag_2 ['Unknown' 'diabetes' 'neoplasms' 'circulatory' 'respiratory'\n",
      " 'BloodDiseases' 'injury' 'musculoskeletal' 'genitourinary'\n",
      " 'InfectiousDiseases' 'Endocrine' 'digestive' 'SkinDiseases' 'Other'\n",
      " 'NervousSystemDiseases' 'UnknownSymptoms' 'MentalDisorders'\n",
      " 'DeliveryComplications' 'CongenitalAnomalies' 'SenseOrganDiseases'] \n",
      "\n",
      "diag_3 ['Unknown' 'Endocrine' 'Other' 'circulatory' 'diabetes'\n",
      " 'InfectiousDiseases' 'respiratory' 'injury' 'neoplasms' 'genitourinary'\n",
      " 'musculoskeletal' 'UnknownSymptoms' 'digestive' 'SkinDiseases'\n",
      " 'MentalDisorders' 'CongenitalAnomalies' 'NervousSystemDiseases'\n",
      " 'SenseOrganDiseases' 'DeliveryComplications' 'BloodDiseases'] \n",
      "\n",
      "number_diagnoses [ 1  9  6  7  5  8  3  4  2 16 12 13 15 10 11 14] \n",
      "\n",
      "max_glu_serum ['None' '>300' 'Norm' '>200'] \n",
      "\n",
      "A1Cresult ['None' '>7' '>8' 'Norm'] \n",
      "\n",
      "metformin ['None' 'No Change' 'Increased' 'Decreased'] \n",
      "\n",
      "repaglinide ['None' 'Increased' 'No Change' 'Decreased'] \n",
      "\n",
      "nateglinide ['None' 'No Change' 'Decreased' 'Increased'] \n",
      "\n",
      "chlorpropamide ['None' 'No Change' 'Decreased' 'Increased'] \n",
      "\n",
      "glimepiride ['None' 'No Change' 'Decreased' 'Increased'] \n",
      "\n",
      "acetohexamide ['None' 'No Change'] \n",
      "\n",
      "glipizide ['None' 'No Change' 'Increased' 'Decreased'] \n",
      "\n",
      "glyburide ['None' 'No Change' 'Increased' 'Decreased'] \n",
      "\n",
      "tolbutamide ['None' 'No Change'] \n",
      "\n",
      "pioglitazone ['None' 'No Change' 'Increased' 'Decreased'] \n",
      "\n",
      "rosiglitazone ['None' 'No Change' 'Increased' 'Decreased'] \n",
      "\n",
      "acarbose ['None' 'No Change' 'Increased' 'Decreased'] \n",
      "\n",
      "miglitol ['None' 'No Change' 'Decreased' 'Increased'] \n",
      "\n",
      "troglitazone ['None' 'No Change'] \n",
      "\n",
      "tolazamide ['None' 'No Change' 'Increased'] \n",
      "\n",
      "examide ['None'] \n",
      "\n",
      "citoglipton ['None'] \n",
      "\n",
      "insulin ['None' 'Increased' 'No Change' 'Decreased'] \n",
      "\n",
      "glyburide-metformin ['None' 'No Change' 'Decreased' 'Increased'] \n",
      "\n",
      "glipizide-metformin ['None' 'No Change'] \n",
      "\n",
      "glimepiride-pioglitazone ['None' 'No Change'] \n",
      "\n",
      "metformin-rosiglitazone ['None' 'No Change'] \n",
      "\n",
      "metformin-pioglitazone ['None' 'No Change'] \n",
      "\n",
      "change ['No' 'Yes'] \n",
      "\n",
      "diabetesMed ['No' 'Yes'] \n",
      "\n",
      "readmitted ['NO' '>30' '<30'] \n",
      "\n",
      "readmitted_target [0 1] \n",
      "\n",
      "lab_procedure_buckets ['[41-50)' '[51-60)' '[11-20)' '[31-40)' '[61-70)' '[71-80)' '[21-30)'\n",
      " '[81-90)' '[6-10)' '<=5' '[91-100)' '>100'] \n",
      "\n",
      "num_medication_buckets ['<=5' '[16-20)' '[11-15)' '[6-10)' '[21-30)' '[31-40)' '[61-70)'\n",
      " '[41-50)' '[51-60)' '>71'] \n",
      "\n",
      "num_outpatient_buckets [0 2 1 5 7 9 3 8 4 '>=10' 6] \n",
      "\n",
      "num_emergency_buckets [0 1 2 4 3 9 5 7 6 8 '>=10'] \n",
      "\n",
      "num_inpatient_buckets [0 1 2 3 6 5 4 7 8 9 '>=10'] \n",
      "\n",
      "num_diagnoses_buckets [1 9 6 7 5 8 3 4 2 '>=10'] \n",
      "\n"
     ]
    }
   ],
   "source": [
    "for col in df.columns:\n",
    "    print(col, df[col].unique()[0:20], '\\n')"
   ]
  },
  {
   "cell_type": "markdown",
   "metadata": {},
   "source": [
    "Let's look at the different column types before building the encoding pipeline."
   ]
  },
  {
   "cell_type": "code",
   "execution_count": 201,
   "metadata": {},
   "outputs": [
    {
     "name": "stdout",
     "output_type": "stream",
     "text": [
      "There are 8 discrete variables\n",
      "There are 0 continuous variables\n",
      "There are 42 categorical variables\n",
      "There are 4 mixed variables\n"
     ]
    }
   ],
   "source": [
    "# numerical: \n",
    "discrete = discrete = ['time_in_hospital', 'num_lab_procedures', \n",
    "            'num_procedures', 'num_medications', 'number_outpatient', \n",
    "            'number_emergency', 'number_inpatient', 'number_diagnoses']\n",
    "continuous = [col for col in df.columns if df[col].dtype!='O' \n",
    "              and col!='readmitted_target' and col not in discrete]\n",
    "\n",
    "# may not use these columns\n",
    "mixed = ['num_outpatient_buckets', 'num_emergency_buckets',\n",
    "       'num_inpatient_buckets', 'num_diagnoses_buckets']\n",
    "\n",
    "# categorical\n",
    "categorical = [col for col in df.columns if df[col].dtype=='O' \n",
    "               and col not in mixed]\n",
    "\n",
    "print('There are {} discrete variables'.format(len(discrete)))\n",
    "print('There are {} continuous variables'.format(len(continuous)))\n",
    "print('There are {} categorical variables'.format(len(categorical)))\n",
    "print('There are {} mixed variables'.format(len(mixed)))"
   ]
  },
  {
   "cell_type": "markdown",
   "metadata": {},
   "source": [
    "Quick look at cardinality after we labeled and bucketed some columns earlier."
   ]
  },
  {
   "cell_type": "code",
   "execution_count": 220,
   "metadata": {},
   "outputs": [
    {
     "name": "stdout",
     "output_type": "stream",
     "text": [
      "Number of values in age is: 10\n",
      "Number of values in weight is: 10\n",
      "Number of values in discharge_disposition_id is: 12\n",
      "Number of values in medical_specialty is: 32\n",
      "Number of values in diag_1 is: 20\n",
      "Number of values in diag_2 is: 20\n",
      "Number of values in diag_3 is: 21\n",
      "Number of values in lab_procedure_buckets is: 12\n",
      "Number of values in num_medication_buckets is: 10\n",
      "Number of values in num_outpatient_buckets is: 11\n",
      "Number of values in num_emergency_buckets is: 11\n",
      "Number of values in num_inpatient_buckets is: 11\n",
      "Number of values in num_diagnoses_buckets is: 10\n"
     ]
    }
   ],
   "source": [
    "for col in df[categorical+mixed]:\n",
    "    unique_value_count = len(df[col].unique())\n",
    "    if unique_value_count >= 10:\n",
    "        print(f'Number of values in {col} is: {unique_value_count}')"
   ]
  },
  {
   "cell_type": "code",
   "execution_count": 216,
   "metadata": {},
   "outputs": [
    {
     "name": "stdout",
     "output_type": "stream",
     "text": [
      "Number of values in time_in_hospital is: 14\n",
      "Number of values in num_lab_procedures is: 118\n",
      "Number of values in num_procedures is: 7\n",
      "Number of values in num_medications is: 75\n",
      "Number of values in number_outpatient is: 39\n",
      "Number of values in number_emergency is: 33\n",
      "Number of values in number_inpatient is: 21\n",
      "Number of values in number_diagnoses is: 16\n"
     ]
    }
   ],
   "source": [
    "for col in df[discrete]:\n",
    "    unique_value_count = len(df[col].unique())\n",
    "#     if unique_value_count >= 10:\n",
    "    print(f'Number of values in {col} is: {unique_value_count}')"
   ]
  },
  {
   "cell_type": "code",
   "execution_count": 213,
   "metadata": {},
   "outputs": [
    {
     "data": {
      "text/plain": [
       "<AxesSubplot:>"
      ]
     },
     "execution_count": 213,
     "metadata": {},
     "output_type": "execute_result"
    },
    {
     "data": {
      "image/png": "[encoded data removed]",
      "text/plain": [
       "<Figure size 1080x576 with 1 Axes>"
      ]
     },
     "metadata": {
      "needs_background": "light"
     },
     "output_type": "display_data"
    }
   ],
   "source": [
    "df[discrete].boxplot(figsize=(15,8))"
   ]
  },
  {
   "cell_type": "code",
   "execution_count": 217,
   "metadata": {},
   "outputs": [
    {
     "data": {
      "text/plain": [
       "1      3208\n",
       "43     2804\n",
       "44     2496\n",
       "45     2376\n",
       "38     2213\n",
       "       ... \n",
       "107       1\n",
       "118       1\n",
       "129       1\n",
       "120       1\n",
       "121       1\n",
       "Name: num_lab_procedures, Length: 118, dtype: int64"
      ]
     },
     "execution_count": 217,
     "metadata": {},
     "output_type": "execute_result"
    }
   ],
   "source": [
    "df.num_lab_procedures.value_counts()"
   ]
  },
  {
   "cell_type": "code",
   "execution_count": 218,
   "metadata": {},
   "outputs": [
    {
     "data": {
      "text/html": [
       "<div>\n",
       "<style scoped>\n",
       "    .dataframe tbody tr th:only-of-type {\n",
       "        vertical-align: middle;\n",
       "    }\n",
       "\n",
       "    .dataframe tbody tr th {\n",
       "        vertical-align: top;\n",
       "    }\n",
       "\n",
       "    .dataframe thead th {\n",
       "        text-align: right;\n",
       "    }\n",
       "</style>\n",
       "<table border=\"1\" class=\"dataframe\">\n",
       "  <thead>\n",
       "    <tr style=\"text-align: right;\">\n",
       "      <th></th>\n",
       "      <th>time_in_hospital</th>\n",
       "      <th>num_lab_procedures</th>\n",
       "      <th>num_procedures</th>\n",
       "      <th>num_medications</th>\n",
       "      <th>number_outpatient</th>\n",
       "      <th>number_emergency</th>\n",
       "      <th>number_inpatient</th>\n",
       "      <th>number_diagnoses</th>\n",
       "      <th>readmitted_target</th>\n",
       "    </tr>\n",
       "  </thead>\n",
       "  <tbody>\n",
       "    <tr>\n",
       "      <th>count</th>\n",
       "      <td>101766.000000</td>\n",
       "      <td>101766.000000</td>\n",
       "      <td>101766.000000</td>\n",
       "      <td>101766.000000</td>\n",
       "      <td>101766.000000</td>\n",
       "      <td>101766.000000</td>\n",
       "      <td>101766.000000</td>\n",
       "      <td>101766.000000</td>\n",
       "      <td>101766.000000</td>\n",
       "    </tr>\n",
       "    <tr>\n",
       "      <th>mean</th>\n",
       "      <td>4.395987</td>\n",
       "      <td>43.095641</td>\n",
       "      <td>1.339730</td>\n",
       "      <td>16.021844</td>\n",
       "      <td>0.369357</td>\n",
       "      <td>0.197836</td>\n",
       "      <td>0.635566</td>\n",
       "      <td>7.422607</td>\n",
       "      <td>0.460881</td>\n",
       "    </tr>\n",
       "    <tr>\n",
       "      <th>std</th>\n",
       "      <td>2.985108</td>\n",
       "      <td>19.674362</td>\n",
       "      <td>1.705807</td>\n",
       "      <td>8.127566</td>\n",
       "      <td>1.267265</td>\n",
       "      <td>0.930472</td>\n",
       "      <td>1.262863</td>\n",
       "      <td>1.933600</td>\n",
       "      <td>0.498470</td>\n",
       "    </tr>\n",
       "    <tr>\n",
       "      <th>min</th>\n",
       "      <td>1.000000</td>\n",
       "      <td>1.000000</td>\n",
       "      <td>0.000000</td>\n",
       "      <td>1.000000</td>\n",
       "      <td>0.000000</td>\n",
       "      <td>0.000000</td>\n",
       "      <td>0.000000</td>\n",
       "      <td>1.000000</td>\n",
       "      <td>0.000000</td>\n",
       "    </tr>\n",
       "    <tr>\n",
       "      <th>25%</th>\n",
       "      <td>2.000000</td>\n",
       "      <td>31.000000</td>\n",
       "      <td>0.000000</td>\n",
       "      <td>10.000000</td>\n",
       "      <td>0.000000</td>\n",
       "      <td>0.000000</td>\n",
       "      <td>0.000000</td>\n",
       "      <td>6.000000</td>\n",
       "      <td>0.000000</td>\n",
       "    </tr>\n",
       "    <tr>\n",
       "      <th>50%</th>\n",
       "      <td>4.000000</td>\n",
       "      <td>44.000000</td>\n",
       "      <td>1.000000</td>\n",
       "      <td>15.000000</td>\n",
       "      <td>0.000000</td>\n",
       "      <td>0.000000</td>\n",
       "      <td>0.000000</td>\n",
       "      <td>8.000000</td>\n",
       "      <td>0.000000</td>\n",
       "    </tr>\n",
       "    <tr>\n",
       "      <th>75%</th>\n",
       "      <td>6.000000</td>\n",
       "      <td>57.000000</td>\n",
       "      <td>2.000000</td>\n",
       "      <td>20.000000</td>\n",
       "      <td>0.000000</td>\n",
       "      <td>0.000000</td>\n",
       "      <td>1.000000</td>\n",
       "      <td>9.000000</td>\n",
       "      <td>1.000000</td>\n",
       "    </tr>\n",
       "    <tr>\n",
       "      <th>max</th>\n",
       "      <td>14.000000</td>\n",
       "      <td>132.000000</td>\n",
       "      <td>6.000000</td>\n",
       "      <td>81.000000</td>\n",
       "      <td>42.000000</td>\n",
       "      <td>76.000000</td>\n",
       "      <td>21.000000</td>\n",
       "      <td>16.000000</td>\n",
       "      <td>1.000000</td>\n",
       "    </tr>\n",
       "  </tbody>\n",
       "</table>\n",
       "</div>"
      ],
      "text/plain": [
       "       time_in_hospital  ...  readmitted_target\n",
       "count     101766.000000  ...      101766.000000\n",
       "mean           4.395987  ...           0.460881\n",
       "std            2.985108  ...           0.498470\n",
       "min            1.000000  ...           0.000000\n",
       "25%            2.000000  ...           0.000000\n",
       "50%            4.000000  ...           0.000000\n",
       "75%            6.000000  ...           1.000000\n",
       "max           14.000000  ...           1.000000\n",
       "\n",
       "[8 rows x 9 columns]"
      ]
     },
     "execution_count": 218,
     "metadata": {},
     "output_type": "execute_result"
    }
   ],
   "source": [
    "df.describe()"
   ]
  },
  {
   "cell_type": "markdown",
   "metadata": {},
   "source": [
    "They are all on same scale - so I will not need to use a scaling technique for any model type."
   ]
  },
  {
   "cell_type": "markdown",
   "metadata": {},
   "source": [
    "I can also get rid of the original readmitted column and rename the binary target column made earlier."
   ]
  },
  {
   "cell_type": "code",
   "execution_count": 221,
   "metadata": {},
   "outputs": [],
   "source": [
    "df.drop(['readmitted'], axis=1, inplace=True)\n",
    "df.rename(columns={'readmitted_target':'readmitted'}, inplace=True)"
   ]
  },
  {
   "cell_type": "markdown",
   "metadata": {},
   "source": [
    "I will take out the bucketed categories and try a pipeline with the discrete columns first."
   ]
  },
  {
   "cell_type": "code",
   "execution_count": 243,
   "metadata": {},
   "outputs": [],
   "source": [
    "df.drop(['num_outpatient_buckets', 'num_emergency_buckets',\n",
    "       'num_inpatient_buckets', 'num_diagnoses_buckets',\n",
    "         'lab_procedure_buckets', \n",
    "         'num_medication_buckets'], axis=1, inplace=True)"
   ]
  },
  {
   "cell_type": "code",
   "execution_count": 244,
   "metadata": {},
   "outputs": [],
   "source": [
    "# df.head()\n",
    "y = df['readmitted']\n",
    "X = df.drop(['readmitted'], axis=1)"
   ]
  },
  {
   "cell_type": "code",
   "execution_count": 245,
   "metadata": {},
   "outputs": [
    {
     "data": {
      "text/plain": [
       "((81412, 47), (20354, 47))"
      ]
     },
     "execution_count": 245,
     "metadata": {},
     "output_type": "execute_result"
    }
   ],
   "source": [
    "X_train, X_test, y_train, y_test = train_test_split(\n",
    "    X, y,\n",
    "    test_size=0.2,  \n",
    "    random_state=42)  \n",
    "\n",
    "X_train.shape, X_test.shape"
   ]
  },
  {
   "cell_type": "code",
   "execution_count": 246,
   "metadata": {},
   "outputs": [
    {
     "data": {
      "image/png": "[encoded data removed]",
      "text/plain": [
       "<Figure size 1080x576 with 9 Axes>"
      ]
     },
     "metadata": {
      "needs_background": "light"
     },
     "output_type": "display_data"
    }
   ],
   "source": [
    "X_train.select_dtypes(exclude='O').hist(bins=30, figsize=(15,8))\n",
    "plt.show()"
   ]
  },
  {
   "cell_type": "code",
   "execution_count": 247,
   "metadata": {},
   "outputs": [],
   "source": [
    "from feature_engine import categorical_encoders as ce\n",
    "from sklearn.ensemble import GradientBoostingClassifier\n",
    "from sklearn.metrics import roc_auc_score\n",
    "from sklearn.pipeline import Pipeline"
   ]
  },
  {
   "cell_type": "code",
   "execution_count": 229,
   "metadata": {},
   "outputs": [],
   "source": [
    "# GradientBoostingClassifier(\n",
    "#     loss='deviance',\n",
    "#     learning_rate=0.1,\n",
    "#     n_estimators=100,\n",
    "#     subsample=1.0,\n",
    "#     criterion='friedman_mse',\n",
    "#     min_samples_split=2,\n",
    "#     min_samples_leaf=1,\n",
    "#     min_weight_fraction_leaf=0.0,\n",
    "#     max_depth=3,\n",
    "#     min_impurity_decrease=0.0,\n",
    "#     min_impurity_split=None,\n",
    "#     init=None,\n",
    "#     random_state=None,\n",
    "#     max_features=None,\n",
    "#     verbose=0,\n",
    "#     max_leaf_nodes=None,\n",
    "#     warm_start=False,\n",
    "#     presort='deprecated',\n",
    "#     validation_fraction=0.1,\n",
    "#     n_iter_no_change=None,\n",
    "#     tol=0.0001,\n",
    "#     ccp_alpha=0.0,\n",
    "# )"
   ]
  },
  {
   "cell_type": "code",
   "execution_count": 248,
   "metadata": {},
   "outputs": [],
   "source": [
    "baseline_pipe = Pipeline([\n",
    "\n",
    "    # rare encoding for high cardinality\n",
    "    ('encoder_rare_label',\n",
    "     ce.RareLabelCategoricalEncoder(tol=0.05,\n",
    "                                    n_categories=8,\n",
    "                                    variables=None, \n",
    "                                   replace_with='Other')),\n",
    "    ('categorical_encoder',\n",
    "     ce.OrdinalCategoricalEncoder(encoding_method='arbitrary',\n",
    "                                  variables=None)),\n",
    "\n",
    "    # Gradient Boosted machine\n",
    "    ('gbm', GradientBoostingClassifier(random_state=42))\n",
    "])"
   ]
  },
  {
   "cell_type": "code",
   "execution_count": 256,
   "metadata": {},
   "outputs": [],
   "source": [
    "baseline_pipe.fit(X_train, y_train)\n",
    "\n",
    "X_train_preds = baseline_pipe.predict_proba(X_train)[:,1]\n",
    "X_test_preds = baseline_pipe.predict_proba(X_test)[:,1]"
   ]
  },
  {
   "cell_type": "code",
   "execution_count": 257,
   "metadata": {},
   "outputs": [
    {
     "data": {
      "text/plain": [
       "array([0.37416267, 0.28792271, 0.43431948, ..., 0.39726095, 0.44848014,\n",
       "       0.53971824])"
      ]
     },
     "execution_count": 257,
     "metadata": {},
     "output_type": "execute_result"
    }
   ],
   "source": [
    "X_train_preds"
   ]
  },
  {
   "cell_type": "code",
   "execution_count": 254,
   "metadata": {},
   "outputs": [
    {
     "data": {
      "text/html": [
       "<div>\n",
       "<style scoped>\n",
       "    .dataframe tbody tr th:only-of-type {\n",
       "        vertical-align: middle;\n",
       "    }\n",
       "\n",
       "    .dataframe tbody tr th {\n",
       "        vertical-align: top;\n",
       "    }\n",
       "\n",
       "    .dataframe thead th {\n",
       "        text-align: right;\n",
       "    }\n",
       "</style>\n",
       "<table border=\"1\" class=\"dataframe\">\n",
       "  <thead>\n",
       "    <tr style=\"text-align: right;\">\n",
       "      <th></th>\n",
       "      <th>race</th>\n",
       "      <th>gender</th>\n",
       "      <th>age</th>\n",
       "      <th>weight</th>\n",
       "      <th>admission_type_id</th>\n",
       "      <th>discharge_disposition_id</th>\n",
       "      <th>admission_source_id</th>\n",
       "      <th>time_in_hospital</th>\n",
       "      <th>payer_code</th>\n",
       "      <th>medical_specialty</th>\n",
       "      <th>num_lab_procedures</th>\n",
       "      <th>num_procedures</th>\n",
       "      <th>num_medications</th>\n",
       "      <th>number_outpatient</th>\n",
       "      <th>number_emergency</th>\n",
       "      <th>number_inpatient</th>\n",
       "      <th>diag_1</th>\n",
       "      <th>diag_2</th>\n",
       "      <th>diag_3</th>\n",
       "      <th>number_diagnoses</th>\n",
       "      <th>max_glu_serum</th>\n",
       "      <th>A1Cresult</th>\n",
       "      <th>metformin</th>\n",
       "      <th>repaglinide</th>\n",
       "      <th>nateglinide</th>\n",
       "      <th>chlorpropamide</th>\n",
       "      <th>glimepiride</th>\n",
       "      <th>acetohexamide</th>\n",
       "      <th>glipizide</th>\n",
       "      <th>glyburide</th>\n",
       "      <th>tolbutamide</th>\n",
       "      <th>pioglitazone</th>\n",
       "      <th>rosiglitazone</th>\n",
       "      <th>acarbose</th>\n",
       "      <th>miglitol</th>\n",
       "      <th>troglitazone</th>\n",
       "      <th>tolazamide</th>\n",
       "      <th>examide</th>\n",
       "      <th>citoglipton</th>\n",
       "      <th>insulin</th>\n",
       "      <th>glyburide-metformin</th>\n",
       "      <th>glipizide-metformin</th>\n",
       "      <th>glimepiride-pioglitazone</th>\n",
       "      <th>metformin-rosiglitazone</th>\n",
       "      <th>metformin-pioglitazone</th>\n",
       "      <th>change</th>\n",
       "      <th>diabetesMed</th>\n",
       "    </tr>\n",
       "  </thead>\n",
       "  <tbody>\n",
       "    <tr>\n",
       "      <th>24079</th>\n",
       "      <td>Caucasian</td>\n",
       "      <td>Female</td>\n",
       "      <td>[70-80)</td>\n",
       "      <td>unknown</td>\n",
       "      <td>Emergency</td>\n",
       "      <td>Home</td>\n",
       "      <td>EmergencyRoom</td>\n",
       "      <td>4</td>\n",
       "      <td>unknown</td>\n",
       "      <td>General</td>\n",
       "      <td>48</td>\n",
       "      <td>0</td>\n",
       "      <td>11</td>\n",
       "      <td>0</td>\n",
       "      <td>0</td>\n",
       "      <td>0</td>\n",
       "      <td>Endocrine</td>\n",
       "      <td>circulatory</td>\n",
       "      <td>circulatory</td>\n",
       "      <td>9</td>\n",
       "      <td>None</td>\n",
       "      <td>Norm</td>\n",
       "      <td>None</td>\n",
       "      <td>None</td>\n",
       "      <td>None</td>\n",
       "      <td>None</td>\n",
       "      <td>None</td>\n",
       "      <td>None</td>\n",
       "      <td>None</td>\n",
       "      <td>None</td>\n",
       "      <td>None</td>\n",
       "      <td>None</td>\n",
       "      <td>None</td>\n",
       "      <td>None</td>\n",
       "      <td>None</td>\n",
       "      <td>None</td>\n",
       "      <td>None</td>\n",
       "      <td>None</td>\n",
       "      <td>None</td>\n",
       "      <td>None</td>\n",
       "      <td>None</td>\n",
       "      <td>None</td>\n",
       "      <td>None</td>\n",
       "      <td>None</td>\n",
       "      <td>None</td>\n",
       "      <td>No</td>\n",
       "      <td>No</td>\n",
       "    </tr>\n",
       "    <tr>\n",
       "      <th>98079</th>\n",
       "      <td>Caucasian</td>\n",
       "      <td>Male</td>\n",
       "      <td>[50-60)</td>\n",
       "      <td>unknown</td>\n",
       "      <td>Emergency</td>\n",
       "      <td>Home</td>\n",
       "      <td>EmergencyRoom</td>\n",
       "      <td>1</td>\n",
       "      <td>Commericial/Other</td>\n",
       "      <td>unknown</td>\n",
       "      <td>42</td>\n",
       "      <td>0</td>\n",
       "      <td>5</td>\n",
       "      <td>0</td>\n",
       "      <td>0</td>\n",
       "      <td>0</td>\n",
       "      <td>circulatory</td>\n",
       "      <td>diabetes</td>\n",
       "      <td>Endocrine</td>\n",
       "      <td>6</td>\n",
       "      <td>None</td>\n",
       "      <td>None</td>\n",
       "      <td>None</td>\n",
       "      <td>None</td>\n",
       "      <td>None</td>\n",
       "      <td>None</td>\n",
       "      <td>None</td>\n",
       "      <td>None</td>\n",
       "      <td>None</td>\n",
       "      <td>None</td>\n",
       "      <td>None</td>\n",
       "      <td>None</td>\n",
       "      <td>None</td>\n",
       "      <td>None</td>\n",
       "      <td>None</td>\n",
       "      <td>None</td>\n",
       "      <td>None</td>\n",
       "      <td>None</td>\n",
       "      <td>None</td>\n",
       "      <td>None</td>\n",
       "      <td>None</td>\n",
       "      <td>None</td>\n",
       "      <td>None</td>\n",
       "      <td>None</td>\n",
       "      <td>None</td>\n",
       "      <td>No</td>\n",
       "      <td>No</td>\n",
       "    </tr>\n",
       "    <tr>\n",
       "      <th>6237</th>\n",
       "      <td>Caucasian</td>\n",
       "      <td>Male</td>\n",
       "      <td>[80-90)</td>\n",
       "      <td>unknown</td>\n",
       "      <td>Emergency</td>\n",
       "      <td>Home</td>\n",
       "      <td>EmergencyRoom</td>\n",
       "      <td>4</td>\n",
       "      <td>unknown</td>\n",
       "      <td>unknown</td>\n",
       "      <td>44</td>\n",
       "      <td>0</td>\n",
       "      <td>10</td>\n",
       "      <td>0</td>\n",
       "      <td>0</td>\n",
       "      <td>0</td>\n",
       "      <td>genitourinary</td>\n",
       "      <td>genitourinary</td>\n",
       "      <td>genitourinary</td>\n",
       "      <td>7</td>\n",
       "      <td>None</td>\n",
       "      <td>None</td>\n",
       "      <td>None</td>\n",
       "      <td>None</td>\n",
       "      <td>None</td>\n",
       "      <td>None</td>\n",
       "      <td>None</td>\n",
       "      <td>None</td>\n",
       "      <td>None</td>\n",
       "      <td>No Change</td>\n",
       "      <td>None</td>\n",
       "      <td>None</td>\n",
       "      <td>None</td>\n",
       "      <td>None</td>\n",
       "      <td>None</td>\n",
       "      <td>None</td>\n",
       "      <td>None</td>\n",
       "      <td>None</td>\n",
       "      <td>None</td>\n",
       "      <td>None</td>\n",
       "      <td>None</td>\n",
       "      <td>None</td>\n",
       "      <td>None</td>\n",
       "      <td>None</td>\n",
       "      <td>None</td>\n",
       "      <td>No</td>\n",
       "      <td>Yes</td>\n",
       "    </tr>\n",
       "    <tr>\n",
       "      <th>72208</th>\n",
       "      <td>Caucasian</td>\n",
       "      <td>Male</td>\n",
       "      <td>[80-90)</td>\n",
       "      <td>unknown</td>\n",
       "      <td>Emergency</td>\n",
       "      <td>Transferred</td>\n",
       "      <td>EmergencyRoom</td>\n",
       "      <td>3</td>\n",
       "      <td>Medicare</td>\n",
       "      <td>unknown</td>\n",
       "      <td>54</td>\n",
       "      <td>0</td>\n",
       "      <td>8</td>\n",
       "      <td>0</td>\n",
       "      <td>0</td>\n",
       "      <td>0</td>\n",
       "      <td>NervousSystemDiseases</td>\n",
       "      <td>MentalDisorders</td>\n",
       "      <td>NervousSystemDiseases</td>\n",
       "      <td>8</td>\n",
       "      <td>None</td>\n",
       "      <td>None</td>\n",
       "      <td>None</td>\n",
       "      <td>None</td>\n",
       "      <td>None</td>\n",
       "      <td>None</td>\n",
       "      <td>None</td>\n",
       "      <td>None</td>\n",
       "      <td>None</td>\n",
       "      <td>No Change</td>\n",
       "      <td>None</td>\n",
       "      <td>None</td>\n",
       "      <td>None</td>\n",
       "      <td>None</td>\n",
       "      <td>None</td>\n",
       "      <td>None</td>\n",
       "      <td>None</td>\n",
       "      <td>None</td>\n",
       "      <td>None</td>\n",
       "      <td>No Change</td>\n",
       "      <td>None</td>\n",
       "      <td>None</td>\n",
       "      <td>None</td>\n",
       "      <td>None</td>\n",
       "      <td>None</td>\n",
       "      <td>Yes</td>\n",
       "      <td>Yes</td>\n",
       "    </tr>\n",
       "    <tr>\n",
       "      <th>33075</th>\n",
       "      <td>AfricanAmerican</td>\n",
       "      <td>Female</td>\n",
       "      <td>[70-80)</td>\n",
       "      <td>unknown</td>\n",
       "      <td>Emergency</td>\n",
       "      <td>Expired_Inpatient</td>\n",
       "      <td>EmergencyRoom</td>\n",
       "      <td>11</td>\n",
       "      <td>Medicare</td>\n",
       "      <td>Nephrology</td>\n",
       "      <td>35</td>\n",
       "      <td>3</td>\n",
       "      <td>23</td>\n",
       "      <td>0</td>\n",
       "      <td>0</td>\n",
       "      <td>1</td>\n",
       "      <td>InfectiousDiseases</td>\n",
       "      <td>respiratory</td>\n",
       "      <td>circulatory</td>\n",
       "      <td>8</td>\n",
       "      <td>None</td>\n",
       "      <td>None</td>\n",
       "      <td>None</td>\n",
       "      <td>None</td>\n",
       "      <td>None</td>\n",
       "      <td>None</td>\n",
       "      <td>None</td>\n",
       "      <td>None</td>\n",
       "      <td>None</td>\n",
       "      <td>None</td>\n",
       "      <td>None</td>\n",
       "      <td>None</td>\n",
       "      <td>None</td>\n",
       "      <td>None</td>\n",
       "      <td>None</td>\n",
       "      <td>None</td>\n",
       "      <td>None</td>\n",
       "      <td>None</td>\n",
       "      <td>None</td>\n",
       "      <td>None</td>\n",
       "      <td>None</td>\n",
       "      <td>None</td>\n",
       "      <td>None</td>\n",
       "      <td>None</td>\n",
       "      <td>None</td>\n",
       "      <td>No</td>\n",
       "      <td>No</td>\n",
       "    </tr>\n",
       "  </tbody>\n",
       "</table>\n",
       "</div>"
      ],
      "text/plain": [
       "                  race  gender  ... change diabetesMed\n",
       "24079        Caucasian  Female  ...     No          No\n",
       "98079        Caucasian    Male  ...     No          No\n",
       "6237         Caucasian    Male  ...     No         Yes\n",
       "72208        Caucasian    Male  ...    Yes         Yes\n",
       "33075  AfricanAmerican  Female  ...     No          No\n",
       "\n",
       "[5 rows x 47 columns]"
      ]
     },
     "execution_count": 254,
     "metadata": {},
     "output_type": "execute_result"
    }
   ],
   "source": [
    "X_train.head()"
   ]
  },
  {
   "cell_type": "code",
   "execution_count": 251,
   "metadata": {},
   "outputs": [
    {
     "name": "stdout",
     "output_type": "stream",
     "text": [
      "Train set\n",
      "GBM roc-auc: 0.6954507760976498\n",
      "Test set\n",
      "GBM roc-auc: 0.6887706623817974\n"
     ]
    }
   ],
   "source": [
    "print('Train set')\n",
    "print('GBM roc-auc: {}'.format(roc_auc_score(y_train, X_train_preds)))\n",
    "\n",
    "print('Test set')\n",
    "print('GBM roc-auc: {}'.format(roc_auc_score(y_test, X_test_preds)))"
   ]
  },
  {
   "cell_type": "code",
   "execution_count": 253,
   "metadata": {},
   "outputs": [
    {
     "data": {
      "image/png": "[encoded data removed]",
      "text/plain": [
       "<Figure size 1080x576 with 1 Axes>"
      ]
     },
     "metadata": {
      "needs_background": "light"
     },
     "output_type": "display_data"
    }
   ],
   "source": [
    "importance = pd.Series(baseline_pipe.named_steps['gbm'].feature_importances_)\n",
    "importance.index = df.drop('readmitted', axis=1).columns\n",
    "importance.sort_values(inplace=True, ascending=False)\n",
    "importance = importance.nlargest(25)\n",
    "importance.plot.bar(figsize=(15,8))\n",
    "plt.show()"
   ]
  },
  {
   "cell_type": "code",
   "execution_count": null,
   "metadata": {},
   "outputs": [],
   "source": []
  },
  {
   "cell_type": "code",
   "execution_count": null,
   "metadata": {},
   "outputs": [],
   "source": []
  },
  {
   "cell_type": "markdown",
   "metadata": {},
   "source": [
    "# Model exploration based on feature engineering:"
   ]
  },
  {
   "cell_type": "code",
   "execution_count": null,
   "metadata": {},
   "outputs": [],
   "source": [
    "from sklearn.model_selection import train_test_split, GridSearchCV \n",
    "from sklearn.model_selection import cross_val_score, RandomizedSearchCV\n",
    "\n",
    "from sklearn.neighbors import KNeighborsClassifier\n",
    "\n",
    "from sklearn.tree import DecisionTreeClassifier\n",
    "\n",
    "from sklearn.linear_model import LinearRegression, LogisticRegression \n",
    "from sklearn.linear_model import Ridge, Lasso, ElasticNet, LassoCV\n",
    "\n",
    "from sklearn.metrics import accuracy_score, roc_auc_score, roc_curve \n",
    "from sklearn.metrics import mean_squared_error, classification_report \n",
    "from sklearn.metrics import confusion_matrix\n",
    "\n",
    "from sklearn.preprocessing import StandardScaler, scale\n",
    "\n",
    "from sklearn.ensemble import GradientBoostingClassifier\n",
    "from sklearn.ensemble import BaggingClassifier, RandomForestClassifier\n",
    "\n",
    "from sklearn.pipeline import Pipeline\n",
    "\n",
    "from scipy.stats import randint"
   ]
  },
  {
   "cell_type": "code",
   "execution_count": null,
   "metadata": {},
   "outputs": [],
   "source": [
    "# y = df[['readmitted_target']]\n",
    "# X = df.drop(['readmitted_target', 'readmitted', 'encounter_id', 'patient_nbr'],axis=1)"
   ]
  },
  {
   "cell_type": "code",
   "execution_count": null,
   "metadata": {},
   "outputs": [],
   "source": [
    "# df.head()"
   ]
  },
  {
   "cell_type": "code",
   "execution_count": null,
   "metadata": {},
   "outputs": [],
   "source": [
    "# X_train, X_test, y_train, y_test = train_test_split(X, y, \n",
    "#                                 test_size=0.20, random_state=42) "
   ]
  },
  {
   "cell_type": "code",
   "execution_count": null,
   "metadata": {},
   "outputs": [],
   "source": [
    "# RandomForestClassifier(n_estimators=100, *, criterion='gini', max_depth=None, min_samples_split=2,\n",
    "#                        min_samples_leaf=1, min_weight_fraction_leaf=0.0, max_features='auto', \n",
    "#                        max_leaf_nodes=None, min_impurity_decrease=0.0, min_impurity_split=None, \n",
    "#                        bootstrap=True, oob_score=False, n_jobs=None, random_state=None, verbose=0, \n",
    "#                        warm_start=False, \n",
    "#                        class_weight=None, ccp_alpha=0.0, max_samples=None)"
   ]
  },
  {
   "cell_type": "markdown",
   "metadata": {},
   "source": [
    "For classification a good default is: m = sqrt(p)-->?"
   ]
  },
  {
   "cell_type": "code",
   "execution_count": null,
   "metadata": {},
   "outputs": [],
   "source": [
    "# Instantiate dt\n",
    "rf_ints = RandomForestClassifier(n_estimators=100, criterion='entropy', \n",
    "                            random_state=42)\n",
    "\n",
    "# Instantiate bc\n",
    "bc_ints = BaggingClassifier(base_estimator=rf_ints, \n",
    "            n_estimators=50,\n",
    "            oob_score=True,\n",
    "            random_state=1)"
   ]
  },
  {
   "cell_type": "code",
   "execution_count": null,
   "metadata": {},
   "outputs": [],
   "source": [
    "# # Instantiate dt\n",
    "# rf_cats = RandomForestClassifier(n_estimators=100, criterion='entropy', \n",
    "#                             random_state=42)\n",
    "\n",
    "# # Instantiate bc\n",
    "# bc_cats = BaggingClassifier(base_estimator=rf_cats, \n",
    "#             n_estimators=50,\n",
    "#             oob_score=True,\n",
    "#             random_state=1)"
   ]
  },
  {
   "cell_type": "code",
   "execution_count": null,
   "metadata": {},
   "outputs": [],
   "source": [
    "X_train_ints = train_t"
   ]
  },
  {
   "cell_type": "code",
   "execution_count": null,
   "metadata": {},
   "outputs": [],
   "source": [
    "X_test_ints = test_t"
   ]
  },
  {
   "cell_type": "code",
   "execution_count": null,
   "metadata": {},
   "outputs": [],
   "source": [
    "# rf_cats.fit(X_train_cats, y_train_cats)"
   ]
  },
  {
   "cell_type": "code",
   "execution_count": null,
   "metadata": {},
   "outputs": [],
   "source": [
    "rf_ints.fit(X_train_ints, y_train_ints)"
   ]
  },
  {
   "cell_type": "code",
   "execution_count": null,
   "metadata": {},
   "outputs": [],
   "source": [
    "# bc_ints.fit(X_train_ints, y_train_ints)\n",
    "\n",
    "# # Predict test set labels\n",
    "# y_pred_ints = bc_ints.predict(X_test_ints)\n",
    "\n",
    "# # Evaluate test set accuracy\n",
    "# acc_test_ints = accuracy_score(y_test_ints, y_pred_ints)\n",
    "\n",
    "\n",
    "# # Evaluate OOB accuracy\n",
    "# acc_oob_ints = bc_ints.oob_score_\n",
    "\n",
    "# # Print acc_test and acc_oob\n",
    "# print('Test set accuracy: {:.3f}, OOB accuracy: {:.3f}'.format(acc_test_ints, acc_oob_ints))"
   ]
  },
  {
   "cell_type": "code",
   "execution_count": null,
   "metadata": {},
   "outputs": [],
   "source": [
    "# bc_cats.fit(X_train_cats, y_train_cats)\n",
    "\n",
    "# # Predict test set labels\n",
    "# y_pred_cats = bc_cats.predict(X_test_cats)\n",
    "\n",
    "# # Evaluate test set accuracy\n",
    "# acc_test_cats = accuracy_score(y_test_cats, y_pred_cats)\n",
    "\n",
    "\n",
    "# # Evaluate OOB accuracy\n",
    "# acc_oob_cats = bc_cats.oob_score_\n",
    "\n",
    "# # Print acc_test and acc_oob\n",
    "# print('Test set accuracy: {:.3f}, OOB accuracy: {:.3f}'.format(acc_test_cats, acc_oob_cats))"
   ]
  },
  {
   "cell_type": "code",
   "execution_count": null,
   "metadata": {},
   "outputs": [],
   "source": [
    "# bc_cats.get_params"
   ]
  },
  {
   "cell_type": "code",
   "execution_count": null,
   "metadata": {},
   "outputs": [],
   "source": [
    "# bc.max_features"
   ]
  },
  {
   "cell_type": "code",
   "execution_count": null,
   "metadata": {},
   "outputs": [],
   "source": [
    "# X_train.head()"
   ]
  },
  {
   "cell_type": "code",
   "execution_count": null,
   "metadata": {},
   "outputs": [],
   "source": [
    "# gbc_ints = GradientBoostingClassifier()\n",
    "# gbc_ints.fit(X_train_ints, y_train_ints)"
   ]
  },
  {
   "cell_type": "code",
   "execution_count": null,
   "metadata": {},
   "outputs": [],
   "source": [
    "# gbc_cats = GradientBoostingClassifier()\n",
    "# gbc_cats.fit(X_train_cats, y_train_cats)"
   ]
  },
  {
   "cell_type": "code",
   "execution_count": null,
   "metadata": {},
   "outputs": [],
   "source": [
    "y_pred_ints = gbc_ints.predict_log_proba(X_test_ints)"
   ]
  },
  {
   "cell_type": "code",
   "execution_count": null,
   "metadata": {},
   "outputs": [],
   "source": [
    "# y_pred_cats = gbc_cats.predict_log_proba(X_test_cats)"
   ]
  },
  {
   "cell_type": "code",
   "execution_count": null,
   "metadata": {},
   "outputs": [],
   "source": [
    "print(gbc_ints.score(X_train_ints, y_train_ints), gbc_ints.score(X_test_ints, y_test_ints))\n",
    "\n",
    "# # Generate the confusion matrix and classification report\n",
    "print(confusion_matrix(y_test_ints, y_pred_ints))\n",
    "print(classification_report(y_test_ints, y_pred_ints))"
   ]
  },
  {
   "cell_type": "code",
   "execution_count": null,
   "metadata": {},
   "outputs": [],
   "source": [
    "y_pred_ints\n",
    "y_test_ints"
   ]
  },
  {
   "cell_type": "code",
   "execution_count": null,
   "metadata": {},
   "outputs": [],
   "source": [
    "y_test_cats\n",
    "y_pred_cats"
   ]
  },
  {
   "cell_type": "code",
   "execution_count": null,
   "metadata": {},
   "outputs": [],
   "source": [
    "print(gbc_cats.score(X_train_cats, y_train_cats), gbc_cats.score(X_test_cats, y_test_cats))\n",
    "\n",
    "# # Generate the confusion matrix and classification report\n",
    "print(confusion_matrix(y_test_cats, y_pred_cats))\n",
    "print(classification_report(y_test_cats, y_pred_cats))"
   ]
  },
  {
   "cell_type": "code",
   "execution_count": null,
   "metadata": {},
   "outputs": [],
   "source": [
    "# gbc_ints.feature_importances_"
   ]
  },
  {
   "cell_type": "code",
   "execution_count": null,
   "metadata": {},
   "outputs": [],
   "source": [
    "# gbc_cats.feature_importances_"
   ]
  },
  {
   "cell_type": "code",
   "execution_count": null,
   "metadata": {},
   "outputs": [],
   "source": [
    "# X.columns"
   ]
  },
  {
   "cell_type": "code",
   "execution_count": null,
   "metadata": {},
   "outputs": [],
   "source": [
    "# Get Feature Importance from the classifier\n",
    "feature_importance_ints = gbc_ints.feature_importances_\n",
    "# print (gbc_ints.feature_importances_)\n",
    "feat_importances_ints = pd.Series(gbc_ints.feature_importances_, index=X_train_ints.columns)\n",
    "feat_importances_ints = feat_importances_ints.nlargest(19)\n",
    "feat_importances_ints.plot(kind='barh' , figsize=(10,10)) \n",
    "plt.show()"
   ]
  },
  {
   "cell_type": "code",
   "execution_count": null,
   "metadata": {},
   "outputs": [],
   "source": [
    "# # Get Feature Importance from the classifier\n",
    "# feature_importance_cats = gbc_cats.feature_importances_\n",
    "# # print (gbc_cats.feature_importances_)\n",
    "# feat_importances_cats = pd.Series(gbc_cats.feature_importances_, index=X_train_cats.columns)\n",
    "# feat_importances_cats = feat_importances_cats.nlargest(19)\n",
    "# feat_importances_cats.plot(kind='barh' , figsize=(10,10)) \n",
    "# plt.show()"
   ]
  },
  {
   "cell_type": "code",
   "execution_count": null,
   "metadata": {},
   "outputs": [],
   "source": []
  },
  {
   "cell_type": "code",
   "execution_count": null,
   "metadata": {},
   "outputs": [],
   "source": [
    "import xgboost as xgb\n",
    "\n",
    "\n",
    "# Instantiate the XGBClassifier: xg_cl\n",
    "xg_cl_ints = xgb.XGBClassifier(objective='binary:logistic', n_estimators=10, seed=42)\n",
    "\n",
    "# Fit the classifier to the training set\n",
    "xg_cl_ints.fit(X_train_ints, y_train_ints)\n",
    "\n",
    "# Predict the labels of the test set: preds\n",
    "preds_ints = xg_cl_ints.predict(X_test_ints)\n",
    "\n",
    "print(xg_cl_ints.score(X_train_ints, y_train_ints), xg_cl_ints.score(X_test_ints, y_test_ints))"
   ]
  },
  {
   "cell_type": "code",
   "execution_count": null,
   "metadata": {},
   "outputs": [],
   "source": [
    "# # Instantiate the XGBClassifier: xg_cl\n",
    "# xg_cl_cats = xgb.XGBClassifier(objective='binary:logistic', n_estimators=10, seed=42)\n",
    "\n",
    "# # Fit the classifier to the training set\n",
    "# xg_cl_cats.fit(X_train_cats, y_train_cats)\n",
    "\n",
    "# # Predict the labels of the test set: preds\n",
    "# preds_cats = xg_cl_cats.predict(X_test_cats)\n",
    "\n",
    "# print(xg_cl_cats.score(X_train_cats, y_train_cats), xg_cl_cats.score(X_test_cats, y_test_cats))"
   ]
  },
  {
   "cell_type": "code",
   "execution_count": null,
   "metadata": {},
   "outputs": [],
   "source": [
    "# checking to make sure the distribuion is accurate\n",
    "# original = df.readmitted_target.value_counts()\n",
    "# print(f'Original set: \\n {original}')\n",
    "# print(f'Test set: \\n{y_test.readmitted_target.value_counts()}')\n",
    "# print(f'Train set: \\n{y_train.readmitted_target.value_counts()}')"
   ]
  },
  {
   "cell_type": "code",
   "execution_count": null,
   "metadata": {},
   "outputs": [],
   "source": [
    "# y_test.shape, y_train.shape"
   ]
  },
  {
   "cell_type": "code",
   "execution_count": null,
   "metadata": {},
   "outputs": [],
   "source": [
    "10952/20354"
   ]
  },
  {
   "cell_type": "code",
   "execution_count": null,
   "metadata": {},
   "outputs": [],
   "source": [
    "9402/20354"
   ]
  },
  {
   "cell_type": "code",
   "execution_count": null,
   "metadata": {},
   "outputs": [],
   "source": [
    "43912/81412"
   ]
  },
  {
   "cell_type": "code",
   "execution_count": null,
   "metadata": {},
   "outputs": [],
   "source": [
    "37500/81412"
   ]
  },
  {
   "cell_type": "code",
   "execution_count": null,
   "metadata": {},
   "outputs": [],
   "source": [
    "X.columns"
   ]
  },
  {
   "cell_type": "code",
   "execution_count": null,
   "metadata": {},
   "outputs": [],
   "source": [
    "# Create the regressor: reg\n",
    "reg_ints = LinearRegression()\n",
    "\n",
    "# Create the prediction space\n",
    "# prediction_space_ints = np.linspace(min(X), max(X)).reshape(-1, 1)\n",
    "\n",
    "# Fit the model to the data\n",
    "reg_ints.fit(X_train_ints, y_train_ints)\n",
    "\n",
    "cv_results_ints = cross_val_score(reg_ints, X, y, cv=5)\n",
    "print(cv_results_ints)\n",
    "print(\"Average 5-Fold CV Score: {}\".format(np.mean(cv_results_ints)))\n",
    "\n",
    "# Compute predictions over the prediction space: y_pred\n",
    "y_pred_ints = reg_ints.predict(X_test_ints)\n",
    "\n",
    "print(\"R^2: {}\".format(reg_ints.score(X_test_ints, y_test_ints)))\n",
    "\n",
    "rmse_ints = np.sqrt(mean_squared_error(y_test_ints, y_pred_ints))\n",
    "print(\"Root Mean Squared Error: {}\".format(rmse_ints))"
   ]
  },
  {
   "cell_type": "code",
   "execution_count": null,
   "metadata": {},
   "outputs": [],
   "source": [
    "lasso_ints = LassoCV(max_iter=100000, cv=5)\n",
    "lasso_ints.fit(X_train_ints, y_train_ints)\n",
    "print('The optimal alpha for the Lasso Regression is: ', lasso_ints.alpha_)"
   ]
  },
  {
   "cell_type": "code",
   "execution_count": null,
   "metadata": {},
   "outputs": [],
   "source": [
    "# gbc = GradientBoostingClassifier()\n",
    "# gbc.fit(X_train, y_train)"
   ]
  },
  {
   "cell_type": "code",
   "execution_count": null,
   "metadata": {},
   "outputs": [],
   "source": [
    "# df.admission_type_id.sort_values(ascending=True)"
   ]
  },
  {
   "cell_type": "code",
   "execution_count": null,
   "metadata": {},
   "outputs": [],
   "source": [
    "# df.head()"
   ]
  },
  {
   "cell_type": "code",
   "execution_count": null,
   "metadata": {},
   "outputs": [],
   "source": [
    "# import plotly.graph_objects as go\n",
    "\n",
    "# # Create dimensions\n",
    "# readmit_dim = go.parcats.Dimension(\n",
    "#     values=df.readmitted_target,\n",
    "#     categoryorder='category descending', label=\"readmitted\"\n",
    "# )\n",
    "\n",
    "# voice_mail_dim = go.parcats.Dimension(values=df.diabetesMed, \n",
    "#                 label=\"diabetesMed\", categoryarray=['No', 'Yes'],\n",
    "#     ticktext=['No', 'Yes'])\n",
    "\n",
    "# international_dim = go.parcats.Dimension(\n",
    "#     values=df.metformin, label=\"metformin\")\n",
    "    \n",
    "# calls_dim = go.parcats.Dimension(\n",
    "#     values=df.admission_type_id, label=\"admission_type_id\")\n",
    "\n",
    "# # Create parcats trace\n",
    "# color = df.readmitted_target;\n",
    "# colorscale = [[0, 'lavenderblush'], [1, 'purple']];\n",
    "\n",
    "# fig = go.Figure(data = [go.Parcats(dimensions=[international_dim, \n",
    "#                         voice_mail_dim, calls_dim, readmit_dim],\n",
    "#         line={'color': color, 'colorscale': colorscale},\n",
    "#         hoveron='color', hoverinfo='count+probability',\n",
    "#         labelfont={'size': 18, 'family': 'Times'},\n",
    "#         tickfont={'size': 16, 'family': 'Times'},\n",
    "#         arrangement='freeform')])\n",
    "\n",
    "# fig.show()"
   ]
  },
  {
   "cell_type": "code",
   "execution_count": null,
   "metadata": {},
   "outputs": [],
   "source": [
    "from sklearn.preprocessing import StandardScaler"
   ]
  },
  {
   "cell_type": "code",
   "execution_count": null,
   "metadata": {},
   "outputs": [],
   "source": [
    "scaler = StandardScaler()"
   ]
  },
  {
   "cell_type": "code",
   "execution_count": null,
   "metadata": {},
   "outputs": [],
   "source": [
    "scaler.fit(X_train_ints)"
   ]
  },
  {
   "cell_type": "code",
   "execution_count": null,
   "metadata": {},
   "outputs": [],
   "source": [
    "# scaler.fit(X_test_ints)"
   ]
  },
  {
   "cell_type": "code",
   "execution_count": null,
   "metadata": {},
   "outputs": [],
   "source": [
    "# yellowbricks is a visualization library that allows us to see the \n",
    "# residuals of a model\n",
    "\n",
    "\n",
    "from yellowbrick.regressor import ResidualsPlot\n",
    "\n",
    "linreg = LinearRegression()\n",
    "linreg.fit(scaler.transform(X_train_ints), y_train_ints)\n",
    "visualizer = ResidualsPlot(linreg)\n",
    "\n",
    "visualizer.fit(scaler.transform(X_train_ints), y_train_ints)  # Fit the training data to the model\n",
    "visualizer.score(scaler.transform(X_test_ints), y_test_ints)  # Evaluate the model on the test data\n",
    "visualizer.poof()"
   ]
  },
  {
   "cell_type": "code",
   "execution_count": null,
   "metadata": {},
   "outputs": [],
   "source": []
  }
 ],
 "metadata": {
  "kernelspec": {
   "display_name": "Python [conda env:learn-env] *",
   "language": "python",
   "name": "conda-env-learn-env-py"
  },
  "language_info": {
   "codemirror_mode": {
    "name": "ipython",
    "version": 3
   },
   "file_extension": ".py",
   "mimetype": "text/x-python",
   "name": "python",
   "nbconvert_exporter": "python",
   "pygments_lexer": "ipython3",
   "version": "3.6.9"
  },
  "toc": {
   "base_numbering": 1,
   "nav_menu": {},
   "number_sections": true,
   "sideBar": true,
   "skip_h1_title": false,
   "title_cell": "Table of Contents",
   "title_sidebar": "Contents",
   "toc_cell": false,
   "toc_position": {
    "height": "calc(100% - 180px)",
    "left": "10px",
    "top": "150px",
    "width": "165px"
   },
   "toc_section_display": true,
   "toc_window_display": true
  },
  "varInspector": {
   "cols": {
    "lenName": 16,
    "lenType": 16,
    "lenVar": 40
   },
   "kernels_config": {
    "python": {
     "delete_cmd_postfix": "",
     "delete_cmd_prefix": "del ",
     "library": "var_list.py",
     "varRefreshCmd": "print(var_dic_list())"
    },
    "r": {
     "delete_cmd_postfix": ") ",
     "delete_cmd_prefix": "rm(",
     "library": "var_list.r",
     "varRefreshCmd": "cat(var_dic_list()) "
    }
   },
   "types_to_exclude": [
    "module",
    "function",
    "builtin_function_or_method",
    "instance",
    "_Feature"
   ],
   "window_display": false
  }
 },
 "nbformat": 4,
 "nbformat_minor": 2
}
