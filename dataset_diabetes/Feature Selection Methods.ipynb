{
 "cells": [
  {
   "cell_type": "code",
   "execution_count": 2,
   "metadata": {},
   "outputs": [],
   "source": [
    "import pandas as pd\n",
    "import numpy as np\n",
    "from sklearn.model_selection import train_test_split\n",
    "\n",
    "\n",
    "import warnings\n",
    "warnings.filterwarnings('ignore')\n",
    "\n",
    "import matplotlib.pyplot as plt\n",
    "import seaborn as sns\n",
    "sns.set()"
   ]
  },
  {
   "cell_type": "code",
   "execution_count": 3,
   "metadata": {},
   "outputs": [
    {
     "data": {
      "text/html": [
       "<div>\n",
       "<style scoped>\n",
       "    .dataframe tbody tr th:only-of-type {\n",
       "        vertical-align: middle;\n",
       "    }\n",
       "\n",
       "    .dataframe tbody tr th {\n",
       "        vertical-align: top;\n",
       "    }\n",
       "\n",
       "    .dataframe thead th {\n",
       "        text-align: right;\n",
       "    }\n",
       "</style>\n",
       "<table border=\"1\" class=\"dataframe\">\n",
       "  <thead>\n",
       "    <tr style=\"text-align: right;\">\n",
       "      <th></th>\n",
       "      <th>race</th>\n",
       "      <th>gender</th>\n",
       "      <th>age</th>\n",
       "      <th>admission_type_id</th>\n",
       "      <th>discharge_disposition_id</th>\n",
       "      <th>time_in_hospital</th>\n",
       "      <th>payer_code</th>\n",
       "      <th>num_medications</th>\n",
       "      <th>diag_1</th>\n",
       "      <th>diag_2</th>\n",
       "      <th>...</th>\n",
       "      <th>metformin-rosiglitazone</th>\n",
       "      <th>metformin-pioglitazone</th>\n",
       "      <th>change</th>\n",
       "      <th>diabetesMed</th>\n",
       "      <th>readmitted</th>\n",
       "      <th>readmitted_target</th>\n",
       "      <th>total_treatments</th>\n",
       "      <th>total_visits</th>\n",
       "      <th>total_procedures</th>\n",
       "      <th>readmitted_multi</th>\n",
       "    </tr>\n",
       "  </thead>\n",
       "  <tbody>\n",
       "    <tr>\n",
       "      <th>0</th>\n",
       "      <td>Caucasian</td>\n",
       "      <td>Female</td>\n",
       "      <td>5</td>\n",
       "      <td>Other</td>\n",
       "      <td>Other</td>\n",
       "      <td>1</td>\n",
       "      <td>Unknown_Other</td>\n",
       "      <td>1</td>\n",
       "      <td>diabetes</td>\n",
       "      <td>Other</td>\n",
       "      <td>...</td>\n",
       "      <td>0</td>\n",
       "      <td>0</td>\n",
       "      <td>No</td>\n",
       "      <td>No</td>\n",
       "      <td>NO</td>\n",
       "      <td>0</td>\n",
       "      <td>0</td>\n",
       "      <td>0</td>\n",
       "      <td>41</td>\n",
       "      <td>0</td>\n",
       "    </tr>\n",
       "    <tr>\n",
       "      <th>1</th>\n",
       "      <td>Caucasian</td>\n",
       "      <td>Female</td>\n",
       "      <td>15</td>\n",
       "      <td>Emergency</td>\n",
       "      <td>Home</td>\n",
       "      <td>3</td>\n",
       "      <td>Unknown_Other</td>\n",
       "      <td>18</td>\n",
       "      <td>Other</td>\n",
       "      <td>diabetes</td>\n",
       "      <td>...</td>\n",
       "      <td>0</td>\n",
       "      <td>0</td>\n",
       "      <td>Yes</td>\n",
       "      <td>Yes</td>\n",
       "      <td>&gt;30</td>\n",
       "      <td>1</td>\n",
       "      <td>1</td>\n",
       "      <td>0</td>\n",
       "      <td>59</td>\n",
       "      <td>2</td>\n",
       "    </tr>\n",
       "    <tr>\n",
       "      <th>2</th>\n",
       "      <td>AfricanAmerican</td>\n",
       "      <td>Female</td>\n",
       "      <td>25</td>\n",
       "      <td>Emergency</td>\n",
       "      <td>Home</td>\n",
       "      <td>2</td>\n",
       "      <td>Unknown_Other</td>\n",
       "      <td>13</td>\n",
       "      <td>Other</td>\n",
       "      <td>diabetes</td>\n",
       "      <td>...</td>\n",
       "      <td>0</td>\n",
       "      <td>0</td>\n",
       "      <td>No</td>\n",
       "      <td>Yes</td>\n",
       "      <td>NO</td>\n",
       "      <td>0</td>\n",
       "      <td>1</td>\n",
       "      <td>3</td>\n",
       "      <td>16</td>\n",
       "      <td>0</td>\n",
       "    </tr>\n",
       "    <tr>\n",
       "      <th>3</th>\n",
       "      <td>Caucasian</td>\n",
       "      <td>Male</td>\n",
       "      <td>35</td>\n",
       "      <td>Emergency</td>\n",
       "      <td>Home</td>\n",
       "      <td>2</td>\n",
       "      <td>Unknown_Other</td>\n",
       "      <td>16</td>\n",
       "      <td>Other</td>\n",
       "      <td>diabetes</td>\n",
       "      <td>...</td>\n",
       "      <td>0</td>\n",
       "      <td>0</td>\n",
       "      <td>Yes</td>\n",
       "      <td>Yes</td>\n",
       "      <td>NO</td>\n",
       "      <td>0</td>\n",
       "      <td>1</td>\n",
       "      <td>0</td>\n",
       "      <td>45</td>\n",
       "      <td>0</td>\n",
       "    </tr>\n",
       "    <tr>\n",
       "      <th>4</th>\n",
       "      <td>Caucasian</td>\n",
       "      <td>Male</td>\n",
       "      <td>45</td>\n",
       "      <td>Emergency</td>\n",
       "      <td>Home</td>\n",
       "      <td>1</td>\n",
       "      <td>Unknown_Other</td>\n",
       "      <td>8</td>\n",
       "      <td>Other</td>\n",
       "      <td>Other</td>\n",
       "      <td>...</td>\n",
       "      <td>0</td>\n",
       "      <td>0</td>\n",
       "      <td>Yes</td>\n",
       "      <td>Yes</td>\n",
       "      <td>NO</td>\n",
       "      <td>0</td>\n",
       "      <td>2</td>\n",
       "      <td>0</td>\n",
       "      <td>51</td>\n",
       "      <td>0</td>\n",
       "    </tr>\n",
       "  </tbody>\n",
       "</table>\n",
       "<p>5 rows × 43 columns</p>\n",
       "</div>"
      ],
      "text/plain": [
       "              race  gender  age admission_type_id discharge_disposition_id  \\\n",
       "0        Caucasian  Female    5             Other                    Other   \n",
       "1        Caucasian  Female   15         Emergency                     Home   \n",
       "2  AfricanAmerican  Female   25         Emergency                     Home   \n",
       "3        Caucasian    Male   35         Emergency                     Home   \n",
       "4        Caucasian    Male   45         Emergency                     Home   \n",
       "\n",
       "   time_in_hospital     payer_code  num_medications    diag_1    diag_2  ...  \\\n",
       "0                 1  Unknown_Other                1  diabetes     Other  ...   \n",
       "1                 3  Unknown_Other               18     Other  diabetes  ...   \n",
       "2                 2  Unknown_Other               13     Other  diabetes  ...   \n",
       "3                 2  Unknown_Other               16     Other  diabetes  ...   \n",
       "4                 1  Unknown_Other                8     Other     Other  ...   \n",
       "\n",
       "  metformin-rosiglitazone  metformin-pioglitazone change diabetesMed  \\\n",
       "0                       0                       0     No          No   \n",
       "1                       0                       0    Yes         Yes   \n",
       "2                       0                       0     No         Yes   \n",
       "3                       0                       0    Yes         Yes   \n",
       "4                       0                       0    Yes         Yes   \n",
       "\n",
       "   readmitted  readmitted_target  total_treatments  total_visits  \\\n",
       "0          NO                  0                 0             0   \n",
       "1         >30                  1                 1             0   \n",
       "2          NO                  0                 1             3   \n",
       "3          NO                  0                 1             0   \n",
       "4          NO                  0                 2             0   \n",
       "\n",
       "   total_procedures  readmitted_multi  \n",
       "0                41                 0  \n",
       "1                59                 2  \n",
       "2                16                 0  \n",
       "3                45                 0  \n",
       "4                51                 0  \n",
       "\n",
       "[5 rows x 43 columns]"
      ]
     },
     "execution_count": 3,
     "metadata": {},
     "output_type": "execute_result"
    }
   ],
   "source": [
    "df = pd.read_csv('ready_for_encoding.csv')\n",
    "df.head()"
   ]
  },
  {
   "cell_type": "markdown",
   "metadata": {},
   "source": [
    "# Split and Encode:"
   ]
  },
  {
   "cell_type": "markdown",
   "metadata": {},
   "source": [
    "## Train Test Split:"
   ]
  },
  {
   "cell_type": "code",
   "execution_count": 4,
   "metadata": {},
   "outputs": [],
   "source": [
    "X = df.drop(['readmitted', 'readmitted_target', 'readmitted_multi'], axis=1)\n",
    "y = df['readmitted_target']"
   ]
  },
  {
   "cell_type": "code",
   "execution_count": 5,
   "metadata": {},
   "outputs": [
    {
     "data": {
      "text/plain": [
       "((80088, 40), (20023, 40))"
      ]
     },
     "execution_count": 5,
     "metadata": {},
     "output_type": "execute_result"
    }
   ],
   "source": [
    "X_train, X_test, y_train, y_test = train_test_split(X, y, \n",
    "                                    test_size=.2, random_state=42)\n",
    "\n",
    "X_train.shape, X_test.shape"
   ]
  },
  {
   "cell_type": "code",
   "execution_count": 6,
   "metadata": {},
   "outputs": [
    {
     "data": {
      "text/plain": [
       "((80088,), (20023,))"
      ]
     },
     "execution_count": 6,
     "metadata": {},
     "output_type": "execute_result"
    }
   ],
   "source": [
    "y_train.shape, y_test.shape"
   ]
  },
  {
   "cell_type": "markdown",
   "metadata": {},
   "source": [
    "## Encoding Pipelines:"
   ]
  },
  {
   "cell_type": "code",
   "execution_count": 7,
   "metadata": {},
   "outputs": [],
   "source": [
    "from sklearn.pipeline import Pipeline\n",
    "from sklearn.preprocessing import OneHotEncoder \n",
    "from sklearn.preprocessing import StandardScaler\n",
    "from sklearn.compose import ColumnTransformer"
   ]
  },
  {
   "cell_type": "code",
   "execution_count": 8,
   "metadata": {},
   "outputs": [
    {
     "data": {
      "text/plain": [
       "Index(['race', 'gender', 'admission_type_id', 'discharge_disposition_id',\n",
       "       'payer_code', 'diag_1', 'diag_2', 'diag_3', 'max_glu_serum',\n",
       "       'A1Cresult', 'insulin', 'change', 'diabetesMed'],\n",
       "      dtype='object')"
      ]
     },
     "execution_count": 8,
     "metadata": {},
     "output_type": "execute_result"
    }
   ],
   "source": [
    "cat_cols = X_train.select_dtypes('O').columns\n",
    "cat_cols"
   ]
  },
  {
   "cell_type": "code",
   "execution_count": 9,
   "metadata": {},
   "outputs": [
    {
     "data": {
      "text/plain": [
       "Index(['age', 'time_in_hospital', 'num_medications', 'number_diagnoses',\n",
       "       'metformin', 'repaglinide', 'nateglinide', 'chlorpropamide',\n",
       "       'glimepiride', 'acetohexamide', 'glipizide', 'glyburide', 'tolbutamide',\n",
       "       'pioglitazone', 'rosiglitazone', 'acarbose', 'miglitol', 'troglitazone',\n",
       "       'tolazamide', 'glyburide-metformin', 'glipizide-metformin',\n",
       "       'glimepiride-pioglitazone', 'metformin-rosiglitazone',\n",
       "       'metformin-pioglitazone', 'total_treatments', 'total_visits',\n",
       "       'total_procedures'],\n",
       "      dtype='object')"
      ]
     },
     "execution_count": 9,
     "metadata": {},
     "output_type": "execute_result"
    }
   ],
   "source": [
    "num_cols = X_train.select_dtypes('int64').columns\n",
    "num_cols"
   ]
  },
  {
   "cell_type": "code",
   "execution_count": 10,
   "metadata": {},
   "outputs": [],
   "source": [
    "num_pipe = Pipeline([\n",
    "    ('scaler', \n",
    "    StandardScaler())])"
   ]
  },
  {
   "cell_type": "code",
   "execution_count": 11,
   "metadata": {},
   "outputs": [],
   "source": [
    "cat_pipe = Pipeline([\n",
    "    ('encoder',\n",
    "        OneHotEncoder(sparse=False))])\n",
    "\n",
    "# drop='if_binary',"
   ]
  },
  {
   "cell_type": "code",
   "execution_count": 12,
   "metadata": {},
   "outputs": [
    {
     "data": {
      "text/plain": [
       "ColumnTransformer(transformers=[('num',\n",
       "                                 Pipeline(steps=[('scaler', StandardScaler())]),\n",
       "                                 Index(['age', 'time_in_hospital', 'num_medications', 'number_diagnoses',\n",
       "       'metformin', 'repaglinide', 'nateglinide', 'chlorpropamide',\n",
       "       'glimepiride', 'acetohexamide', 'glipizide', 'glyburide', 'tolbutamide',\n",
       "       'pioglitazone', 'rosiglitazone', 'acarbose', 'miglitol', 'troglitazone',\n",
       "       'to...\n",
       "       'metformin-pioglitazone', 'total_treatments', 'total_visits',\n",
       "       'total_procedures'],\n",
       "      dtype='object')),\n",
       "                                ('cat',\n",
       "                                 Pipeline(steps=[('encoder',\n",
       "                                                  OneHotEncoder(sparse=False))]),\n",
       "                                 Index(['race', 'gender', 'admission_type_id', 'discharge_disposition_id',\n",
       "       'payer_code', 'diag_1', 'diag_2', 'diag_3', 'max_glu_serum',\n",
       "       'A1Cresult', 'insulin', 'change', 'diabetesMed'],\n",
       "      dtype='object'))])"
      ]
     },
     "execution_count": 12,
     "metadata": {},
     "output_type": "execute_result"
    }
   ],
   "source": [
    "preprocessing = ColumnTransformer(transformers=[\n",
    "    ('num', num_pipe, num_cols),\n",
    "    ('cat', cat_pipe, cat_cols)])\n",
    "preprocessing"
   ]
  },
  {
   "cell_type": "code",
   "execution_count": 13,
   "metadata": {},
   "outputs": [],
   "source": [
    "X_train_trans = preprocessing.fit_transform(X_train)\n",
    "X_test_trans = preprocessing.transform(X_test)"
   ]
  },
  {
   "cell_type": "code",
   "execution_count": 14,
   "metadata": {},
   "outputs": [],
   "source": [
    "feature_names = preprocessing.named_transformers_['cat'].\\\n",
    "                named_steps['encoder'].get_feature_names(cat_cols).tolist()\n",
    "# feature_names"
   ]
  },
  {
   "cell_type": "code",
   "execution_count": 15,
   "metadata": {},
   "outputs": [],
   "source": [
    "num_cols = num_cols.tolist()\n",
    "X_cols = num_cols+feature_names\n",
    "# X_cols"
   ]
  },
  {
   "cell_type": "code",
   "execution_count": 16,
   "metadata": {},
   "outputs": [
    {
     "data": {
      "text/html": [
       "<div>\n",
       "<style scoped>\n",
       "    .dataframe tbody tr th:only-of-type {\n",
       "        vertical-align: middle;\n",
       "    }\n",
       "\n",
       "    .dataframe tbody tr th {\n",
       "        vertical-align: top;\n",
       "    }\n",
       "\n",
       "    .dataframe thead th {\n",
       "        text-align: right;\n",
       "    }\n",
       "</style>\n",
       "<table border=\"1\" class=\"dataframe\">\n",
       "  <thead>\n",
       "    <tr style=\"text-align: right;\">\n",
       "      <th></th>\n",
       "      <th>age</th>\n",
       "      <th>time_in_hospital</th>\n",
       "      <th>num_medications</th>\n",
       "      <th>number_diagnoses</th>\n",
       "      <th>metformin</th>\n",
       "      <th>repaglinide</th>\n",
       "      <th>nateglinide</th>\n",
       "      <th>chlorpropamide</th>\n",
       "      <th>glimepiride</th>\n",
       "      <th>acetohexamide</th>\n",
       "      <th>...</th>\n",
       "      <th>A1Cresult_None</th>\n",
       "      <th>A1Cresult_Norm</th>\n",
       "      <th>insulin_Decreased</th>\n",
       "      <th>insulin_Increased</th>\n",
       "      <th>insulin_No Change</th>\n",
       "      <th>insulin_None</th>\n",
       "      <th>change_No</th>\n",
       "      <th>change_Yes</th>\n",
       "      <th>diabetesMed_No</th>\n",
       "      <th>diabetesMed_Yes</th>\n",
       "    </tr>\n",
       "  </thead>\n",
       "  <tbody>\n",
       "    <tr>\n",
       "      <th>0</th>\n",
       "      <td>-0.051043</td>\n",
       "      <td>3.227674</td>\n",
       "      <td>5.317452</td>\n",
       "      <td>0.820820</td>\n",
       "      <td>-0.499188</td>\n",
       "      <td>-0.125045</td>\n",
       "      <td>-0.083838</td>\n",
       "      <td>-0.029577</td>\n",
       "      <td>-0.233268</td>\n",
       "      <td>-0.003534</td>\n",
       "      <td>...</td>\n",
       "      <td>1.0</td>\n",
       "      <td>0.0</td>\n",
       "      <td>0.0</td>\n",
       "      <td>1.0</td>\n",
       "      <td>0.0</td>\n",
       "      <td>0.0</td>\n",
       "      <td>0.0</td>\n",
       "      <td>1.0</td>\n",
       "      <td>0.0</td>\n",
       "      <td>1.0</td>\n",
       "    </tr>\n",
       "    <tr>\n",
       "      <th>1</th>\n",
       "      <td>-2.558958</td>\n",
       "      <td>0.539380</td>\n",
       "      <td>0.620161</td>\n",
       "      <td>0.820820</td>\n",
       "      <td>-0.499188</td>\n",
       "      <td>-0.125045</td>\n",
       "      <td>-0.083838</td>\n",
       "      <td>-0.029577</td>\n",
       "      <td>-0.233268</td>\n",
       "      <td>-0.003534</td>\n",
       "      <td>...</td>\n",
       "      <td>1.0</td>\n",
       "      <td>0.0</td>\n",
       "      <td>0.0</td>\n",
       "      <td>1.0</td>\n",
       "      <td>0.0</td>\n",
       "      <td>0.0</td>\n",
       "      <td>0.0</td>\n",
       "      <td>1.0</td>\n",
       "      <td>0.0</td>\n",
       "      <td>1.0</td>\n",
       "    </tr>\n",
       "    <tr>\n",
       "      <th>2</th>\n",
       "      <td>-0.051043</td>\n",
       "      <td>1.883527</td>\n",
       "      <td>-0.492356</td>\n",
       "      <td>0.303993</td>\n",
       "      <td>2.003252</td>\n",
       "      <td>-0.125045</td>\n",
       "      <td>-0.083838</td>\n",
       "      <td>-0.029577</td>\n",
       "      <td>-0.233268</td>\n",
       "      <td>-0.003534</td>\n",
       "      <td>...</td>\n",
       "      <td>1.0</td>\n",
       "      <td>0.0</td>\n",
       "      <td>0.0</td>\n",
       "      <td>0.0</td>\n",
       "      <td>0.0</td>\n",
       "      <td>1.0</td>\n",
       "      <td>1.0</td>\n",
       "      <td>0.0</td>\n",
       "      <td>0.0</td>\n",
       "      <td>1.0</td>\n",
       "    </tr>\n",
       "    <tr>\n",
       "      <th>3</th>\n",
       "      <td>-1.305000</td>\n",
       "      <td>-1.140804</td>\n",
       "      <td>0.002096</td>\n",
       "      <td>0.820820</td>\n",
       "      <td>-0.499188</td>\n",
       "      <td>-0.125045</td>\n",
       "      <td>-0.083838</td>\n",
       "      <td>-0.029577</td>\n",
       "      <td>-0.233268</td>\n",
       "      <td>-0.003534</td>\n",
       "      <td>...</td>\n",
       "      <td>1.0</td>\n",
       "      <td>0.0</td>\n",
       "      <td>0.0</td>\n",
       "      <td>0.0</td>\n",
       "      <td>1.0</td>\n",
       "      <td>0.0</td>\n",
       "      <td>0.0</td>\n",
       "      <td>1.0</td>\n",
       "      <td>0.0</td>\n",
       "      <td>1.0</td>\n",
       "    </tr>\n",
       "    <tr>\n",
       "      <th>4</th>\n",
       "      <td>-0.051043</td>\n",
       "      <td>-0.804767</td>\n",
       "      <td>-0.245130</td>\n",
       "      <td>0.303993</td>\n",
       "      <td>2.003252</td>\n",
       "      <td>-0.125045</td>\n",
       "      <td>-0.083838</td>\n",
       "      <td>-0.029577</td>\n",
       "      <td>-0.233268</td>\n",
       "      <td>-0.003534</td>\n",
       "      <td>...</td>\n",
       "      <td>1.0</td>\n",
       "      <td>0.0</td>\n",
       "      <td>0.0</td>\n",
       "      <td>0.0</td>\n",
       "      <td>0.0</td>\n",
       "      <td>1.0</td>\n",
       "      <td>1.0</td>\n",
       "      <td>0.0</td>\n",
       "      <td>0.0</td>\n",
       "      <td>1.0</td>\n",
       "    </tr>\n",
       "  </tbody>\n",
       "</table>\n",
       "<p>5 rows × 73 columns</p>\n",
       "</div>"
      ],
      "text/plain": [
       "        age  time_in_hospital  num_medications  number_diagnoses  metformin  \\\n",
       "0 -0.051043          3.227674         5.317452          0.820820  -0.499188   \n",
       "1 -2.558958          0.539380         0.620161          0.820820  -0.499188   \n",
       "2 -0.051043          1.883527        -0.492356          0.303993   2.003252   \n",
       "3 -1.305000         -1.140804         0.002096          0.820820  -0.499188   \n",
       "4 -0.051043         -0.804767        -0.245130          0.303993   2.003252   \n",
       "\n",
       "   repaglinide  nateglinide  chlorpropamide  glimepiride  acetohexamide  ...  \\\n",
       "0    -0.125045    -0.083838       -0.029577    -0.233268      -0.003534  ...   \n",
       "1    -0.125045    -0.083838       -0.029577    -0.233268      -0.003534  ...   \n",
       "2    -0.125045    -0.083838       -0.029577    -0.233268      -0.003534  ...   \n",
       "3    -0.125045    -0.083838       -0.029577    -0.233268      -0.003534  ...   \n",
       "4    -0.125045    -0.083838       -0.029577    -0.233268      -0.003534  ...   \n",
       "\n",
       "   A1Cresult_None  A1Cresult_Norm  insulin_Decreased  insulin_Increased  \\\n",
       "0             1.0             0.0                0.0                1.0   \n",
       "1             1.0             0.0                0.0                1.0   \n",
       "2             1.0             0.0                0.0                0.0   \n",
       "3             1.0             0.0                0.0                0.0   \n",
       "4             1.0             0.0                0.0                0.0   \n",
       "\n",
       "   insulin_No Change  insulin_None  change_No  change_Yes  diabetesMed_No  \\\n",
       "0                0.0           0.0        0.0         1.0             0.0   \n",
       "1                0.0           0.0        0.0         1.0             0.0   \n",
       "2                0.0           1.0        1.0         0.0             0.0   \n",
       "3                1.0           0.0        0.0         1.0             0.0   \n",
       "4                0.0           1.0        1.0         0.0             0.0   \n",
       "\n",
       "   diabetesMed_Yes  \n",
       "0              1.0  \n",
       "1              1.0  \n",
       "2              1.0  \n",
       "3              1.0  \n",
       "4              1.0  \n",
       "\n",
       "[5 rows x 73 columns]"
      ]
     },
     "execution_count": 16,
     "metadata": {},
     "output_type": "execute_result"
    }
   ],
   "source": [
    "X_train = pd.DataFrame(X_train_trans,columns=X_cols)\n",
    "X_test = pd.DataFrame(X_test_trans,columns=X_cols)\n",
    "X_train.head()"
   ]
  },
  {
   "cell_type": "code",
   "execution_count": 19,
   "metadata": {},
   "outputs": [
    {
     "data": {
      "text/plain": [
       "54556    0\n",
       "83192    0\n",
       "20989    1\n",
       "88159    1\n",
       "67397    0\n",
       "Name: readmitted_target, dtype: int64"
      ]
     },
     "execution_count": 19,
     "metadata": {},
     "output_type": "execute_result"
    }
   ],
   "source": [
    "y_train.head()"
   ]
  },
  {
   "cell_type": "code",
   "execution_count": 18,
   "metadata": {},
   "outputs": [
    {
     "data": {
      "image/png": "[encoded data removed]",
      "text/plain": [
       "<Figure size 432x288 with 1 Axes>"
      ]
     },
     "metadata": {
      "needs_background": "light"
     },
     "output_type": "display_data"
    }
   ],
   "source": [
    "plt.scatter(X_train.age, X_train.acetohexamide);"
   ]
  },
  {
   "cell_type": "code",
   "execution_count": 36,
   "metadata": {},
   "outputs": [],
   "source": [
    "from sklearn.naive_bayes import GaussianNB\n",
    "from sklearn.model_selection import KFold\n",
    "from imblearn.over_sampling import SMOTE\n",
    "from sklearn import metrics\n",
    "from xgboost import XGBClassifier\n"
   ]
  },
  {
   "cell_type": "code",
   "execution_count": 29,
   "metadata": {},
   "outputs": [
    {
     "data": {
      "text/html": [
       "<div>\n",
       "<style scoped>\n",
       "    .dataframe tbody tr th:only-of-type {\n",
       "        vertical-align: middle;\n",
       "    }\n",
       "\n",
       "    .dataframe tbody tr th {\n",
       "        vertical-align: top;\n",
       "    }\n",
       "\n",
       "    .dataframe thead th {\n",
       "        text-align: right;\n",
       "    }\n",
       "</style>\n",
       "<table border=\"1\" class=\"dataframe\">\n",
       "  <thead>\n",
       "    <tr style=\"text-align: right;\">\n",
       "      <th></th>\n",
       "      <th>train</th>\n",
       "      <th>test</th>\n",
       "      <th>class_0_test</th>\n",
       "      <th>class_1_test</th>\n",
       "    </tr>\n",
       "  </thead>\n",
       "  <tbody>\n",
       "    <tr>\n",
       "      <th>accuracy</th>\n",
       "      <td>0.585627</td>\n",
       "      <td>0.594267</td>\n",
       "      <td>0.717619</td>\n",
       "      <td>0.453544</td>\n",
       "    </tr>\n",
       "    <tr>\n",
       "      <th>recall</th>\n",
       "      <td>0.453725</td>\n",
       "      <td>0.453544</td>\n",
       "      <td>0.717619</td>\n",
       "      <td>0.453544</td>\n",
       "    </tr>\n",
       "    <tr>\n",
       "      <th>precision</th>\n",
       "      <td>0.616311</td>\n",
       "      <td>0.584700</td>\n",
       "      <td>-</td>\n",
       "      <td>-</td>\n",
       "    </tr>\n",
       "    <tr>\n",
       "      <th>f1</th>\n",
       "      <td>0.522666</td>\n",
       "      <td>0.510838</td>\n",
       "      <td>-</td>\n",
       "      <td>-</td>\n",
       "    </tr>\n",
       "    <tr>\n",
       "      <th>roc</th>\n",
       "      <td>0.585627</td>\n",
       "      <td>0.585582</td>\n",
       "      <td>-</td>\n",
       "      <td>-</td>\n",
       "    </tr>\n",
       "  </tbody>\n",
       "</table>\n",
       "</div>"
      ],
      "text/plain": [
       "              train      test class_0_test class_1_test\n",
       "accuracy   0.585627  0.594267     0.717619     0.453544\n",
       "recall     0.453725  0.453544     0.717619     0.453544\n",
       "precision  0.616311  0.584700            -            -\n",
       "f1         0.522666  0.510838            -            -\n",
       "roc        0.585627  0.585582            -            -"
      ]
     },
     "execution_count": 29,
     "metadata": {},
     "output_type": "execute_result"
    }
   ],
   "source": [
    "# k-fold with SMOTE & StandardScaler\n",
    "\n",
    "def k_fold(X_train, X_test, y_train, y_test, KFold_splits, model):\n",
    "    \n",
    "#     X = np.array(df[df.columns[:-1]])\n",
    "#     Y = np.array(df[df.columns[-1:]]['readmitted'])\n",
    "    \n",
    "    kf = KFold(n_splits = KFold_splits, random_state = 42, shuffle = True) \n",
    "    \n",
    "    iteration = 0\n",
    "    \n",
    "    test_accuracy_score_list = []\n",
    "    train_accuracy_score_list = []\n",
    "    train_recall_score_list = []\n",
    "    test_recall_score_list = []\n",
    "    test_precision_score_list = []\n",
    "    train_precision_score_list = []\n",
    "    test_f1_score_list = []\n",
    "    train_f1_score_list = []\n",
    "    \n",
    "    class_0_accuracy_list = []\n",
    "    class_1_accuracy_list = []\n",
    "    class_0_recall_list = []\n",
    "    class_1_recall_list = []\n",
    "    \n",
    "    train_roc_auc_list = []\n",
    "    test_roc_auc_list = []\n",
    "    \n",
    "#     for train_index, test_index in kf.split(X):\n",
    "#         iteration += 1\n",
    "#         print(iteration)\n",
    "        \n",
    "#         train_X, test_X = X[train_index], X[test_index]\n",
    "#         train_Y, test_Y = Y[train_index], Y[test_index]\n",
    "        \n",
    "#         scaler = preprocessing.StandardScaler()\n",
    "#         train_X = scaler.fit_transform(train_X.astype(np.float64))\n",
    "#         test_X = scaler.transform(test_X.astype(np.float64))\n",
    "        \n",
    "    sm = SMOTE(random_state=42)\n",
    "    train_X, train_Y = sm.fit_sample(X_train, y_train)\n",
    "        \n",
    "    model.fit(train_X,train_Y)\n",
    "    train_predictions = model.predict(train_X)\n",
    "    test_predictions = model.predict(X_test)\n",
    "        \n",
    "    train_accuracy_score_list.append(metrics.accuracy_score(train_Y,train_predictions))\n",
    "    test_accuracy_score_list.append(metrics.accuracy_score(y_test,test_predictions))\n",
    "    train_recall_score_list.append(metrics.recall_score(train_Y,train_predictions))\n",
    "    test_recall_score_list.append(metrics.recall_score(y_test,test_predictions))\n",
    "    train_precision_score_list.append(metrics.precision_score(train_Y, train_predictions))\n",
    "    test_precision_score_list.append(metrics.precision_score(y_test, test_predictions))\n",
    "    train_f1_score_list.append(metrics.f1_score(train_Y, train_predictions))\n",
    "    test_f1_score_list.append(metrics.f1_score(y_test, test_predictions))\n",
    "        \n",
    "    cm = metrics.confusion_matrix(y_test,  test_predictions)\n",
    "    cm = cm.astype('float') / cm.sum(axis=1)[:, np.newaxis]\n",
    "        \n",
    "    class_0_accuracy_list.append(cm.diagonal()[0])\n",
    "    class_1_accuracy_list.append(cm.diagonal()[1])\n",
    "    class_0_recall_list.append(metrics.recall_score(y_test,test_predictions,\n",
    "                                                    average=None)[0])\n",
    "    class_1_recall_list.append(metrics.recall_score(y_test,test_predictions,\n",
    "                                                    average=None)[1])\n",
    "        \n",
    "    train_roc_auc_list.append(metrics.roc_auc_score(train_Y, train_predictions))\n",
    "    test_roc_auc_list.append(metrics.roc_auc_score(y_test, test_predictions))\n",
    "    \n",
    "    \n",
    "    results_df = pd.DataFrame(index=['accuracy','recall','precision','f1','roc'])\n",
    "    results_df['train'] = [np.mean(train_accuracy_score_list),\n",
    "                           np.mean(train_recall_score_list), \n",
    "                            np.mean(train_precision_score_list),\n",
    "                           np.mean(train_f1_score_list),\n",
    "                          np.mean(train_roc_auc_list)]\n",
    "    results_df['test'] = [np.mean(test_accuracy_score_list),\n",
    "                          np.mean(test_recall_score_list),\n",
    "                           np.mean(test_precision_score_list),\n",
    "                          np.mean(test_f1_score_list),\n",
    "                          np.mean(test_roc_auc_list)]\n",
    "    \n",
    "    results_df['class_0_test'] = [np.mean(class_0_accuracy_list),\n",
    "                                  np.mean(class_0_recall_list),'-','-','-']\n",
    "    results_df['class_1_test'] = [np.mean(class_1_accuracy_list),\n",
    "                                  np.mean(class_1_recall_list),'-','-','-']\n",
    "    \n",
    "    return(results_df)\n",
    "\n",
    "\n",
    "KFold_splits = 10\n",
    "model = GaussianNB()\n",
    "\n",
    "k_fold(X_train, X_test, y_train, y_test, KFold_splits, model)"
   ]
  },
  {
   "cell_type": "code",
   "execution_count": 37,
   "metadata": {},
   "outputs": [
    {
     "data": {
      "text/html": [
       "<div>\n",
       "<style scoped>\n",
       "    .dataframe tbody tr th:only-of-type {\n",
       "        vertical-align: middle;\n",
       "    }\n",
       "\n",
       "    .dataframe tbody tr th {\n",
       "        vertical-align: top;\n",
       "    }\n",
       "\n",
       "    .dataframe thead th {\n",
       "        text-align: right;\n",
       "    }\n",
       "</style>\n",
       "<table border=\"1\" class=\"dataframe\">\n",
       "  <thead>\n",
       "    <tr style=\"text-align: right;\">\n",
       "      <th></th>\n",
       "      <th>train</th>\n",
       "      <th>test</th>\n",
       "      <th>class_0_test</th>\n",
       "      <th>class_1_test</th>\n",
       "    </tr>\n",
       "  </thead>\n",
       "  <tbody>\n",
       "    <tr>\n",
       "      <th>accuracy</th>\n",
       "      <td>0.627460</td>\n",
       "      <td>0.609949</td>\n",
       "      <td>0.646392</td>\n",
       "      <td>0.568374</td>\n",
       "    </tr>\n",
       "    <tr>\n",
       "      <th>recall</th>\n",
       "      <td>0.598698</td>\n",
       "      <td>0.568374</td>\n",
       "      <td>0.646392</td>\n",
       "      <td>0.568374</td>\n",
       "    </tr>\n",
       "    <tr>\n",
       "      <th>precision</th>\n",
       "      <td>0.635239</td>\n",
       "      <td>0.584883</td>\n",
       "      <td>-</td>\n",
       "      <td>-</td>\n",
       "    </tr>\n",
       "    <tr>\n",
       "      <th>f1</th>\n",
       "      <td>0.616427</td>\n",
       "      <td>0.576510</td>\n",
       "      <td>-</td>\n",
       "      <td>-</td>\n",
       "    </tr>\n",
       "    <tr>\n",
       "      <th>roc</th>\n",
       "      <td>0.627460</td>\n",
       "      <td>0.607383</td>\n",
       "      <td>-</td>\n",
       "      <td>-</td>\n",
       "    </tr>\n",
       "  </tbody>\n",
       "</table>\n",
       "</div>"
      ],
      "text/plain": [
       "              train      test class_0_test class_1_test\n",
       "accuracy   0.627460  0.609949     0.646392     0.568374\n",
       "recall     0.598698  0.568374     0.646392     0.568374\n",
       "precision  0.635239  0.584883            -            -\n",
       "f1         0.616427  0.576510            -            -\n",
       "roc        0.627460  0.607383            -            -"
      ]
     },
     "execution_count": 37,
     "metadata": {},
     "output_type": "execute_result"
    }
   ],
   "source": [
    "xgb = XGBClassifier(random_state=1,learning_rate=0.01)\n",
    "k_fold(X_train, X_test, y_train, y_test, KFold_splits, xgb)"
   ]
  },
  {
   "cell_type": "code",
   "execution_count": null,
   "metadata": {},
   "outputs": [],
   "source": []
  },
  {
   "cell_type": "code",
   "execution_count": null,
   "metadata": {},
   "outputs": [],
   "source": []
  },
  {
   "cell_type": "code",
   "execution_count": null,
   "metadata": {},
   "outputs": [],
   "source": []
  },
  {
   "cell_type": "code",
   "execution_count": null,
   "metadata": {},
   "outputs": [],
   "source": []
  },
  {
   "cell_type": "code",
   "execution_count": null,
   "metadata": {},
   "outputs": [],
   "source": []
  },
  {
   "cell_type": "code",
   "execution_count": 1,
   "metadata": {},
   "outputs": [
    {
     "ename": "NameError",
     "evalue": "name 'X_train' is not defined",
     "output_type": "error",
     "traceback": [
      "\u001b[0;31m---------------------------------------------------------------------------\u001b[0m",
      "\u001b[0;31mNameError\u001b[0m                                 Traceback (most recent call last)",
      "\u001b[0;32m<ipython-input-1-6e20b235eed2>\u001b[0m in \u001b[0;36m<module>\u001b[0;34m\u001b[0m\n\u001b[1;32m      2\u001b[0m \u001b[0;34m\u001b[0m\u001b[0m\n\u001b[1;32m      3\u001b[0m \u001b[0mpca\u001b[0m \u001b[0;34m=\u001b[0m \u001b[0mPCA\u001b[0m\u001b[0;34m(\u001b[0m\u001b[0;34m)\u001b[0m\u001b[0;34m\u001b[0m\u001b[0;34m\u001b[0m\u001b[0m\n\u001b[0;32m----> 4\u001b[0;31m \u001b[0mtransformed\u001b[0m \u001b[0;34m=\u001b[0m \u001b[0mpca\u001b[0m\u001b[0;34m.\u001b[0m\u001b[0mfit_transform\u001b[0m\u001b[0;34m(\u001b[0m\u001b[0mX_train\u001b[0m\u001b[0;34m)\u001b[0m\u001b[0;34m\u001b[0m\u001b[0;34m\u001b[0m\u001b[0m\n\u001b[0m",
      "\u001b[0;31mNameError\u001b[0m: name 'X_train' is not defined"
     ]
    }
   ],
   "source": [
    "from sklearn.decomposition import PCA\n",
    "\n",
    "pca = PCA()\n",
    "transformed = pca.fit_transform(X_train)"
   ]
  },
  {
   "cell_type": "code",
   "execution_count": null,
   "metadata": {},
   "outputs": [],
   "source": [
    "plt.scatter(transformed[:,0], transformed[:,9]);"
   ]
  },
  {
   "cell_type": "code",
   "execution_count": null,
   "metadata": {},
   "outputs": [],
   "source": [
    "pca.components_"
   ]
  },
  {
   "cell_type": "code",
   "execution_count": null,
   "metadata": {},
   "outputs": [],
   "source": [
    "pca.mean_"
   ]
  },
  {
   "cell_type": "code",
   "execution_count": null,
   "metadata": {},
   "outputs": [],
   "source": [
    "pca.explained_variance_ratio_"
   ]
  },
  {
   "cell_type": "code",
   "execution_count": null,
   "metadata": {},
   "outputs": [],
   "source": []
  },
  {
   "cell_type": "code",
   "execution_count": null,
   "metadata": {},
   "outputs": [],
   "source": []
  },
  {
   "cell_type": "markdown",
   "metadata": {},
   "source": [
    "# Filter Selection Methods:"
   ]
  },
  {
   "cell_type": "markdown",
   "metadata": {
    "heading_collapsed": true
   },
   "source": [
    "## Check for Constant Variables:"
   ]
  },
  {
   "cell_type": "markdown",
   "metadata": {
    "hidden": true
   },
   "source": [
    "Values that are the same across all features."
   ]
  },
  {
   "cell_type": "code",
   "execution_count": null,
   "metadata": {
    "hidden": true
   },
   "outputs": [],
   "source": [
    "from sklearn.feature_selection import VarianceThreshold"
   ]
  },
  {
   "cell_type": "code",
   "execution_count": null,
   "metadata": {
    "hidden": true
   },
   "outputs": [],
   "source": [
    "sel = VarianceThreshold(threshold=0)\n",
    "\n",
    "sel.fit(X_train)  # fit finds the features with zero variance"
   ]
  },
  {
   "cell_type": "code",
   "execution_count": null,
   "metadata": {
    "hidden": true
   },
   "outputs": [],
   "source": [
    "sum(sel.get_support())"
   ]
  },
  {
   "cell_type": "code",
   "execution_count": null,
   "metadata": {
    "hidden": true
   },
   "outputs": [],
   "source": [
    "# opposite of above \n",
    "constant = X_train.columns[~sel.get_support()]\n",
    "\n",
    "len(constant)"
   ]
  },
  {
   "cell_type": "code",
   "execution_count": null,
   "metadata": {
    "hidden": true
   },
   "outputs": [],
   "source": [
    "constant_features = [\n",
    "    feat for feat in X_train.columns if X_train[feat].std() == 0\n",
    "]\n",
    "\n",
    "len(constant_features)"
   ]
  },
  {
   "cell_type": "markdown",
   "metadata": {
    "hidden": true
   },
   "source": [
    "No constant features, so we can move on."
   ]
  },
  {
   "cell_type": "markdown",
   "metadata": {
    "heading_collapsed": true
   },
   "source": [
    "## Check for Quasi-Constant Variables:"
   ]
  },
  {
   "cell_type": "markdown",
   "metadata": {
    "hidden": true
   },
   "source": [
    "Values that are the same across almost all features."
   ]
  },
  {
   "cell_type": "code",
   "execution_count": null,
   "metadata": {
    "hidden": true
   },
   "outputs": [],
   "source": [
    "sel = VarianceThreshold(threshold=0.01)\n",
    "\n",
    "num_quasi_constant = sel.fit(X_train)  # fit finds the features with zero variance\n",
    "num_quasi_constant"
   ]
  },
  {
   "cell_type": "code",
   "execution_count": null,
   "metadata": {
    "hidden": true
   },
   "outputs": [],
   "source": [
    "sum(sel.get_support())"
   ]
  },
  {
   "cell_type": "code",
   "execution_count": null,
   "metadata": {
    "hidden": true
   },
   "outputs": [],
   "source": [
    "quasi_constant = X_train.columns[~sel.get_support()]\n",
    "\n",
    "len(quasi_constant)"
   ]
  },
  {
   "cell_type": "markdown",
   "metadata": {},
   "source": [
    "## Check for Duplicated Variables:"
   ]
  },
  {
   "cell_type": "code",
   "execution_count": null,
   "metadata": {},
   "outputs": [],
   "source": [
    "# dictionary to store groups of duplicates\n",
    "duplicated_feat_pairs = {}\n",
    "\n",
    "# list to collect features with duplicates\n",
    "_duplicated_feat = []\n",
    "\n",
    "# iterate over every feature in our dataset:\n",
    "for i in range(0, len(X_train.columns)):\n",
    "    \n",
    "    # this bit helps me understand where the loop is at:\n",
    "    if i % 10 == 0:  \n",
    "        print(i)\n",
    "    \n",
    "    # choose 1 feature:\n",
    "    feat_1 = X_train.columns[i]\n",
    "    \n",
    "    # check if this feature has already been identified\n",
    "    # as a duplicate of another one. If it was, it should be stored in\n",
    "    # our _duplicated_feat list.\n",
    "    \n",
    "    # If this feature was already identified as a duplicate, we skip it, if\n",
    "    # it has not yet been identified as a duplicate, then we proceed:\n",
    "    if feat_1 not in _duplicated_feat:\n",
    "    \n",
    "        # create an empty list as an entry for this feature in the dictionary:\n",
    "        duplicated_feat_pairs[feat_1] = []\n",
    "\n",
    "        # now, iterate over the remaining features of the dataset:\n",
    "        for feat_2 in X_train.columns[i + 1:]:\n",
    "\n",
    "            # check if this second feature is identical to the first one\n",
    "            if X_train[feat_1].equals(X_train[feat_2]):\n",
    "\n",
    "                # if it is identical, append it to the list in the dictionary\n",
    "                duplicated_feat_pairs[feat_1].append(feat_2)\n",
    "                \n",
    "                # and append it to our monitor list for duplicated variables\n",
    "                _duplicated_feat.append(feat_2)\n",
    "                \n",
    "                # done!"
   ]
  },
  {
   "cell_type": "code",
   "execution_count": null,
   "metadata": {},
   "outputs": [],
   "source": [
    "len(_duplicated_feat)"
   ]
  },
  {
   "cell_type": "markdown",
   "metadata": {},
   "source": [
    "No duplicated variables!"
   ]
  },
  {
   "cell_type": "code",
   "execution_count": null,
   "metadata": {},
   "outputs": [],
   "source": []
  }
 ],
 "metadata": {
  "kernelspec": {
   "display_name": "Python [conda env:learn-env] *",
   "language": "python",
   "name": "conda-env-learn-env-py"
  },
  "language_info": {
   "codemirror_mode": {
    "name": "ipython",
    "version": 3
   },
   "file_extension": ".py",
   "mimetype": "text/x-python",
   "name": "python",
   "nbconvert_exporter": "python",
   "pygments_lexer": "ipython3",
   "version": "3.6.9"
  },
  "toc": {
   "base_numbering": 1,
   "nav_menu": {},
   "number_sections": true,
   "sideBar": true,
   "skip_h1_title": false,
   "title_cell": "Table of Contents",
   "title_sidebar": "Contents",
   "toc_cell": false,
   "toc_position": {},
   "toc_section_display": true,
   "toc_window_display": false
  },
  "varInspector": {
   "cols": {
    "lenName": 16,
    "lenType": 16,
    "lenVar": 40
   },
   "kernels_config": {
    "python": {
     "delete_cmd_postfix": "",
     "delete_cmd_prefix": "del ",
     "library": "var_list.py",
     "varRefreshCmd": "print(var_dic_list())"
    },
    "r": {
     "delete_cmd_postfix": ") ",
     "delete_cmd_prefix": "rm(",
     "library": "var_list.r",
     "varRefreshCmd": "cat(var_dic_list()) "
    }
   },
   "types_to_exclude": [
    "module",
    "function",
    "builtin_function_or_method",
    "instance",
    "_Feature"
   ],
   "window_display": false
  }
 },
 "nbformat": 4,
 "nbformat_minor": 2
}
